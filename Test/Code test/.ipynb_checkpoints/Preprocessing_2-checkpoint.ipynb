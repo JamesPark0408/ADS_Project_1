{
 "cells": [
  {
   "cell_type": "code",
   "execution_count": 125,
   "id": "31d443ad",
   "metadata": {
    "ExecuteTime": {
     "end_time": "2022-08-17T23:39:13.342985Z",
     "start_time": "2022-08-17T23:39:13.299337Z"
    }
   },
   "outputs": [],
   "source": [
    "from pyspark.sql import SparkSession\n",
    "from pyspark.sql import functions as F"
   ]
  },
  {
   "cell_type": "code",
   "execution_count": 126,
   "id": "ac6b3227",
   "metadata": {
    "ExecuteTime": {
     "end_time": "2022-08-17T23:39:13.651102Z",
     "start_time": "2022-08-17T23:39:13.429744Z"
    }
   },
   "outputs": [],
   "source": [
    "# Create a spark session (which will run spark jobs)\n",
    "spark = (\n",
    "    SparkSession.builder.appName(\"MAST30034 Project 1\")\n",
    "    .config(\"spark.sql.repl.eagerEval.enabled\", True) \n",
    "    .config(\"spark.sql.parquet.cacheMetadata\", \"true\")\n",
    "    .config(\"spark.sql.session.timeZone\", \"Etc/UTC\")\n",
    "    .config(\"spark.driver.memory\", \"2g\")\n",
    "    .config(\"spark.executor.memory\", \"4g\")\n",
    "    .getOrCreate()\n",
    ")"
   ]
  },
  {
   "cell_type": "code",
   "execution_count": 127,
   "id": "f7cc9e0e",
   "metadata": {
    "ExecuteTime": {
     "end_time": "2022-08-17T23:39:16.191112Z",
     "start_time": "2022-08-17T23:39:13.659278Z"
    }
   },
   "outputs": [
    {
     "data": {
      "text/html": [
       "<table border='1'>\n",
       "<tr><th>Date</th><th>lpep_pickup_datetime</th><th>lpep_dropoff_datetime</th><th>store_and_fwd_flag</th><th>RatecodeID</th><th>PULocationID</th><th>DOLocationID</th><th>passenger_count</th><th>fare</th><th>trip_type</th><th>shift</th><th>Day</th><th>temp</th></tr>\n",
       "<tr><td>2021-08-01</td><td>2021-08-01 00:36:25</td><td>2021-08-01 00:43:35</td><td>N</td><td>1.0</td><td>41</td><td>74</td><td>1.0</td><td>7.8</td><td>1.0</td><td>Night</td><td>Sun</td><td>71</td></tr>\n",
       "<tr><td>2021-08-01</td><td>2021-08-01 00:47:18</td><td>2021-08-01 00:50:48</td><td>N</td><td>1.0</td><td>41</td><td>74</td><td>1.0</td><td>6.3</td><td>1.0</td><td>Night</td><td>Sun</td><td>71</td></tr>\n",
       "<tr><td>2021-08-01</td><td>2021-08-01 00:08:34</td><td>2021-08-01 00:12:09</td><td>N</td><td>1.0</td><td>95</td><td>95</td><td>2.0</td><td>6.3</td><td>1.0</td><td>Night</td><td>Sun</td><td>71</td></tr>\n",
       "<tr><td>2021-08-01</td><td>2021-08-01 00:05:32</td><td>2021-08-01 00:20:07</td><td>N</td><td>1.0</td><td>7</td><td>173</td><td>1.0</td><td>15.3</td><td>1.0</td><td>Night</td><td>Sun</td><td>71</td></tr>\n",
       "<tr><td>2021-08-01</td><td>2021-08-01 00:38:24</td><td>2021-08-01 00:46:52</td><td>N</td><td>1.0</td><td>129</td><td>82</td><td>1.0</td><td>8.8</td><td>1.0</td><td>Night</td><td>Sun</td><td>71</td></tr>\n",
       "</table>\n"
      ],
      "text/plain": [
       "+----------+--------------------+---------------------+------------------+----------+------------+------------+---------------+----+---------+-----+---+----+\n",
       "|      Date|lpep_pickup_datetime|lpep_dropoff_datetime|store_and_fwd_flag|RatecodeID|PULocationID|DOLocationID|passenger_count|fare|trip_type|shift|Day|temp|\n",
       "+----------+--------------------+---------------------+------------------+----------+------------+------------+---------------+----+---------+-----+---+----+\n",
       "|2021-08-01| 2021-08-01 00:36:25|  2021-08-01 00:43:35|                 N|       1.0|          41|          74|            1.0| 7.8|      1.0|Night|Sun|  71|\n",
       "|2021-08-01| 2021-08-01 00:47:18|  2021-08-01 00:50:48|                 N|       1.0|          41|          74|            1.0| 6.3|      1.0|Night|Sun|  71|\n",
       "|2021-08-01| 2021-08-01 00:08:34|  2021-08-01 00:12:09|                 N|       1.0|          95|          95|            2.0| 6.3|      1.0|Night|Sun|  71|\n",
       "|2021-08-01| 2021-08-01 00:05:32|  2021-08-01 00:20:07|                 N|       1.0|           7|         173|            1.0|15.3|      1.0|Night|Sun|  71|\n",
       "|2021-08-01| 2021-08-01 00:38:24|  2021-08-01 00:46:52|                 N|       1.0|         129|          82|            1.0| 8.8|      1.0|Night|Sun|  71|\n",
       "+----------+--------------------+---------------------+------------------+----------+------------+------------+---------------+----+---------+-----+---+----+"
      ]
     },
     "execution_count": 127,
     "metadata": {},
     "output_type": "execute_result"
    }
   ],
   "source": [
    "# For feature selection\n",
    "sdf_data = spark.read.parquet('../data/curated/result/')\n",
    "sdf_data.limit(5)"
   ]
  },
  {
   "cell_type": "code",
   "execution_count": 128,
   "id": "ed85de02",
   "metadata": {
    "ExecuteTime": {
     "end_time": "2022-08-17T23:39:16.498074Z",
     "start_time": "2022-08-17T23:39:16.194989Z"
    }
   },
   "outputs": [
    {
     "data": {
      "text/plain": [
       "602599"
      ]
     },
     "execution_count": 128,
     "metadata": {},
     "output_type": "execute_result"
    }
   ],
   "source": [
    "sdf_data.count()"
   ]
  },
  {
   "cell_type": "code",
   "execution_count": 129,
   "id": "fa63e405",
   "metadata": {
    "ExecuteTime": {
     "end_time": "2022-08-17T23:39:16.517592Z",
     "start_time": "2022-08-17T23:39:16.509708Z"
    }
   },
   "outputs": [],
   "source": [
    "# Feature Selection\n",
    "\n",
    "# \n",
    "# Vendor_ID removed as well because we are looking at green taxis in general\n",
    "# As our research question is based on best place to pickup for max profits, we do not need dropoff location or time\n",
    "# Rate code is also not necessary as it is already accounted for in the fare accordingly\n",
    "# Passenger count does not affec tthe fare as the fare is time-distanced.\n",
    "# Trip_type would not matter as well because if a taxi were to be dispatched, it would have to be in a close proximity to the rider, \n",
    "#  which would almost be the same as street-hail\n",
    "# Store_and_fws_flag just indicates whether the trip record was held in vehicle memory before sending to the vendor so\n",
    "#  it is irrelevant to our analysis\n",
    "# For time data, we will only include the shift as we are only concerned with the shift that the driver is taking in each day\n"
   ]
  },
  {
   "cell_type": "code",
   "execution_count": 130,
   "id": "e1378ef1",
   "metadata": {
    "ExecuteTime": {
     "end_time": "2022-08-17T23:39:16.571329Z",
     "start_time": "2022-08-17T23:39:16.521657Z"
    }
   },
   "outputs": [],
   "source": [
    "rel_col = ('PULocationID', 'day', 'shift', 'fare', 'temp', 'Date')\n",
    "sdf_data_trunc = sdf_data.select(*rel_col)\n"
   ]
  },
  {
   "cell_type": "code",
   "execution_count": 131,
   "id": "a29f0aee",
   "metadata": {
    "ExecuteTime": {
     "end_time": "2022-08-17T23:39:16.629818Z",
     "start_time": "2022-08-17T23:39:16.574520Z"
    }
   },
   "outputs": [],
   "source": [
    "# We want to save the last two month of data for prediction from models\n",
    "predict_sdf = sdf_data_trunc.filter(F.col('Date') > '2022-02-28')\n",
    "sdf_result = sdf_data_trunc.filter(F.col('Date') <= '2022-02-28')"
   ]
  },
  {
   "cell_type": "code",
   "execution_count": 132,
   "id": "f1f164cc",
   "metadata": {
    "ExecuteTime": {
     "end_time": "2022-08-17T23:39:21.136535Z",
     "start_time": "2022-08-17T23:39:16.635543Z"
    }
   },
   "outputs": [],
   "source": [
    "predict_sdf.write.mode('overwrite').parquet('../data/curated/result_predict')\n",
    "sdf_result.write.mode('overwrite').parquet('../data/curated/result_data')"
   ]
  },
  {
   "cell_type": "code",
   "execution_count": null,
   "id": "5e8600ff",
   "metadata": {},
   "outputs": [],
   "source": []
  },
  {
   "cell_type": "code",
   "execution_count": null,
   "id": "6c6f008e",
   "metadata": {},
   "outputs": [],
   "source": []
  },
  {
   "cell_type": "code",
   "execution_count": null,
   "id": "6acaa189",
   "metadata": {},
   "outputs": [],
   "source": []
  }
 ],
 "metadata": {
  "kernelspec": {
   "display_name": "Python 3",
   "language": "python",
   "name": "python3"
  },
  "language_info": {
   "codemirror_mode": {
    "name": "ipython",
    "version": 3
   },
   "file_extension": ".py",
   "mimetype": "text/x-python",
   "name": "python",
   "nbconvert_exporter": "python",
   "pygments_lexer": "ipython3",
   "version": "3.8.8"
  },
  "toc": {
   "base_numbering": 1,
   "nav_menu": {},
   "number_sections": true,
   "sideBar": true,
   "skip_h1_title": false,
   "title_cell": "Table of Contents",
   "title_sidebar": "Contents",
   "toc_cell": false,
   "toc_position": {},
   "toc_section_display": true,
   "toc_window_display": false
  }
 },
 "nbformat": 4,
 "nbformat_minor": 5
}
