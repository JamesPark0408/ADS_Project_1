{
 "cells": [
  {
   "cell_type": "code",
   "execution_count": 12,
   "id": "8870a23c",
   "metadata": {
    "ExecuteTime": {
     "end_time": "2022-08-16T20:33:41.277694Z",
     "start_time": "2022-08-16T20:33:41.236640Z"
    }
   },
   "outputs": [],
   "source": [
    "import os\n",
    "from urllib.request import urlretrieve\n",
    "\n",
    "# from the current `tute_1` directory, go back two levels to the `MAST30034` directory\n",
    "output_relative_dir = '../data/'\n",
    "\n",
    "# check if it exists as it makedir will raise an error if it does exist\n",
    "if not os.path.exists(output_relative_dir):\n",
    "    os.makedirs(output_relative_dir)\n",
    "    \n",
    "# Create the path for green taxi dataset\n",
    "for target_dir in ['green_data', 'curated']:\n",
    "    if not os.path.exists(output_relative_dir + target_dir):\n",
    "        os.makedirs(output_relative_dir + target_dir)"
   ]
  },
  {
   "cell_type": "code",
   "execution_count": 5,
   "id": "68f92816",
   "metadata": {
    "ExecuteTime": {
     "end_time": "2022-08-16T09:16:36.585612Z",
     "start_time": "2022-08-16T09:16:18.838904Z"
    }
   },
   "outputs": [
    {
     "name": "stdout",
     "output_type": "stream",
     "text": [
      "Begin year 2021\n",
      "Begin month 07\n",
      "Completed month 07\n",
      "Begin month 08\n",
      "Completed month 08\n",
      "Begin month 09\n",
      "Completed month 09\n",
      "Begin month 10\n",
      "Completed month 10\n",
      "Begin month 11\n",
      "Completed month 11\n",
      "Begin month 12\n",
      "Completed month 12\n",
      "Completed year 2021\n",
      "Begin year 2022\n",
      "Begin month 01\n",
      "Completed month 01\n",
      "Begin month 02\n",
      "Completed month 02\n",
      "Begin month 03\n",
      "Completed month 03\n",
      "Begin month 04\n",
      "Completed month 04\n",
      "Completed year 2022\n"
     ]
    }
   ],
   "source": [
    "# data output directory is `data/tlc_data/`\n",
    "\n",
    "YEARS = ['2021', '2022']\n",
    "tlc_output_dir = output_relative_dir + target_dir\n",
    "URL = \"https://d37ci6vzurychx.cloudfront.net/trip-data/green_tripdata_\"\n",
    "\n",
    "# Downloading data into green_data file\n",
    "for year in YEARS:\n",
    "    print(\"Begin year \" + year)\n",
    "\n",
    "    # We only want data from July 2021 onwards (April 2022 is the last released data)\n",
    "    if year == '2021':\n",
    "        MONTHS = range(7,13)\n",
    "    else:\n",
    "        MONTHS = range(1,5)\n",
    "\n",
    "    for month in MONTHS:\n",
    "\n",
    "        # 0-fill i.e 1 -> 01, 2 -> 02, etc\n",
    "        month = str(month).zfill(2)\n",
    "        print(f\"Begin month {month}\")\n",
    "\n",
    "        # generate url\n",
    "        url = f'{URL}{year}-{month}.parquet'\n",
    "        \n",
    "        # generate output location and filename\n",
    "        output_dir = f\"{tlc_output_dir}/{year}-{month}.parquet\"\n",
    "        \n",
    "        # download\n",
    "        urlretrieve(url, output_dir) \n",
    "\n",
    "        print(f\"Completed month {month}\")\n",
    "    print(\"Completed year \" + year)\n"
   ]
  },
  {
   "cell_type": "code",
   "execution_count": null,
   "id": "e9beec11",
   "metadata": {},
   "outputs": [],
   "source": []
  }
 ],
 "metadata": {
  "kernelspec": {
   "display_name": "Python 3",
   "language": "python",
   "name": "python3"
  },
  "language_info": {
   "codemirror_mode": {
    "name": "ipython",
    "version": 3
   },
   "file_extension": ".py",
   "mimetype": "text/x-python",
   "name": "python",
   "nbconvert_exporter": "python",
   "pygments_lexer": "ipython3",
   "version": "3.8.8"
  },
  "toc": {
   "base_numbering": 1,
   "nav_menu": {},
   "number_sections": true,
   "sideBar": true,
   "skip_h1_title": false,
   "title_cell": "Table of Contents",
   "title_sidebar": "Contents",
   "toc_cell": false,
   "toc_position": {},
   "toc_section_display": true,
   "toc_window_display": false
  }
 },
 "nbformat": 4,
 "nbformat_minor": 5
}
