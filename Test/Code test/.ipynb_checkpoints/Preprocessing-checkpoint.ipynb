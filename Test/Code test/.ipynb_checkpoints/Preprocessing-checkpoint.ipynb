{
 "cells": [
  {
   "cell_type": "code",
   "execution_count": 160,
   "id": "8f72e490",
   "metadata": {
    "ExecuteTime": {
     "end_time": "2022-08-16T20:37:35.128343Z",
     "start_time": "2022-08-16T20:37:35.095170Z"
    }
   },
   "outputs": [],
   "source": [
    "from pyspark.sql import SparkSession\n",
    "from pyspark.sql import functions as F"
   ]
  },
  {
   "cell_type": "code",
   "execution_count": 27,
   "id": "b9893bf6",
   "metadata": {
    "ExecuteTime": {
     "end_time": "2022-08-16T09:18:00.922572Z",
     "start_time": "2022-08-16T09:18:00.825794Z"
    }
   },
   "outputs": [],
   "source": [
    "\n",
    "\n",
    "# Create a spark session (which will run spark jobs)\n",
    "spark = (\n",
    "    SparkSession.builder.appName(\"MAST30034 Project 1\")\n",
    "    .config(\"spark.sql.repl.eagerEval.enabled\", True) \n",
    "    .config(\"spark.sql.parquet.cacheMetadata\", \"true\")\n",
    "    .config(\"spark.sql.session.timeZone\", \"Etc/UTC\")\n",
    "    .config(\"spark.driver.memory\", \"2g\")\n",
    "    .config(\"spark.executor.memory\", \"4g\")\n",
    "    .getOrCreate()\n",
    ")"
   ]
  },
  {
   "cell_type": "code",
   "execution_count": 28,
   "id": "a60cbfad",
   "metadata": {
    "ExecuteTime": {
     "end_time": "2022-08-16T09:18:02.861925Z",
     "start_time": "2022-08-16T09:18:01.968290Z"
    },
    "scrolled": true
   },
   "outputs": [],
   "source": [
    "sdf_green = spark.read.parquet('../data/green_data/')"
   ]
  },
  {
   "cell_type": "code",
   "execution_count": 29,
   "id": "8eb3b3a6",
   "metadata": {
    "ExecuteTime": {
     "end_time": "2022-08-16T09:18:03.190759Z",
     "start_time": "2022-08-16T09:18:02.864297Z"
    }
   },
   "outputs": [
    {
     "data": {
      "text/plain": [
       "868547"
      ]
     },
     "execution_count": 29,
     "metadata": {},
     "output_type": "execute_result"
    }
   ],
   "source": [
    "sdf_green.count()"
   ]
  },
  {
   "cell_type": "code",
   "execution_count": 32,
   "id": "21dc7a00",
   "metadata": {
    "ExecuteTime": {
     "end_time": "2022-08-16T12:08:24.964289Z",
     "start_time": "2022-08-16T12:08:24.765893Z"
    }
   },
   "outputs": [
    {
     "name": "stdout",
     "output_type": "stream",
     "text": [
      "root\n",
      " |-- VendorID: long (nullable = true)\n",
      " |-- lpep_pickup_datetime: timestamp (nullable = true)\n",
      " |-- lpep_dropoff_datetime: timestamp (nullable = true)\n",
      " |-- store_and_fwd_flag: string (nullable = true)\n",
      " |-- RatecodeID: double (nullable = true)\n",
      " |-- PULocationID: long (nullable = true)\n",
      " |-- DOLocationID: long (nullable = true)\n",
      " |-- passenger_count: double (nullable = true)\n",
      " |-- trip_distance: double (nullable = true)\n",
      " |-- fare_amount: double (nullable = true)\n",
      " |-- extra: double (nullable = true)\n",
      " |-- mta_tax: double (nullable = true)\n",
      " |-- tip_amount: double (nullable = true)\n",
      " |-- tolls_amount: double (nullable = true)\n",
      " |-- ehail_fee: integer (nullable = true)\n",
      " |-- improvement_surcharge: double (nullable = true)\n",
      " |-- total_amount: double (nullable = true)\n",
      " |-- payment_type: double (nullable = true)\n",
      " |-- trip_type: double (nullable = true)\n",
      " |-- congestion_surcharge: double (nullable = true)\n",
      "\n"
     ]
    }
   ],
   "source": [
    "sdf_green.printSchema()"
   ]
  },
  {
   "cell_type": "code",
   "execution_count": 31,
   "id": "f00f8c1f",
   "metadata": {
    "ExecuteTime": {
     "end_time": "2022-08-16T09:18:18.222962Z",
     "start_time": "2022-08-16T09:18:17.489407Z"
    }
   },
   "outputs": [
    {
     "data": {
      "text/html": [
       "<table border='1'>\n",
       "<tr><th>VendorID</th><th>lpep_pickup_datetime</th><th>lpep_dropoff_datetime</th><th>store_and_fwd_flag</th><th>RatecodeID</th><th>PULocationID</th><th>DOLocationID</th><th>passenger_count</th><th>trip_distance</th><th>fare_amount</th><th>extra</th><th>mta_tax</th><th>tip_amount</th><th>tolls_amount</th><th>ehail_fee</th><th>improvement_surcharge</th><th>total_amount</th><th>payment_type</th><th>trip_type</th><th>congestion_surcharge</th></tr>\n",
       "<tr><td>2</td><td>2021-09-30 18:39:03</td><td>2021-09-30 18:39:06</td><td>N</td><td>5.0</td><td>37</td><td>37</td><td>1.0</td><td>0.02</td><td>10.0</td><td>0.0</td><td>0.0</td><td>0.0</td><td>0.0</td><td>null</td><td>0.3</td><td>10.3</td><td>1.0</td><td>2.0</td><td>0.0</td></tr>\n",
       "<tr><td>2</td><td>2021-10-01 00:47:50</td><td>2021-10-01 01:00:04</td><td>N</td><td>5.0</td><td>92</td><td>82</td><td>2.0</td><td>3.44</td><td>20.0</td><td>0.0</td><td>0.0</td><td>0.0</td><td>0.0</td><td>null</td><td>0.3</td><td>20.3</td><td>2.0</td><td>2.0</td><td>0.0</td></tr>\n",
       "<tr><td>2</td><td>2021-10-01 00:23:10</td><td>2021-10-01 00:34:26</td><td>N</td><td>5.0</td><td>41</td><td>167</td><td>2.0</td><td>2.44</td><td>13.0</td><td>0.0</td><td>0.0</td><td>0.0</td><td>0.0</td><td>null</td><td>0.3</td><td>13.3</td><td>2.0</td><td>2.0</td><td>0.0</td></tr>\n",
       "<tr><td>2</td><td>2021-10-01 00:37:35</td><td>2021-10-01 00:43:37</td><td>N</td><td>1.0</td><td>134</td><td>135</td><td>1.0</td><td>1.67</td><td>7.0</td><td>0.5</td><td>0.5</td><td>0.0</td><td>0.0</td><td>null</td><td>0.3</td><td>8.3</td><td>1.0</td><td>1.0</td><td>0.0</td></tr>\n",
       "<tr><td>2</td><td>2021-10-01 00:43:28</td><td>2021-10-01 00:48:26</td><td>N</td><td>1.0</td><td>119</td><td>247</td><td>1.0</td><td>0.99</td><td>5.5</td><td>0.5</td><td>0.5</td><td>0.0</td><td>0.0</td><td>null</td><td>0.3</td><td>6.8</td><td>2.0</td><td>1.0</td><td>0.0</td></tr>\n",
       "</table>\n"
      ],
      "text/plain": [
       "+--------+--------------------+---------------------+------------------+----------+------------+------------+---------------+-------------+-----------+-----+-------+----------+------------+---------+---------------------+------------+------------+---------+--------------------+\n",
       "|VendorID|lpep_pickup_datetime|lpep_dropoff_datetime|store_and_fwd_flag|RatecodeID|PULocationID|DOLocationID|passenger_count|trip_distance|fare_amount|extra|mta_tax|tip_amount|tolls_amount|ehail_fee|improvement_surcharge|total_amount|payment_type|trip_type|congestion_surcharge|\n",
       "+--------+--------------------+---------------------+------------------+----------+------------+------------+---------------+-------------+-----------+-----+-------+----------+------------+---------+---------------------+------------+------------+---------+--------------------+\n",
       "|       2| 2021-09-30 18:39:03|  2021-09-30 18:39:06|                 N|       5.0|          37|          37|            1.0|         0.02|       10.0|  0.0|    0.0|       0.0|         0.0|     null|                  0.3|        10.3|         1.0|      2.0|                 0.0|\n",
       "|       2| 2021-10-01 00:47:50|  2021-10-01 01:00:04|                 N|       5.0|          92|          82|            2.0|         3.44|       20.0|  0.0|    0.0|       0.0|         0.0|     null|                  0.3|        20.3|         2.0|      2.0|                 0.0|\n",
       "|       2| 2021-10-01 00:23:10|  2021-10-01 00:34:26|                 N|       5.0|          41|         167|            2.0|         2.44|       13.0|  0.0|    0.0|       0.0|         0.0|     null|                  0.3|        13.3|         2.0|      2.0|                 0.0|\n",
       "|       2| 2021-10-01 00:37:35|  2021-10-01 00:43:37|                 N|       1.0|         134|         135|            1.0|         1.67|        7.0|  0.5|    0.5|       0.0|         0.0|     null|                  0.3|         8.3|         1.0|      1.0|                 0.0|\n",
       "|       2| 2021-10-01 00:43:28|  2021-10-01 00:48:26|                 N|       1.0|         119|         247|            1.0|         0.99|        5.5|  0.5|    0.5|       0.0|         0.0|     null|                  0.3|         6.8|         2.0|      1.0|                 0.0|\n",
       "+--------+--------------------+---------------------+------------------+----------+------------+------------+---------------+-------------+-----------+-----+-------+----------+------------+---------+---------------------+------------+------------+---------+--------------------+"
      ]
     },
     "execution_count": 31,
     "metadata": {},
     "output_type": "execute_result"
    }
   ],
   "source": [
    "sdf_green.limit(5)"
   ]
  },
  {
   "cell_type": "code",
   "execution_count": 110,
   "id": "e7e8373e",
   "metadata": {
    "ExecuteTime": {
     "end_time": "2022-08-16T18:57:10.790136Z",
     "start_time": "2022-08-16T18:57:09.842415Z"
    }
   },
   "outputs": [
    {
     "data": {
      "text/plain": [
       "868547"
      ]
     },
     "execution_count": 110,
     "metadata": {},
     "output_type": "execute_result"
    }
   ],
   "source": [
    "relevant_cols = ('lpep_pickup_datetime', 'PULocationID', 'total_amount', 'tip_amount')\n",
    "sdf_green_cur = sdf_green.select(*relevant_cols)\n",
    "sdf_green_cur"
   ]
  },
  {
   "cell_type": "code",
   "execution_count": 151,
   "id": "83b9a541",
   "metadata": {
    "ExecuteTime": {
     "end_time": "2022-08-16T19:44:59.292124Z",
     "start_time": "2022-08-16T19:44:57.560639Z"
    }
   },
   "outputs": [
    {
     "data": {
      "text/html": [
       "<table border='1'>\n",
       "<tr><th>PULocationID</th><th>hour</th><th>fare</th><th>day</th><th>Date</th></tr>\n",
       "<tr><td>74</td><td>2021-07-01 00</td><td>10.15</td><td>5</td><td>2021-07-01</td></tr>\n",
       "<tr><td>140</td><td>2021-07-01 00</td><td>37.39</td><td>5</td><td>2021-07-01</td></tr>\n",
       "<tr><td>24</td><td>2021-07-01 00</td><td>12.05</td><td>5</td><td>2021-07-01</td></tr>\n",
       "<tr><td>7</td><td>2021-07-01 00</td><td>73.35</td><td>5</td><td>2021-07-01</td></tr>\n",
       "<tr><td>127</td><td>2021-07-01 00</td><td>16.05</td><td>5</td><td>2021-07-01</td></tr>\n",
       "</table>\n"
      ],
      "text/plain": [
       "+------------+-------------+-----+---+----------+\n",
       "|PULocationID|         hour| fare|day|      Date|\n",
       "+------------+-------------+-----+---+----------+\n",
       "|          74|2021-07-01 00|10.15|  5|2021-07-01|\n",
       "|         140|2021-07-01 00|37.39|  5|2021-07-01|\n",
       "|          24|2021-07-01 00|12.05|  5|2021-07-01|\n",
       "|           7|2021-07-01 00|73.35|  5|2021-07-01|\n",
       "|         127|2021-07-01 00|16.05|  5|2021-07-01|\n",
       "+------------+-------------+-----+---+----------+"
      ]
     },
     "execution_count": 151,
     "metadata": {},
     "output_type": "execute_result"
    }
   ],
   "source": [
    "# Split the datetime to days(Mon,Tue,...,Sun) and Day(3am-6pm)/ Night(6pm -3am)\n",
    "# 1 - Sunday, 2-Monday, ..., 7-Saturday\n",
    "\n",
    "sdf_green_pre = sdf_green_cur.withColumn('day', F.dayofweek('lpep_pickup_datetime'))\n",
    "sdf_green_pre = sdf_green_pre.withColumn('time', F.date_format('lpep_pickup_datetime', 'HH:mm:ss'))\n",
    "sdf_green_pre = sdf_green_pre.withColumn('fare', F.round(F.col('total_amount')-F.col('tip_amount'),2))\n",
    "\n",
    "relevant_cols = ('lpep_pickup_datetime', 'PULocationID', 'fare', 'day')\n",
    "sdf_green_pre2 = sdf_green_pre.select(*relevant_cols)\n",
    "sdf_green_pre3 = sdf_green_pre2.filter(F.col('fare')>0)\n",
    "sdf_green_pre3 = sdf_green_pre3.withColumn('Date',F.to_date('lpep_pickup_datetime'))\n",
    "sdf_green_pre3 = sdf_green_pre3.withColumn('hour' , F.date_format('lpep_pickup_datetime',\"yyyy-MM-dd HH\"))\n",
    "\n",
    "# Now we want data aggregated to hours based on location\n",
    "sdf_green_pre4 = sdf_green_pre3.groupBy('PULocationID','hour') \\\n",
    "                 .agg(\n",
    "                        F.mean('fare').alias('fare'),\n",
    "                        F.last('day').alias('day'),\n",
    "                        F.last('Date').alias('Date')\n",
    "                    ) \\\n",
    "                 .orderBy('hour')\n",
    "sdf_green_pre5 = sdf_green_pre4.filter(F.col('Date') >='2021-07-01')\n",
    "sdf_green_pre5.limit(5)"
   ]
  },
  {
   "cell_type": "code",
   "execution_count": 56,
   "id": "316cc08a",
   "metadata": {
    "ExecuteTime": {
     "end_time": "2022-08-16T18:03:45.485116Z",
     "start_time": "2022-08-16T18:03:44.564136Z"
    }
   },
   "outputs": [
    {
     "data": {
      "text/plain": [
       "Row(STATION='USC00280907', NAME='BOONTON 1 SE, NJ US', DATE='2021-07-01', PRCP='0.23', SNOW='0.0', SNWD='0.0', TAVG=None, TOBS='73', WESD=None, WT01=None, WT02=None, WT03=None, WT04=None, WT05=None, WT06=None, WT08=None, WT09=None, WT11=None)"
      ]
     },
     "execution_count": 56,
     "metadata": {},
     "output_type": "execute_result"
    }
   ],
   "source": [
    "# Now we import the weather dataset to be added\n",
    "weather = spark.read.option(\"header\",True).csv(\"../data/Weather.csv\")\n",
    "weather.head()"
   ]
  },
  {
   "cell_type": "code",
   "execution_count": 81,
   "id": "175e0aa8",
   "metadata": {
    "ExecuteTime": {
     "end_time": "2022-08-16T18:32:39.648886Z",
     "start_time": "2022-08-16T18:32:39.185958Z"
    }
   },
   "outputs": [
    {
     "data": {
      "text/html": [
       "<table border='1'>\n",
       "<tr><th>NAME</th><th>DATE</th><th>TAVG</th></tr>\n",
       "<tr><td>NY CITY CENTRAL P...</td><td>2021-07-01</td><td>null</td></tr>\n",
       "<tr><td>NY CITY CENTRAL P...</td><td>2021-07-02</td><td>null</td></tr>\n",
       "<tr><td>NY CITY CENTRAL P...</td><td>2021-07-03</td><td>null</td></tr>\n",
       "<tr><td>NY CITY CENTRAL P...</td><td>2021-07-04</td><td>null</td></tr>\n",
       "<tr><td>NY CITY CENTRAL P...</td><td>2021-07-05</td><td>null</td></tr>\n",
       "</table>\n"
      ],
      "text/plain": [
       "+--------------------+----------+----+\n",
       "|                NAME|      DATE|TAVG|\n",
       "+--------------------+----------+----+\n",
       "|NY CITY CENTRAL P...|2021-07-01|null|\n",
       "|NY CITY CENTRAL P...|2021-07-02|null|\n",
       "|NY CITY CENTRAL P...|2021-07-03|null|\n",
       "|NY CITY CENTRAL P...|2021-07-04|null|\n",
       "|NY CITY CENTRAL P...|2021-07-05|null|\n",
       "+--------------------+----------+----+"
      ]
     },
     "execution_count": 81,
     "metadata": {},
     "output_type": "execute_result"
    }
   ],
   "source": [
    "# Only want the 3 stations near New York City\n",
    "rel_cols = ('NAME', 'DATE', 'TAVG')\n",
    "weather_NYC = weather.select(*rel_cols).filter((F.col('NAME') == 'JFK INTERNATIONAL AIRPORT, NY US')\n",
    "                                               |(F.col('NAME') == 'NEWARK LIBERTY INTERNATIONAL AIRPORT, NJ US')\n",
    "                                               |(F.col('NAME') == 'NY CITY CENTRAL PARK, NY US')\n",
    "                                              )\n",
    "\n",
    "weather_NYC.filter(F.col('NAME') == 'NY CITY CENTRAL PARK, NY US').limit(5)"
   ]
  },
  {
   "cell_type": "code",
   "execution_count": 118,
   "id": "78ded4f1",
   "metadata": {
    "ExecuteTime": {
     "end_time": "2022-08-16T19:02:57.388982Z",
     "start_time": "2022-08-16T19:02:56.818253Z"
    }
   },
   "outputs": [
    {
     "data": {
      "text/html": [
       "<table border='1'>\n",
       "<tr><th>NAME</th><th>Date</th><th>TAVG</th><th>WTAVG</th></tr>\n",
       "<tr><td>NEWARK LIBERTY IN...</td><td>2021-07-01</td><td>80</td><td>53</td></tr>\n",
       "<tr><td>NEWARK LIBERTY IN...</td><td>2021-07-02</td><td>75</td><td>50</td></tr>\n",
       "<tr><td>NEWARK LIBERTY IN...</td><td>2021-07-03</td><td>65</td><td>43</td></tr>\n",
       "<tr><td>NEWARK LIBERTY IN...</td><td>2021-07-04</td><td>71</td><td>47</td></tr>\n",
       "<tr><td>NEWARK LIBERTY IN...</td><td>2021-07-05</td><td>77</td><td>51</td></tr>\n",
       "</table>\n"
      ],
      "text/plain": [
       "+--------------------+----------+----+-----+\n",
       "|                NAME|      Date|TAVG|WTAVG|\n",
       "+--------------------+----------+----+-----+\n",
       "|NEWARK LIBERTY IN...|2021-07-01|  80|   53|\n",
       "|NEWARK LIBERTY IN...|2021-07-02|  75|   50|\n",
       "|NEWARK LIBERTY IN...|2021-07-03|  65|   43|\n",
       "|NEWARK LIBERTY IN...|2021-07-04|  71|   47|\n",
       "|NEWARK LIBERTY IN...|2021-07-05|  77|   51|\n",
       "+--------------------+----------+----+-----+"
      ]
     },
     "execution_count": 118,
     "metadata": {},
     "output_type": "execute_result"
    }
   ],
   "source": [
    "# As NYC Central Park does not have data for temperature, we will use Newark and JFK instead\n",
    "# Using the appropriated percentage according to weatherspark, we will split the weightage of 58% of central park accordingly to Newark and JFK (2:1 ratio)\n",
    "# So Newark is 67% while JFK contributes 33%\n",
    "\n",
    "weather_NYC = weather.select(*rel_cols).filter((F.col('NAME') == 'JFK INTERNATIONAL AIRPORT, NY US')\n",
    "                                               |(F.col('NAME') == 'NEWARK LIBERTY INTERNATIONAL AIRPORT, NJ US')\n",
    "                                              )\n",
    "weather_NYC = weather_NYC.withColumn('WTAVG', F.when((F.col('NAME') == 'NEWARK LIBERTY INTERNATIONAL AIRPORT, NJ US'),\n",
    "                                                        (F.col('TAVG')*2/3).cast('int')\n",
    "                                                    ).otherwise((F.col('TAVG')/3)).cast('int')\n",
    "                                    )\n",
    "weather_NYC = weather_NYC.withColumn('Date', F.to_date('DATE'))\n",
    "weather_NYC.limit(5)"
   ]
  },
  {
   "cell_type": "code",
   "execution_count": 157,
   "id": "8867ed75",
   "metadata": {
    "ExecuteTime": {
     "end_time": "2022-08-16T20:36:27.822705Z",
     "start_time": "2022-08-16T20:36:26.911294Z"
    }
   },
   "outputs": [
    {
     "data": {
      "text/html": [
       "<table border='1'>\n",
       "<tr><th>Date</th><th>temp</th></tr>\n",
       "<tr><td>2021-08-27</td><td>83</td></tr>\n",
       "<tr><td>2021-10-11</td><td>66</td></tr>\n",
       "<tr><td>2021-11-13</td><td>52</td></tr>\n",
       "<tr><td>2021-12-18</td><td>45</td></tr>\n",
       "<tr><td>2022-03-28</td><td>29</td></tr>\n",
       "</table>\n"
      ],
      "text/plain": [
       "+----------+----+\n",
       "|      Date|temp|\n",
       "+----------+----+\n",
       "|2021-08-27|  83|\n",
       "|2021-10-11|  66|\n",
       "|2021-11-13|  52|\n",
       "|2021-12-18|  45|\n",
       "|2022-03-28|  29|\n",
       "+----------+----+"
      ]
     },
     "execution_count": 157,
     "metadata": {},
     "output_type": "execute_result"
    }
   ],
   "source": [
    "# Now we aggregate the weighted average together\n",
    "cols = ('Date', 'WTAVG')\n",
    "weather_NYC_cur = weather_NYC.select(*cols)\n",
    "agg_NYC_weather = weather_NYC_cur.groupby('Date') \\\n",
    "                                 .agg(\n",
    "                                    F.sum('WTAVG').alias('temp')\n",
    "                                  )\n",
    "agg_NYC_weather.limit(5)"
   ]
  },
  {
   "cell_type": "code",
   "execution_count": 158,
   "id": "4c056151",
   "metadata": {
    "ExecuteTime": {
     "end_time": "2022-08-16T20:36:31.953156Z",
     "start_time": "2022-08-16T20:36:29.948478Z"
    }
   },
   "outputs": [
    {
     "data": {
      "text/html": [
       "<table border='1'>\n",
       "<tr><th>Date</th><th>PULocationID</th><th>hour</th><th>fare</th><th>day</th><th>temp</th></tr>\n",
       "<tr><td>2021-07-01</td><td>174</td><td>2021-07-01 11</td><td>33.465</td><td>5</td><td>78</td></tr>\n",
       "<tr><td>2021-07-01</td><td>236</td><td>2021-07-01 13</td><td>10.675</td><td>5</td><td>78</td></tr>\n",
       "<tr><td>2021-07-01</td><td>241</td><td>2021-07-01 22</td><td>26.74</td><td>5</td><td>78</td></tr>\n",
       "<tr><td>2021-07-01</td><td>121</td><td>2021-07-01 11</td><td>23.30666666666667</td><td>5</td><td>78</td></tr>\n",
       "<tr><td>2021-07-01</td><td>166</td><td>2021-07-01 10</td><td>14.22</td><td>5</td><td>78</td></tr>\n",
       "<tr><td>2021-07-01</td><td>116</td><td>2021-07-01 17</td><td>13.8</td><td>5</td><td>78</td></tr>\n",
       "<tr><td>2021-07-01</td><td>222</td><td>2021-07-01 11</td><td>37.2</td><td>5</td><td>78</td></tr>\n",
       "<tr><td>2021-07-01</td><td>228</td><td>2021-07-01 14</td><td>27.0</td><td>5</td><td>78</td></tr>\n",
       "<tr><td>2021-07-01</td><td>61</td><td>2021-07-01 10</td><td>26.096666666666668</td><td>5</td><td>78</td></tr>\n",
       "<tr><td>2021-07-01</td><td>254</td><td>2021-07-01 09</td><td>16.93</td><td>5</td><td>78</td></tr>\n",
       "<tr><td>2021-07-01</td><td>196</td><td>2021-07-01 08</td><td>43.0</td><td>5</td><td>78</td></tr>\n",
       "<tr><td>2021-07-01</td><td>9</td><td>2021-07-01 13</td><td>27.04</td><td>5</td><td>78</td></tr>\n",
       "<tr><td>2021-07-01</td><td>209</td><td>2021-07-01 16</td><td>60.0</td><td>5</td><td>78</td></tr>\n",
       "<tr><td>2021-07-01</td><td>41</td><td>2021-07-01 08</td><td>19.104000000000003</td><td>5</td><td>78</td></tr>\n",
       "<tr><td>2021-07-01</td><td>42</td><td>2021-07-01 12</td><td>9.044444444444444</td><td>5</td><td>78</td></tr>\n",
       "<tr><td>2021-07-01</td><td>250</td><td>2021-07-01 11</td><td>76.0</td><td>5</td><td>78</td></tr>\n",
       "<tr><td>2021-07-01</td><td>225</td><td>2021-07-01 11</td><td>36.115</td><td>5</td><td>78</td></tr>\n",
       "<tr><td>2021-07-01</td><td>97</td><td>2021-07-01 16</td><td>18.096666666666668</td><td>5</td><td>78</td></tr>\n",
       "<tr><td>2021-07-01</td><td>10</td><td>2021-07-01 08</td><td>42.745</td><td>5</td><td>78</td></tr>\n",
       "<tr><td>2021-07-01</td><td>212</td><td>2021-07-01 13</td><td>36.81333333333333</td><td>5</td><td>78</td></tr>\n",
       "</table>\n",
       "only showing top 20 rows\n"
      ],
      "text/plain": [
       "+----------+------------+-------------+------------------+---+----+\n",
       "|      Date|PULocationID|         hour|              fare|day|temp|\n",
       "+----------+------------+-------------+------------------+---+----+\n",
       "|2021-07-01|         209|2021-07-01 16|              60.0|  5|  78|\n",
       "|2021-07-01|         139|2021-07-01 18|             32.78|  5|  78|\n",
       "|2021-07-01|         225|2021-07-01 11|            36.115|  5|  78|\n",
       "|2021-07-01|         119|2021-07-01 17|              10.3|  5|  78|\n",
       "|2021-07-01|          28|2021-07-01 06|             57.35|  5|  78|\n",
       "|2021-07-01|         212|2021-07-01 11|               8.0|  5|  78|\n",
       "|2021-07-01|         166|2021-07-01 18|12.947777777777777|  5|  78|\n",
       "|2021-07-01|         222|2021-07-01 11|              37.2|  5|  78|\n",
       "|2021-07-01|         236|2021-07-01 13|            10.675|  5|  78|\n",
       "|2021-07-01|         169|2021-07-01 06|             59.35|  5|  78|\n",
       "|2021-07-01|         217|2021-07-01 18|              10.8|  5|  78|\n",
       "|2021-07-01|           9|2021-07-01 13|             27.04|  5|  78|\n",
       "|2021-07-01|         241|2021-07-01 22|             26.74|  5|  78|\n",
       "|2021-07-01|          41|2021-07-01 08|19.104000000000003|  5|  78|\n",
       "|2021-07-01|         174|2021-07-01 11|            33.465|  5|  78|\n",
       "|2021-07-01|         250|2021-07-01 11|              76.0|  5|  78|\n",
       "|2021-07-01|         166|2021-07-01 10|             14.22|  5|  78|\n",
       "|2021-07-01|          97|2021-07-01 16|18.096666666666668|  5|  78|\n",
       "|2021-07-01|         196|2021-07-01 08|              43.0|  5|  78|\n",
       "|2021-07-01|         212|2021-07-01 13| 36.81333333333333|  5|  78|\n",
       "+----------+------------+-------------+------------------+---+----+\n",
       "only showing top 20 rows"
      ]
     },
     "execution_count": 158,
     "metadata": {},
     "output_type": "execute_result"
    }
   ],
   "source": [
    "# Now we want to add the temperature accordingly to the dates in the main dataframe\n",
    "\n",
    "merged_sdf = sdf_green_pre5.join(agg_NYC_weather, on='Date', how='left')\n",
    "merged_sdf.orderBy('Date')"
   ]
  },
  {
   "cell_type": "code",
   "execution_count": 159,
   "id": "b7ef8bfb",
   "metadata": {
    "ExecuteTime": {
     "end_time": "2022-08-16T20:36:41.482481Z",
     "start_time": "2022-08-16T20:36:37.135684Z"
    }
   },
   "outputs": [],
   "source": [
    "merged_sdf.write.mode('overwrite').parquet('../data/curated/result')"
   ]
  },
  {
   "cell_type": "code",
   "execution_count": null,
   "id": "58d19b2e",
   "metadata": {},
   "outputs": [],
   "source": []
  }
 ],
 "metadata": {
  "kernelspec": {
   "display_name": "Python 3",
   "language": "python",
   "name": "python3"
  },
  "language_info": {
   "codemirror_mode": {
    "name": "ipython",
    "version": 3
   },
   "file_extension": ".py",
   "mimetype": "text/x-python",
   "name": "python",
   "nbconvert_exporter": "python",
   "pygments_lexer": "ipython3",
   "version": "3.8.8"
  },
  "toc": {
   "base_numbering": 1,
   "nav_menu": {},
   "number_sections": true,
   "sideBar": true,
   "skip_h1_title": false,
   "title_cell": "Table of Contents",
   "title_sidebar": "Contents",
   "toc_cell": false,
   "toc_position": {},
   "toc_section_display": true,
   "toc_window_display": false
  }
 },
 "nbformat": 4,
 "nbformat_minor": 5
}
