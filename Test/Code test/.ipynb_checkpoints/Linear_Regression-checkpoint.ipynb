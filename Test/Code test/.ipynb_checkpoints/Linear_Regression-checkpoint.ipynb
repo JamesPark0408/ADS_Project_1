{
 "cells": [
  {
   "cell_type": "code",
   "execution_count": 1,
   "id": "36282966",
   "metadata": {
    "ExecuteTime": {
     "end_time": "2022-08-18T00:18:34.516435Z",
     "start_time": "2022-08-18T00:18:33.371514Z"
    }
   },
   "outputs": [],
   "source": [
    "from pyspark.sql import SparkSession\n",
    "from pyspark.sql import functions as F\n",
    "from pyspark.ml.feature import StringIndexer\n",
    "from pyspark.ml.feature import VectorAssembler\n",
    "from pyspark.ml.feature import OneHotEncoder\n",
    "from pyspark.ml.feature import StandardScaler\n",
    "from pyspark.ml.regression import LinearRegression\n",
    "from pyspark.ml.evaluation import RegressionEvaluator\n",
    "import pandas as pd"
   ]
  },
  {
   "cell_type": "code",
   "execution_count": 2,
   "id": "13ba5425",
   "metadata": {
    "ExecuteTime": {
     "end_time": "2022-08-18T00:18:53.489444Z",
     "start_time": "2022-08-18T00:18:34.518567Z"
    }
   },
   "outputs": [],
   "source": [
    "# Create a spark session (which will run spark jobs)\n",
    "spark = (\n",
    "    SparkSession.builder.appName(\"MAST30034 Project 1\")\n",
    "    .config(\"spark.sql.repl.eagerEval.enabled\", True) \n",
    "    .config(\"spark.sql.parquet.cacheMetadata\", \"true\")\n",
    "    .config(\"spark.sql.session.timeZone\", \"Etc/UTC\")\n",
    "    .config(\"spark.driver.memory\", \"2g\")\n",
    "    .config(\"spark.executor.memory\", \"4g\")\n",
    "    .getOrCreate()\n",
    ")"
   ]
  },
  {
   "cell_type": "code",
   "execution_count": 3,
   "id": "a1f8e9e1",
   "metadata": {
    "ExecuteTime": {
     "end_time": "2022-08-18T00:18:58.316085Z",
     "start_time": "2022-08-18T00:18:53.491613Z"
    }
   },
   "outputs": [
    {
     "data": {
      "text/html": [
       "<table border='1'>\n",
       "<tr><th>PULocationID</th><th>day</th><th>shift</th><th>fare</th><th>temp</th><th>Date</th></tr>\n",
       "<tr><td>43</td><td>Tue</td><td>Night</td><td>6.8</td><td>25</td><td>2022-02-01</td></tr>\n",
       "<tr><td>166</td><td>Tue</td><td>Night</td><td>5.8</td><td>25</td><td>2022-02-01</td></tr>\n",
       "<tr><td>89</td><td>Tue</td><td>Night</td><td>50.3</td><td>25</td><td>2022-02-01</td></tr>\n",
       "<tr><td>7</td><td>Tue</td><td>Night</td><td>25.05</td><td>25</td><td>2022-02-01</td></tr>\n",
       "<tr><td>166</td><td>Tue</td><td>Night</td><td>9.8</td><td>25</td><td>2022-02-01</td></tr>\n",
       "</table>\n"
      ],
      "text/plain": [
       "+------------+---+-----+-----+----+----------+\n",
       "|PULocationID|day|shift| fare|temp|      Date|\n",
       "+------------+---+-----+-----+----+----------+\n",
       "|          43|Tue|Night|  6.8|  25|2022-02-01|\n",
       "|         166|Tue|Night|  5.8|  25|2022-02-01|\n",
       "|          89|Tue|Night| 50.3|  25|2022-02-01|\n",
       "|           7|Tue|Night|25.05|  25|2022-02-01|\n",
       "|         166|Tue|Night|  9.8|  25|2022-02-01|\n",
       "+------------+---+-----+-----+----+----------+"
      ]
     },
     "execution_count": 3,
     "metadata": {},
     "output_type": "execute_result"
    }
   ],
   "source": [
    "sdf_data = spark.read.parquet('../data/curated/result_data/')\n",
    "sdf_predict = spark.read.parquet('../data/curated/result_predict/')\n",
    "sdf_data.limit(5)"
   ]
  },
  {
   "cell_type": "code",
   "execution_count": 4,
   "id": "5810af90",
   "metadata": {
    "ExecuteTime": {
     "end_time": "2022-08-18T00:18:59.041335Z",
     "start_time": "2022-08-18T00:18:58.318492Z"
    }
   },
   "outputs": [
    {
     "data": {
      "text/html": [
       "<table border='1'>\n",
       "<tr><th>PULocationID</th><th>Borough</th></tr>\n",
       "<tr><td>1</td><td>EWR</td></tr>\n",
       "<tr><td>2</td><td>Queens</td></tr>\n",
       "<tr><td>3</td><td>Bronx</td></tr>\n",
       "<tr><td>4</td><td>Manhattan</td></tr>\n",
       "<tr><td>5</td><td>Staten Island</td></tr>\n",
       "</table>\n"
      ],
      "text/plain": [
       "+------------+-------------+\n",
       "|PULocationID|      Borough|\n",
       "+------------+-------------+\n",
       "|           1|          EWR|\n",
       "|           2|       Queens|\n",
       "|           3|        Bronx|\n",
       "|           4|    Manhattan|\n",
       "|           5|Staten Island|\n",
       "+------------+-------------+"
      ]
     },
     "execution_count": 4,
     "metadata": {},
     "output_type": "execute_result"
    }
   ],
   "source": [
    "sdf_zone = spark.read.option(\"header\",True).csv(\"../data/taxi_zones/taxi+_zone_lookup.csv\")\n",
    "sdf_zone = sdf_zone.withColumnRenamed('LocationID', 'PULocationID')\n",
    "sdf_zone = sdf_zone.select('PULocationID', 'Borough')\n",
    "sdf_zone.limit(5)"
   ]
  },
  {
   "cell_type": "code",
   "execution_count": 5,
   "id": "a5415e6d",
   "metadata": {
    "ExecuteTime": {
     "end_time": "2022-08-18T00:18:59.803919Z",
     "start_time": "2022-08-18T00:18:59.044415Z"
    }
   },
   "outputs": [
    {
     "data": {
      "text/html": [
       "<table border='1'>\n",
       "<tr><th>PULocationID</th><th>day</th><th>shift</th><th>fare</th><th>temp</th><th>Date</th><th>Borough</th></tr>\n",
       "<tr><td>43</td><td>Tue</td><td>Night</td><td>6.8</td><td>25</td><td>2022-02-01</td><td>Manhattan</td></tr>\n",
       "<tr><td>166</td><td>Tue</td><td>Night</td><td>5.8</td><td>25</td><td>2022-02-01</td><td>Manhattan</td></tr>\n",
       "<tr><td>89</td><td>Tue</td><td>Night</td><td>50.3</td><td>25</td><td>2022-02-01</td><td>Brooklyn</td></tr>\n",
       "<tr><td>7</td><td>Tue</td><td>Night</td><td>25.05</td><td>25</td><td>2022-02-01</td><td>Queens</td></tr>\n",
       "<tr><td>166</td><td>Tue</td><td>Night</td><td>9.8</td><td>25</td><td>2022-02-01</td><td>Manhattan</td></tr>\n",
       "</table>\n"
      ],
      "text/plain": [
       "+------------+---+-----+-----+----+----------+---------+\n",
       "|PULocationID|day|shift| fare|temp|      Date|  Borough|\n",
       "+------------+---+-----+-----+----+----------+---------+\n",
       "|          43|Tue|Night|  6.8|  25|2022-02-01|Manhattan|\n",
       "|         166|Tue|Night|  5.8|  25|2022-02-01|Manhattan|\n",
       "|          89|Tue|Night| 50.3|  25|2022-02-01| Brooklyn|\n",
       "|           7|Tue|Night|25.05|  25|2022-02-01|   Queens|\n",
       "|         166|Tue|Night|  9.8|  25|2022-02-01|Manhattan|\n",
       "+------------+---+-----+-----+----+----------+---------+"
      ]
     },
     "execution_count": 5,
     "metadata": {},
     "output_type": "execute_result"
    }
   ],
   "source": [
    "sdf_merge = sdf_data.join(sdf_zone, on='PULocationID', how='left')\n",
    "sdf_pred = sdf_predict.join(sdf_zone, on='PULocationID', how='left')\n",
    "sdf_merge.limit(5)"
   ]
  },
  {
   "cell_type": "code",
   "execution_count": 6,
   "id": "ccfc680d",
   "metadata": {
    "ExecuteTime": {
     "end_time": "2022-08-18T00:19:00.309031Z",
     "start_time": "2022-08-18T00:18:59.805905Z"
    },
    "scrolled": true
   },
   "outputs": [
    {
     "data": {
      "text/html": [
       "<table border='1'>\n",
       "<tr><th>Borough</th><th>day</th><th>shift</th><th>temp</th><th>fare</th></tr>\n",
       "<tr><td>Manhattan</td><td>Tue</td><td>Night</td><td>25</td><td>6.8</td></tr>\n",
       "<tr><td>Manhattan</td><td>Tue</td><td>Night</td><td>25</td><td>5.8</td></tr>\n",
       "<tr><td>Brooklyn</td><td>Tue</td><td>Night</td><td>25</td><td>50.3</td></tr>\n",
       "<tr><td>Queens</td><td>Tue</td><td>Night</td><td>25</td><td>25.05</td></tr>\n",
       "<tr><td>Manhattan</td><td>Tue</td><td>Night</td><td>25</td><td>9.8</td></tr>\n",
       "</table>\n"
      ],
      "text/plain": [
       "+---------+---+-----+----+-----+\n",
       "|  Borough|day|shift|temp| fare|\n",
       "+---------+---+-----+----+-----+\n",
       "|Manhattan|Tue|Night|  25|  6.8|\n",
       "|Manhattan|Tue|Night|  25|  5.8|\n",
       "| Brooklyn|Tue|Night|  25| 50.3|\n",
       "|   Queens|Tue|Night|  25|25.05|\n",
       "|Manhattan|Tue|Night|  25|  9.8|\n",
       "+---------+---+-----+----+-----+"
      ]
     },
     "execution_count": 6,
     "metadata": {},
     "output_type": "execute_result"
    }
   ],
   "source": [
    "sdf_merge = sdf_merge.select('Borough', 'day', 'shift', 'temp', 'fare')\n",
    "sdf_pred = sdf_pred.select('Borough', 'day', 'shift', 'temp', 'fare')\n",
    "sdf_merge.limit(5)"
   ]
  },
  {
   "cell_type": "code",
   "execution_count": 7,
   "id": "1a3a16eb",
   "metadata": {
    "ExecuteTime": {
     "end_time": "2022-08-18T00:19:03.388765Z",
     "start_time": "2022-08-18T00:19:00.311196Z"
    }
   },
   "outputs": [
    {
     "data": {
      "text/html": [
       "<table border='1'>\n",
       "<tr><th>Borough</th><th>day</th><th>shift</th><th>temp</th><th>fare</th></tr>\n",
       "<tr><td>Bronx</td><td>Sun</td><td>Night</td><td>27</td><td>17.49</td></tr>\n",
       "<tr><td>Brooklyn</td><td>Mon</td><td>Morning</td><td>32</td><td>15.76</td></tr>\n",
       "<tr><td>Staten Island</td><td>Wed</td><td>Night</td><td>44</td><td>72.85</td></tr>\n",
       "<tr><td>Brooklyn</td><td>Mon</td><td>Night</td><td>45</td><td>17.14</td></tr>\n",
       "<tr><td>Manhattan</td><td>Thu</td><td>Morning</td><td>56</td><td>14.9</td></tr>\n",
       "</table>\n"
      ],
      "text/plain": [
       "+-------------+---+-------+----+-----+\n",
       "|      Borough|day|  shift|temp| fare|\n",
       "+-------------+---+-------+----+-----+\n",
       "|        Bronx|Sun|  Night|  27|17.49|\n",
       "|     Brooklyn|Mon|Morning|  32|15.76|\n",
       "|Staten Island|Wed|  Night|  44|72.85|\n",
       "|     Brooklyn|Mon|  Night|  45|17.14|\n",
       "|    Manhattan|Thu|Morning|  56| 14.9|\n",
       "+-------------+---+-------+----+-----+"
      ]
     },
     "execution_count": 7,
     "metadata": {},
     "output_type": "execute_result"
    }
   ],
   "source": [
    "# In order to fulfill full rank model for linear regression, we combine and get the fare average for duplicates\n",
    "sdf_agg = sdf_merge \\\n",
    "            .groupBy('Borough', 'day', 'shift','temp') \\\n",
    "            .agg(\n",
    "                F.round(F.mean(\"fare\"),2).alias(\"fare\"),\n",
    "            ) \n",
    "sdf_agg.limit(5)"
   ]
  },
  {
   "cell_type": "code",
   "execution_count": 8,
   "id": "6546398b",
   "metadata": {
    "ExecuteTime": {
     "end_time": "2022-08-18T00:19:06.297562Z",
     "start_time": "2022-08-18T00:19:03.394086Z"
    }
   },
   "outputs": [
    {
     "name": "stdout",
     "output_type": "stream",
     "text": [
      "+-------------+---+-------+----+-----+-----------+-------+---------+\n",
      "|      Borough|day|  shift|temp| fare|Borough_idx|day_idx|shift_idx|\n",
      "+-------------+---+-------+----+-----+-----------+-------+---------+\n",
      "|        Bronx|Sun|  Night|  27|17.49|        0.0|    4.0|      1.0|\n",
      "|     Brooklyn|Mon|Morning|  32|15.76|        1.0|    1.0|      0.0|\n",
      "|Staten Island|Wed|  Night|  44|72.85|        4.0|    6.0|      1.0|\n",
      "|     Brooklyn|Mon|  Night|  45|17.14|        1.0|    1.0|      1.0|\n",
      "|    Manhattan|Thu|Morning|  56| 14.9|        2.0|    3.0|      0.0|\n",
      "|       Queens|Sat|  Night|  45|16.89|        3.0|    2.0|      1.0|\n",
      "|    Manhattan|Sat|Morning|  45|13.48|        2.0|    2.0|      0.0|\n",
      "|        Bronx|Fri|  Night|  68|22.58|        0.0|    0.0|      1.0|\n",
      "|    Manhattan|Thu|  Night|  73|14.61|        2.0|    3.0|      1.0|\n",
      "|    Manhattan|Tue|Morning|  80|14.59|        2.0|    5.0|      0.0|\n",
      "|        Bronx|Sun|Morning|  78|34.18|        0.0|    4.0|      0.0|\n",
      "|       Queens|Thu|  Night|  41|14.59|        3.0|    3.0|      1.0|\n",
      "|    Manhattan|Sun|Morning|  27|13.27|        2.0|    4.0|      0.0|\n",
      "|     Brooklyn|Fri|  Night|  30| 16.1|        1.0|    0.0|      1.0|\n",
      "|     Brooklyn|Mon|  Night|  30|18.02|        1.0|    1.0|      1.0|\n",
      "|        Bronx|Tue|  Night|  41|22.09|        0.0|    5.0|      1.0|\n",
      "|    Manhattan|Sun|Morning|  48|14.17|        2.0|    4.0|      0.0|\n",
      "|        Bronx|Tue|Morning|  62|39.44|        0.0|    5.0|      0.0|\n",
      "|       Queens|Thu|  Night|  77|16.02|        3.0|    3.0|      1.0|\n",
      "|    Manhattan|Mon|Morning|  69|14.75|        2.0|    1.0|      0.0|\n",
      "+-------------+---+-------+----+-----+-----------+-------+---------+\n",
      "only showing top 20 rows\n",
      "\n"
     ]
    }
   ],
   "source": [
    "# Change to indexes from strings to one hot encode\n",
    "sdf_agg = StringIndexer(inputCols=['Borough','day','shift'], outputCols=['Borough_idx','day_idx','shift_idx']).fit(sdf_agg).transform(sdf_agg)\n",
    "sdf_pred = StringIndexer(inputCols=['Borough','day','shift'], outputCols=['Borough_idx','day_idx','shift_idx']).fit(sdf_pred).transform(sdf_pred)\n",
    "sdf_agg.show()"
   ]
  },
  {
   "cell_type": "code",
   "execution_count": 9,
   "id": "7fe85826",
   "metadata": {
    "ExecuteTime": {
     "end_time": "2022-08-18T00:19:09.172884Z",
     "start_time": "2022-08-18T00:19:06.310373Z"
    }
   },
   "outputs": [
    {
     "data": {
      "text/html": [
       "<table border='1'>\n",
       "<tr><th>Borough_ohe</th><th>day_ohe</th><th>shift_ohe</th><th>temp</th><th>fare</th></tr>\n",
       "<tr><td>(5,[0],[1.0])</td><td>(6,[4],[1.0])</td><td>(1,[],[])</td><td>27</td><td>17.49</td></tr>\n",
       "<tr><td>(5,[1],[1.0])</td><td>(6,[1],[1.0])</td><td>(1,[0],[1.0])</td><td>32</td><td>15.76</td></tr>\n",
       "<tr><td>(5,[4],[1.0])</td><td>(6,[],[])</td><td>(1,[],[])</td><td>44</td><td>72.85</td></tr>\n",
       "<tr><td>(5,[1],[1.0])</td><td>(6,[1],[1.0])</td><td>(1,[],[])</td><td>45</td><td>17.14</td></tr>\n",
       "<tr><td>(5,[2],[1.0])</td><td>(6,[3],[1.0])</td><td>(1,[0],[1.0])</td><td>56</td><td>14.9</td></tr>\n",
       "</table>\n"
      ],
      "text/plain": [
       "+-------------+-------------+-------------+----+-----+\n",
       "|  Borough_ohe|      day_ohe|    shift_ohe|temp| fare|\n",
       "+-------------+-------------+-------------+----+-----+\n",
       "|(5,[0],[1.0])|(6,[4],[1.0])|    (1,[],[])|  27|17.49|\n",
       "|(5,[1],[1.0])|(6,[1],[1.0])|(1,[0],[1.0])|  32|15.76|\n",
       "|(5,[4],[1.0])|    (6,[],[])|    (1,[],[])|  44|72.85|\n",
       "|(5,[1],[1.0])|(6,[1],[1.0])|    (1,[],[])|  45|17.14|\n",
       "|(5,[2],[1.0])|(6,[3],[1.0])|(1,[0],[1.0])|  56| 14.9|\n",
       "+-------------+-------------+-------------+----+-----+"
      ]
     },
     "execution_count": 9,
     "metadata": {},
     "output_type": "execute_result"
    }
   ],
   "source": [
    "# One Hot Encode\n",
    "OHE = OneHotEncoder(inputCols=['Borough_idx','day_idx','shift_idx'], \n",
    "                    outputCols= ['Borough_ohe','day_ohe','shift_ohe'])\n",
    "OHE_pred = OneHotEncoder(inputCols=['Borough_idx','day_idx','shift_idx'], \n",
    "                    outputCols= ['Borough_ohe','day_ohe','shift_ohe'])\n",
    "OHE = OHE.fit(sdf_agg)\n",
    "OHE_pred = OHE_pred.fit(sdf_pred)\n",
    "\n",
    "sdf_ohe = OHE.transform(sdf_agg)\n",
    "sdf_ohe_pred = OHE_pred.transform(sdf_pred)\n",
    "\n",
    "sdf_ohef = sdf_ohe.select('Borough_ohe', 'day_ohe','shift_ohe', 'temp', 'fare')\n",
    "sdf_ohef_pred = sdf_ohe_pred.select('Borough_ohe', 'day_ohe','shift_ohe', 'temp', 'fare')\n",
    "\n",
    "\n",
    "sdf_ohef.limit(5)"
   ]
  },
  {
   "cell_type": "code",
   "execution_count": 10,
   "id": "6c974fda",
   "metadata": {
    "ExecuteTime": {
     "end_time": "2022-08-18T00:19:11.395136Z",
     "start_time": "2022-08-18T00:19:09.175344Z"
    }
   },
   "outputs": [
    {
     "name": "stdout",
     "output_type": "stream",
     "text": [
      "+-------------+-------------+\n",
      "|      Borough|  Borough_ohe|\n",
      "+-------------+-------------+\n",
      "|          EWR|    (5,[],[])|\n",
      "|        Bronx|(5,[0],[1.0])|\n",
      "|     Brooklyn|(5,[1],[1.0])|\n",
      "|    Manhattan|(5,[2],[1.0])|\n",
      "|       Queens|(5,[3],[1.0])|\n",
      "|Staten Island|(5,[4],[1.0])|\n",
      "+-------------+-------------+\n",
      "\n"
     ]
    }
   ],
   "source": [
    "sdf_ohe.select('Borough','Borough_ohe').distinct().sort('Borough_ohe').show()"
   ]
  },
  {
   "cell_type": "code",
   "execution_count": 11,
   "id": "bf1541ae",
   "metadata": {
    "ExecuteTime": {
     "end_time": "2022-08-18T00:19:13.262179Z",
     "start_time": "2022-08-18T00:19:11.397653Z"
    }
   },
   "outputs": [
    {
     "name": "stdout",
     "output_type": "stream",
     "text": [
      "+---+-------------+\n",
      "|day|      day_ohe|\n",
      "+---+-------------+\n",
      "|Wed|    (6,[],[])|\n",
      "|Fri|(6,[0],[1.0])|\n",
      "|Mon|(6,[1],[1.0])|\n",
      "|Sat|(6,[2],[1.0])|\n",
      "|Thu|(6,[3],[1.0])|\n",
      "|Sun|(6,[4],[1.0])|\n",
      "|Tue|(6,[5],[1.0])|\n",
      "+---+-------------+\n",
      "\n"
     ]
    }
   ],
   "source": [
    "sdf_ohe.select('day','day_ohe').distinct().sort('day_ohe').show()"
   ]
  },
  {
   "cell_type": "code",
   "execution_count": 12,
   "id": "1f9df2aa",
   "metadata": {
    "ExecuteTime": {
     "end_time": "2022-08-18T00:19:15.117858Z",
     "start_time": "2022-08-18T00:19:13.265014Z"
    },
    "scrolled": true
   },
   "outputs": [
    {
     "name": "stdout",
     "output_type": "stream",
     "text": [
      "+-------+-------------+\n",
      "|  shift|    shift_ohe|\n",
      "+-------+-------------+\n",
      "|  Night|    (1,[],[])|\n",
      "|Morning|(1,[0],[1.0])|\n",
      "+-------+-------------+\n",
      "\n"
     ]
    }
   ],
   "source": [
    "sdf_ohe.select('shift','shift_ohe').distinct().sort('shift_ohe').show()"
   ]
  },
  {
   "cell_type": "code",
   "execution_count": 13,
   "id": "b51dd85c",
   "metadata": {
    "ExecuteTime": {
     "end_time": "2022-08-18T00:19:15.995816Z",
     "start_time": "2022-08-18T00:19:15.120084Z"
    }
   },
   "outputs": [],
   "source": [
    "# We want to normalize temp so it can be compared to dummy variables\n",
    "mean_temp, sd_temp = sdf_ohef.select(F.mean(\"temp\"), F.stddev(\"temp\")).first()\n",
    "sdf_ohef = sdf_ohef.withColumn(\"temp_norm\", (F.col(\"temp\") - mean_temp) / sd_temp)\n",
    "sdf_ohef_pred = sdf_ohef_pred.withColumn(\"temp_norm\", (F.col(\"temp\") - mean_temp) / sd_temp)"
   ]
  },
  {
   "cell_type": "code",
   "execution_count": 14,
   "id": "c5d05720",
   "metadata": {
    "ExecuteTime": {
     "end_time": "2022-08-18T00:19:16.928481Z",
     "start_time": "2022-08-18T00:19:15.998055Z"
    }
   },
   "outputs": [
    {
     "data": {
      "text/plain": [
       "([Row(features=SparseVector(13, {0: 1.0, 9: 1.0, 12: -1.536})),\n",
       "  Row(features=SparseVector(13, {1: 1.0, 6: 1.0, 11: 1.0, 12: -1.2696})),\n",
       "  Row(features=SparseVector(13, {4: 1.0, 12: -0.6304})),\n",
       "  Row(features=SparseVector(13, {1: 1.0, 6: 1.0, 12: -0.5771})),\n",
       "  Row(features=SparseVector(13, {2: 1.0, 8: 1.0, 11: 1.0, 12: 0.0089}))],\n",
       " [Row(fare=17.49),\n",
       "  Row(fare=15.76),\n",
       "  Row(fare=72.85),\n",
       "  Row(fare=17.14),\n",
       "  Row(fare=14.9)])"
      ]
     },
     "execution_count": 14,
     "metadata": {},
     "output_type": "execute_result"
    }
   ],
   "source": [
    "# Create assember object for predictors\n",
    "features = 'features'\n",
    "input_cols = ['Borough_ohe', 'day_ohe','shift_ohe', 'temp_norm']\n",
    "\n",
    "assembler = VectorAssembler(\n",
    "                                inputCols=input_cols,\n",
    "                                outputCol= features\n",
    "                            )\n",
    "sdf_model = assembler.transform(sdf_ohef)\n",
    "sdf_model.select('features').head(5), sdf_model.select('fare').head(5)"
   ]
  },
  {
   "cell_type": "code",
   "execution_count": 15,
   "id": "518b546f",
   "metadata": {
    "ExecuteTime": {
     "end_time": "2022-08-18T00:19:16.959189Z",
     "start_time": "2022-08-18T00:19:16.930393Z"
    }
   },
   "outputs": [],
   "source": [
    "# Create assember object for predictors (pred)\n",
    "features = 'features'\n",
    "input_cols = ['Borough_ohe', 'day_ohe','shift_ohe', 'temp_norm']\n",
    "\n",
    "assembler_pred = VectorAssembler(\n",
    "                                inputCols=input_cols,\n",
    "                                outputCol= features\n",
    "                            )\n",
    "sdf_model_pred = assembler_pred.transform(sdf_ohef_pred)"
   ]
  },
  {
   "cell_type": "code",
   "execution_count": 16,
   "id": "4a9aef60",
   "metadata": {
    "ExecuteTime": {
     "end_time": "2022-08-18T00:19:20.406020Z",
     "start_time": "2022-08-18T00:19:16.961572Z"
    }
   },
   "outputs": [],
   "source": [
    "lm = LinearRegression(featuresCol='features', labelCol='fare').fit(sdf_model)"
   ]
  },
  {
   "cell_type": "code",
   "execution_count": 17,
   "id": "93f763f5",
   "metadata": {
    "ExecuteTime": {
     "end_time": "2022-08-18T00:19:20.449755Z",
     "start_time": "2022-08-18T00:19:20.408742Z"
    }
   },
   "outputs": [
    {
     "data": {
      "text/html": [
       "<div>\n",
       "<style scoped>\n",
       "    .dataframe tbody tr th:only-of-type {\n",
       "        vertical-align: middle;\n",
       "    }\n",
       "\n",
       "    .dataframe tbody tr th {\n",
       "        vertical-align: top;\n",
       "    }\n",
       "\n",
       "    .dataframe thead th {\n",
       "        text-align: right;\n",
       "    }\n",
       "</style>\n",
       "<table border=\"1\" class=\"dataframe\">\n",
       "  <thead>\n",
       "    <tr style=\"text-align: right;\">\n",
       "      <th></th>\n",
       "      <th>coefficient</th>\n",
       "    </tr>\n",
       "  </thead>\n",
       "  <tbody>\n",
       "    <tr>\n",
       "      <th>intercept</th>\n",
       "      <td>85.157723</td>\n",
       "    </tr>\n",
       "    <tr>\n",
       "      <th>Manhattan</th>\n",
       "      <td>-62.320361</td>\n",
       "    </tr>\n",
       "    <tr>\n",
       "      <th>Queens</th>\n",
       "      <td>-68.203533</td>\n",
       "    </tr>\n",
       "    <tr>\n",
       "      <th>Brooklyn</th>\n",
       "      <td>-74.078076</td>\n",
       "    </tr>\n",
       "    <tr>\n",
       "      <th>Bronx</th>\n",
       "      <td>-69.392136</td>\n",
       "    </tr>\n",
       "    <tr>\n",
       "      <th>Staten Island</th>\n",
       "      <td>-17.784100</td>\n",
       "    </tr>\n",
       "    <tr>\n",
       "      <th>Fri</th>\n",
       "      <td>0.172804</td>\n",
       "    </tr>\n",
       "    <tr>\n",
       "      <th>Thu</th>\n",
       "      <td>1.262419</td>\n",
       "    </tr>\n",
       "    <tr>\n",
       "      <th>Wed</th>\n",
       "      <td>-0.282766</td>\n",
       "    </tr>\n",
       "    <tr>\n",
       "      <th>Mon</th>\n",
       "      <td>0.099169</td>\n",
       "    </tr>\n",
       "    <tr>\n",
       "      <th>Tue</th>\n",
       "      <td>0.982794</td>\n",
       "    </tr>\n",
       "    <tr>\n",
       "      <th>Sat</th>\n",
       "      <td>1.947569</td>\n",
       "    </tr>\n",
       "    <tr>\n",
       "      <th>Morning</th>\n",
       "      <td>5.018409</td>\n",
       "    </tr>\n",
       "    <tr>\n",
       "      <th>temp</th>\n",
       "      <td>1.764777</td>\n",
       "    </tr>\n",
       "  </tbody>\n",
       "</table>\n",
       "</div>"
      ],
      "text/plain": [
       "               coefficient\n",
       "intercept        85.157723\n",
       "Manhattan       -62.320361\n",
       "Queens          -68.203533\n",
       "Brooklyn        -74.078076\n",
       "Bronx           -69.392136\n",
       "Staten Island   -17.784100\n",
       "Fri               0.172804\n",
       "Thu               1.262419\n",
       "Wed              -0.282766\n",
       "Mon               0.099169\n",
       "Tue               0.982794\n",
       "Sat               1.947569\n",
       "Morning           5.018409\n",
       "temp              1.764777"
      ]
     },
     "execution_count": 17,
     "metadata": {},
     "output_type": "execute_result"
    }
   ],
   "source": [
    "# Access coefficients\n",
    "\n",
    "# 'EWR', 'Sun', 'Night' are not included as they are the reference group\n",
    "coef_cols = ['Manhattan', 'Queens', 'Brooklyn', 'Bronx', 'Staten Island', \n",
    "             'Fri', 'Thu', 'Wed', 'Mon', 'Tue', 'Sat', \n",
    "             'Morning', \n",
    "             'temp']\n",
    "\n",
    "pd.DataFrame(\n",
    "    data=[lm.intercept] + list(lm.coefficients),\n",
    "    index=['intercept'] + coef_cols,\n",
    "    columns=['coefficient']\n",
    ")"
   ]
  },
  {
   "cell_type": "code",
   "execution_count": 25,
   "id": "2e44b0ae",
   "metadata": {
    "ExecuteTime": {
     "end_time": "2022-08-18T00:23:51.546428Z",
     "start_time": "2022-08-18T00:23:51.503695Z"
    }
   },
   "outputs": [],
   "source": [
    "# Test on test data and check error analysis RMSE and R^2\n",
    "fare_pred = lm.transform(sdf_model_pred)"
   ]
  },
  {
   "cell_type": "code",
   "execution_count": 26,
   "id": "2cb072f3",
   "metadata": {
    "ExecuteTime": {
     "end_time": "2022-08-18T00:23:51.799172Z",
     "start_time": "2022-08-18T00:23:51.793426Z"
    }
   },
   "outputs": [
    {
     "data": {
      "text/plain": [
       "55.56456229040396"
      ]
     },
     "execution_count": 26,
     "metadata": {},
     "output_type": "execute_result"
    }
   ],
   "source": [
    "lm.summary.meanSquaredError"
   ]
  },
  {
   "cell_type": "code",
   "execution_count": 22,
   "id": "d75c7ac7",
   "metadata": {
    "ExecuteTime": {
     "end_time": "2022-08-18T00:22:02.586390Z",
     "start_time": "2022-08-18T00:22:02.559976Z"
    }
   },
   "outputs": [
    {
     "data": {
      "text/plain": [
       "0.8638539752362504"
      ]
     },
     "execution_count": 22,
     "metadata": {},
     "output_type": "execute_result"
    }
   ],
   "source": [
    "lm.summary.r2adj"
   ]
  }
 ],
 "metadata": {
  "kernelspec": {
   "display_name": "Python 3",
   "language": "python",
   "name": "python3"
  },
  "language_info": {
   "codemirror_mode": {
    "name": "ipython",
    "version": 3
   },
   "file_extension": ".py",
   "mimetype": "text/x-python",
   "name": "python",
   "nbconvert_exporter": "python",
   "pygments_lexer": "ipython3",
   "version": "3.8.8"
  },
  "toc": {
   "base_numbering": 1,
   "nav_menu": {},
   "number_sections": true,
   "sideBar": true,
   "skip_h1_title": false,
   "title_cell": "Table of Contents",
   "title_sidebar": "Contents",
   "toc_cell": false,
   "toc_position": {},
   "toc_section_display": true,
   "toc_window_display": false
  }
 },
 "nbformat": 4,
 "nbformat_minor": 5
}
