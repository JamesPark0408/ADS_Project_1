{
 "cells": [
  {
   "cell_type": "code",
   "execution_count": 69,
   "id": "36282966",
   "metadata": {
    "ExecuteTime": {
     "end_time": "2022-08-18T09:59:45.808533Z",
     "start_time": "2022-08-18T09:59:45.803777Z"
    }
   },
   "outputs": [],
   "source": [
    "from pyspark.sql import SparkSession\n",
    "from pyspark.sql import functions as F\n",
    "from pyspark.ml.feature import StringIndexer\n",
    "from pyspark.ml.feature import VectorAssembler\n",
    "from pyspark.ml.feature import OneHotEncoder\n",
    "from pyspark.ml.feature import StandardScaler\n",
    "from pyspark.ml.regression import LinearRegression\n",
    "from pyspark.ml.evaluation import RegressionEvaluator\n",
    "import pandas as pd"
   ]
  },
  {
   "cell_type": "code",
   "execution_count": 70,
   "id": "13ba5425",
   "metadata": {
    "ExecuteTime": {
     "end_time": "2022-08-18T09:59:45.976897Z",
     "start_time": "2022-08-18T09:59:45.967056Z"
    }
   },
   "outputs": [],
   "source": [
    "# Create a spark session (which will run spark jobs)\n",
    "spark = (\n",
    "    SparkSession.builder.appName(\"MAST30034 Project 1\")\n",
    "    .config(\"spark.sql.repl.eagerEval.enabled\", True) \n",
    "    .config(\"spark.sql.parquet.cacheMetadata\", \"true\")\n",
    "    .config(\"spark.sql.session.timeZone\", \"Etc/UTC\")\n",
    "    .config(\"spark.driver.memory\", \"2g\")\n",
    "    .config(\"spark.executor.memory\", \"4g\")\n",
    "    .getOrCreate()\n",
    ")"
   ]
  },
  {
   "cell_type": "code",
   "execution_count": 71,
   "id": "a1f8e9e1",
   "metadata": {
    "ExecuteTime": {
     "end_time": "2022-08-18T09:59:46.441593Z",
     "start_time": "2022-08-18T09:59:46.134030Z"
    }
   },
   "outputs": [
    {
     "data": {
      "text/html": [
       "<table border='1'>\n",
       "<tr><th>PULocationID</th><th>day</th><th>shift</th><th>fare</th><th>temp</th><th>Date</th></tr>\n",
       "<tr><td>43</td><td>Tue</td><td>Night</td><td>6.8</td><td>25</td><td>2022-02-01</td></tr>\n",
       "<tr><td>166</td><td>Tue</td><td>Night</td><td>5.8</td><td>25</td><td>2022-02-01</td></tr>\n",
       "<tr><td>89</td><td>Tue</td><td>Night</td><td>50.3</td><td>25</td><td>2022-02-01</td></tr>\n",
       "<tr><td>7</td><td>Tue</td><td>Night</td><td>25.05</td><td>25</td><td>2022-02-01</td></tr>\n",
       "<tr><td>166</td><td>Tue</td><td>Night</td><td>9.8</td><td>25</td><td>2022-02-01</td></tr>\n",
       "</table>\n"
      ],
      "text/plain": [
       "+------------+---+-----+-----+----+----------+\n",
       "|PULocationID|day|shift| fare|temp|      Date|\n",
       "+------------+---+-----+-----+----+----------+\n",
       "|          43|Tue|Night|  6.8|  25|2022-02-01|\n",
       "|         166|Tue|Night|  5.8|  25|2022-02-01|\n",
       "|          89|Tue|Night| 50.3|  25|2022-02-01|\n",
       "|           7|Tue|Night|25.05|  25|2022-02-01|\n",
       "|         166|Tue|Night|  9.8|  25|2022-02-01|\n",
       "+------------+---+-----+-----+----+----------+"
      ]
     },
     "execution_count": 71,
     "metadata": {},
     "output_type": "execute_result"
    }
   ],
   "source": [
    "sdf_data = spark.read.parquet('../data/curated/result_data/')\n",
    "sdf_predict = spark.read.parquet('../data/curated/result_predict/')\n",
    "sdf_data.limit(5)"
   ]
  },
  {
   "cell_type": "code",
   "execution_count": 72,
   "id": "5810af90",
   "metadata": {
    "ExecuteTime": {
     "end_time": "2022-08-18T09:59:46.589294Z",
     "start_time": "2022-08-18T09:59:46.443313Z"
    }
   },
   "outputs": [
    {
     "data": {
      "text/html": [
       "<table border='1'>\n",
       "<tr><th>PULocationID</th><th>Borough</th></tr>\n",
       "<tr><td>1</td><td>EWR</td></tr>\n",
       "<tr><td>2</td><td>Queens</td></tr>\n",
       "<tr><td>3</td><td>Bronx</td></tr>\n",
       "<tr><td>4</td><td>Manhattan</td></tr>\n",
       "<tr><td>5</td><td>Staten Island</td></tr>\n",
       "</table>\n"
      ],
      "text/plain": [
       "+------------+-------------+\n",
       "|PULocationID|      Borough|\n",
       "+------------+-------------+\n",
       "|           1|          EWR|\n",
       "|           2|       Queens|\n",
       "|           3|        Bronx|\n",
       "|           4|    Manhattan|\n",
       "|           5|Staten Island|\n",
       "+------------+-------------+"
      ]
     },
     "execution_count": 72,
     "metadata": {},
     "output_type": "execute_result"
    }
   ],
   "source": [
    "sdf_zone = spark.read.option(\"header\",True).csv(\"../data/taxi_zones/taxi+_zone_lookup.csv\")\n",
    "sdf_zone = sdf_zone.withColumnRenamed('LocationID', 'PULocationID')\n",
    "sdf_zone = sdf_zone.select('PULocationID', 'Borough')\n",
    "sdf_zone.limit(5)"
   ]
  },
  {
   "cell_type": "code",
   "execution_count": 73,
   "id": "a5415e6d",
   "metadata": {
    "ExecuteTime": {
     "end_time": "2022-08-18T09:59:46.838396Z",
     "start_time": "2022-08-18T09:59:46.634979Z"
    }
   },
   "outputs": [
    {
     "data": {
      "text/html": [
       "<table border='1'>\n",
       "<tr><th>PULocationID</th><th>day</th><th>shift</th><th>fare</th><th>temp</th><th>Date</th><th>Borough</th></tr>\n",
       "<tr><td>43</td><td>Tue</td><td>Night</td><td>6.8</td><td>25</td><td>2022-02-01</td><td>Manhattan</td></tr>\n",
       "<tr><td>166</td><td>Tue</td><td>Night</td><td>5.8</td><td>25</td><td>2022-02-01</td><td>Manhattan</td></tr>\n",
       "<tr><td>89</td><td>Tue</td><td>Night</td><td>50.3</td><td>25</td><td>2022-02-01</td><td>Brooklyn</td></tr>\n",
       "<tr><td>7</td><td>Tue</td><td>Night</td><td>25.05</td><td>25</td><td>2022-02-01</td><td>Queens</td></tr>\n",
       "<tr><td>166</td><td>Tue</td><td>Night</td><td>9.8</td><td>25</td><td>2022-02-01</td><td>Manhattan</td></tr>\n",
       "</table>\n"
      ],
      "text/plain": [
       "+------------+---+-----+-----+----+----------+---------+\n",
       "|PULocationID|day|shift| fare|temp|      Date|  Borough|\n",
       "+------------+---+-----+-----+----+----------+---------+\n",
       "|          43|Tue|Night|  6.8|  25|2022-02-01|Manhattan|\n",
       "|         166|Tue|Night|  5.8|  25|2022-02-01|Manhattan|\n",
       "|          89|Tue|Night| 50.3|  25|2022-02-01| Brooklyn|\n",
       "|           7|Tue|Night|25.05|  25|2022-02-01|   Queens|\n",
       "|         166|Tue|Night|  9.8|  25|2022-02-01|Manhattan|\n",
       "+------------+---+-----+-----+----+----------+---------+"
      ]
     },
     "execution_count": 73,
     "metadata": {},
     "output_type": "execute_result"
    }
   ],
   "source": [
    "sdf_merge = sdf_data.join(sdf_zone, on='PULocationID', how='left')\n",
    "sdf_pred = sdf_predict.join(sdf_zone, on='PULocationID', how='left')\n",
    "sdf_merge.limit(5)"
   ]
  },
  {
   "cell_type": "code",
   "execution_count": 93,
   "id": "ccfc680d",
   "metadata": {
    "ExecuteTime": {
     "end_time": "2022-08-18T10:12:43.144760Z",
     "start_time": "2022-08-18T10:12:42.890576Z"
    },
    "scrolled": true
   },
   "outputs": [
    {
     "data": {
      "text/html": [
       "<table border='1'>\n",
       "<tr><th>Borough</th><th>day</th><th>shift</th><th>temp</th><th>fare</th></tr>\n",
       "<tr><td>Manhattan</td><td>Tue</td><td>Night</td><td>25</td><td>6.8</td></tr>\n",
       "<tr><td>Manhattan</td><td>Tue</td><td>Night</td><td>25</td><td>5.8</td></tr>\n",
       "<tr><td>Brooklyn</td><td>Tue</td><td>Night</td><td>25</td><td>50.3</td></tr>\n",
       "<tr><td>Queens</td><td>Tue</td><td>Night</td><td>25</td><td>25.05</td></tr>\n",
       "<tr><td>Manhattan</td><td>Tue</td><td>Night</td><td>25</td><td>9.8</td></tr>\n",
       "</table>\n"
      ],
      "text/plain": [
       "+---------+---+-----+----+-----+\n",
       "|  Borough|day|shift|temp| fare|\n",
       "+---------+---+-----+----+-----+\n",
       "|Manhattan|Tue|Night|  25|  6.8|\n",
       "|Manhattan|Tue|Night|  25|  5.8|\n",
       "| Brooklyn|Tue|Night|  25| 50.3|\n",
       "|   Queens|Tue|Night|  25|25.05|\n",
       "|Manhattan|Tue|Night|  25|  9.8|\n",
       "+---------+---+-----+----+-----+"
      ]
     },
     "execution_count": 93,
     "metadata": {},
     "output_type": "execute_result"
    }
   ],
   "source": [
    "sdf_merge = sdf_merge.select('Borough', 'day', 'shift', 'temp', 'fare')\n",
    "sdf_pred = sdf_pred.select('Borough', 'day', 'shift', 'temp', 'fare')\n",
    "sdf_merge.limit(5)"
   ]
  },
  {
   "cell_type": "code",
   "execution_count": 94,
   "id": "1a3a16eb",
   "metadata": {
    "ExecuteTime": {
     "end_time": "2022-08-18T10:12:44.115986Z",
     "start_time": "2022-08-18T10:12:43.146701Z"
    },
    "scrolled": true
   },
   "outputs": [
    {
     "data": {
      "text/html": [
       "<table border='1'>\n",
       "<tr><th>Borough</th><th>day</th><th>shift</th><th>temp</th><th>fare</th></tr>\n",
       "<tr><td>Bronx</td><td>Sun</td><td>Night</td><td>27</td><td>17.49</td></tr>\n",
       "<tr><td>Brooklyn</td><td>Mon</td><td>Morning</td><td>32</td><td>15.76</td></tr>\n",
       "<tr><td>Staten Island</td><td>Wed</td><td>Night</td><td>44</td><td>72.85</td></tr>\n",
       "<tr><td>Brooklyn</td><td>Mon</td><td>Night</td><td>45</td><td>17.14</td></tr>\n",
       "<tr><td>Manhattan</td><td>Thu</td><td>Morning</td><td>56</td><td>14.9</td></tr>\n",
       "</table>\n"
      ],
      "text/plain": [
       "+-------------+---+-------+----+-----+\n",
       "|      Borough|day|  shift|temp| fare|\n",
       "+-------------+---+-------+----+-----+\n",
       "|        Bronx|Sun|  Night|  27|17.49|\n",
       "|     Brooklyn|Mon|Morning|  32|15.76|\n",
       "|Staten Island|Wed|  Night|  44|72.85|\n",
       "|     Brooklyn|Mon|  Night|  45|17.14|\n",
       "|    Manhattan|Thu|Morning|  56| 14.9|\n",
       "+-------------+---+-------+----+-----+"
      ]
     },
     "execution_count": 94,
     "metadata": {},
     "output_type": "execute_result"
    }
   ],
   "source": [
    "# In order to fulfill full rank model for linear regression, we combine and get the fare average for duplicates\n",
    "sdf_agg = sdf_merge \\\n",
    "            .groupBy('Borough', 'day', 'shift','temp') \\\n",
    "            .agg(\n",
    "                F.round(F.mean(\"fare\"),2).alias(\"fare\"),\n",
    "            ) \n",
    "sdf_agg.limit(5)"
   ]
  },
  {
   "cell_type": "code",
   "execution_count": 96,
   "id": "6546398b",
   "metadata": {
    "ExecuteTime": {
     "end_time": "2022-08-18T10:13:20.616889Z",
     "start_time": "2022-08-18T10:13:20.559552Z"
    },
    "scrolled": true
   },
   "outputs": [
    {
     "ename": "IllegalArgumentException",
     "evalue": "requirement failed: Output column Borough_idx already exists.",
     "output_type": "error",
     "traceback": [
      "\u001b[0;31m---------------------------------------------------------------------------\u001b[0m",
      "\u001b[0;31mIllegalArgumentException\u001b[0m                  Traceback (most recent call last)",
      "\u001b[0;32m<ipython-input-96-d320c16c168c>\u001b[0m in \u001b[0;36m<module>\u001b[0;34m\u001b[0m\n\u001b[1;32m      1\u001b[0m \u001b[0;31m# Change to indexes from strings to one hot encode\u001b[0m\u001b[0;34m\u001b[0m\u001b[0;34m\u001b[0m\u001b[0;34m\u001b[0m\u001b[0m\n\u001b[0;32m----> 2\u001b[0;31m \u001b[0msdf_agg\u001b[0m \u001b[0;34m=\u001b[0m \u001b[0mStringIndexer\u001b[0m\u001b[0;34m(\u001b[0m\u001b[0minputCols\u001b[0m\u001b[0;34m=\u001b[0m\u001b[0;34m[\u001b[0m\u001b[0;34m'Borough'\u001b[0m\u001b[0;34m,\u001b[0m\u001b[0;34m'day'\u001b[0m\u001b[0;34m,\u001b[0m\u001b[0;34m'shift'\u001b[0m\u001b[0;34m]\u001b[0m\u001b[0;34m,\u001b[0m \u001b[0moutputCols\u001b[0m\u001b[0;34m=\u001b[0m\u001b[0;34m[\u001b[0m\u001b[0;34m'Borough_idx'\u001b[0m\u001b[0;34m,\u001b[0m\u001b[0;34m'day_idx'\u001b[0m\u001b[0;34m,\u001b[0m\u001b[0;34m'shift_idx'\u001b[0m\u001b[0;34m]\u001b[0m\u001b[0;34m)\u001b[0m\u001b[0;34m.\u001b[0m\u001b[0mfit\u001b[0m\u001b[0;34m(\u001b[0m\u001b[0msdf_agg\u001b[0m\u001b[0;34m)\u001b[0m\u001b[0;34m.\u001b[0m\u001b[0mtransform\u001b[0m\u001b[0;34m(\u001b[0m\u001b[0msdf_agg\u001b[0m\u001b[0;34m)\u001b[0m\u001b[0;34m\u001b[0m\u001b[0;34m\u001b[0m\u001b[0m\n\u001b[0m\u001b[1;32m      3\u001b[0m \u001b[0msdf_pred\u001b[0m \u001b[0;34m=\u001b[0m \u001b[0mStringIndexer\u001b[0m\u001b[0;34m(\u001b[0m\u001b[0minputCols\u001b[0m\u001b[0;34m=\u001b[0m\u001b[0;34m[\u001b[0m\u001b[0;34m'Borough'\u001b[0m\u001b[0;34m,\u001b[0m\u001b[0;34m'day'\u001b[0m\u001b[0;34m,\u001b[0m\u001b[0;34m'shift'\u001b[0m\u001b[0;34m]\u001b[0m\u001b[0;34m,\u001b[0m \u001b[0moutputCols\u001b[0m\u001b[0;34m=\u001b[0m\u001b[0;34m[\u001b[0m\u001b[0;34m'Borough_idx'\u001b[0m\u001b[0;34m,\u001b[0m\u001b[0;34m'day_idx'\u001b[0m\u001b[0;34m,\u001b[0m\u001b[0;34m'shift_idx'\u001b[0m\u001b[0;34m]\u001b[0m\u001b[0;34m)\u001b[0m\u001b[0;34m.\u001b[0m\u001b[0mfit\u001b[0m\u001b[0;34m(\u001b[0m\u001b[0msdf_pred\u001b[0m\u001b[0;34m)\u001b[0m\u001b[0;34m.\u001b[0m\u001b[0mtransform\u001b[0m\u001b[0;34m(\u001b[0m\u001b[0msdf_pred\u001b[0m\u001b[0;34m)\u001b[0m\u001b[0;34m\u001b[0m\u001b[0;34m\u001b[0m\u001b[0m\n\u001b[1;32m      4\u001b[0m \u001b[0msdf_agg\u001b[0m\u001b[0;34m.\u001b[0m\u001b[0mshow\u001b[0m\u001b[0;34m(\u001b[0m\u001b[0;34m)\u001b[0m\u001b[0;34m\u001b[0m\u001b[0;34m\u001b[0m\u001b[0m\n",
      "\u001b[0;32m~/opt/anaconda3/lib/python3.8/site-packages/pyspark/ml/base.py\u001b[0m in \u001b[0;36mfit\u001b[0;34m(self, dataset, params)\u001b[0m\n\u001b[1;32m    159\u001b[0m                 \u001b[0;32mreturn\u001b[0m \u001b[0mself\u001b[0m\u001b[0;34m.\u001b[0m\u001b[0mcopy\u001b[0m\u001b[0;34m(\u001b[0m\u001b[0mparams\u001b[0m\u001b[0;34m)\u001b[0m\u001b[0;34m.\u001b[0m\u001b[0m_fit\u001b[0m\u001b[0;34m(\u001b[0m\u001b[0mdataset\u001b[0m\u001b[0;34m)\u001b[0m\u001b[0;34m\u001b[0m\u001b[0;34m\u001b[0m\u001b[0m\n\u001b[1;32m    160\u001b[0m             \u001b[0;32melse\u001b[0m\u001b[0;34m:\u001b[0m\u001b[0;34m\u001b[0m\u001b[0;34m\u001b[0m\u001b[0m\n\u001b[0;32m--> 161\u001b[0;31m                 \u001b[0;32mreturn\u001b[0m \u001b[0mself\u001b[0m\u001b[0;34m.\u001b[0m\u001b[0m_fit\u001b[0m\u001b[0;34m(\u001b[0m\u001b[0mdataset\u001b[0m\u001b[0;34m)\u001b[0m\u001b[0;34m\u001b[0m\u001b[0;34m\u001b[0m\u001b[0m\n\u001b[0m\u001b[1;32m    162\u001b[0m         \u001b[0;32melse\u001b[0m\u001b[0;34m:\u001b[0m\u001b[0;34m\u001b[0m\u001b[0;34m\u001b[0m\u001b[0m\n\u001b[1;32m    163\u001b[0m             raise ValueError(\"Params must be either a param map or a list/tuple of param maps, \"\n",
      "\u001b[0;32m~/opt/anaconda3/lib/python3.8/site-packages/pyspark/ml/wrapper.py\u001b[0m in \u001b[0;36m_fit\u001b[0;34m(self, dataset)\u001b[0m\n\u001b[1;32m    333\u001b[0m \u001b[0;34m\u001b[0m\u001b[0m\n\u001b[1;32m    334\u001b[0m     \u001b[0;32mdef\u001b[0m \u001b[0m_fit\u001b[0m\u001b[0;34m(\u001b[0m\u001b[0mself\u001b[0m\u001b[0;34m,\u001b[0m \u001b[0mdataset\u001b[0m\u001b[0;34m)\u001b[0m\u001b[0;34m:\u001b[0m\u001b[0;34m\u001b[0m\u001b[0;34m\u001b[0m\u001b[0m\n\u001b[0;32m--> 335\u001b[0;31m         \u001b[0mjava_model\u001b[0m \u001b[0;34m=\u001b[0m \u001b[0mself\u001b[0m\u001b[0;34m.\u001b[0m\u001b[0m_fit_java\u001b[0m\u001b[0;34m(\u001b[0m\u001b[0mdataset\u001b[0m\u001b[0;34m)\u001b[0m\u001b[0;34m\u001b[0m\u001b[0;34m\u001b[0m\u001b[0m\n\u001b[0m\u001b[1;32m    336\u001b[0m         \u001b[0mmodel\u001b[0m \u001b[0;34m=\u001b[0m \u001b[0mself\u001b[0m\u001b[0;34m.\u001b[0m\u001b[0m_create_model\u001b[0m\u001b[0;34m(\u001b[0m\u001b[0mjava_model\u001b[0m\u001b[0;34m)\u001b[0m\u001b[0;34m\u001b[0m\u001b[0;34m\u001b[0m\u001b[0m\n\u001b[1;32m    337\u001b[0m         \u001b[0;32mreturn\u001b[0m \u001b[0mself\u001b[0m\u001b[0;34m.\u001b[0m\u001b[0m_copyValues\u001b[0m\u001b[0;34m(\u001b[0m\u001b[0mmodel\u001b[0m\u001b[0;34m)\u001b[0m\u001b[0;34m\u001b[0m\u001b[0;34m\u001b[0m\u001b[0m\n",
      "\u001b[0;32m~/opt/anaconda3/lib/python3.8/site-packages/pyspark/ml/wrapper.py\u001b[0m in \u001b[0;36m_fit_java\u001b[0;34m(self, dataset)\u001b[0m\n\u001b[1;32m    330\u001b[0m         \"\"\"\n\u001b[1;32m    331\u001b[0m         \u001b[0mself\u001b[0m\u001b[0;34m.\u001b[0m\u001b[0m_transfer_params_to_java\u001b[0m\u001b[0;34m(\u001b[0m\u001b[0;34m)\u001b[0m\u001b[0;34m\u001b[0m\u001b[0;34m\u001b[0m\u001b[0m\n\u001b[0;32m--> 332\u001b[0;31m         \u001b[0;32mreturn\u001b[0m \u001b[0mself\u001b[0m\u001b[0;34m.\u001b[0m\u001b[0m_java_obj\u001b[0m\u001b[0;34m.\u001b[0m\u001b[0mfit\u001b[0m\u001b[0;34m(\u001b[0m\u001b[0mdataset\u001b[0m\u001b[0;34m.\u001b[0m\u001b[0m_jdf\u001b[0m\u001b[0;34m)\u001b[0m\u001b[0;34m\u001b[0m\u001b[0;34m\u001b[0m\u001b[0m\n\u001b[0m\u001b[1;32m    333\u001b[0m \u001b[0;34m\u001b[0m\u001b[0m\n\u001b[1;32m    334\u001b[0m     \u001b[0;32mdef\u001b[0m \u001b[0m_fit\u001b[0m\u001b[0;34m(\u001b[0m\u001b[0mself\u001b[0m\u001b[0;34m,\u001b[0m \u001b[0mdataset\u001b[0m\u001b[0;34m)\u001b[0m\u001b[0;34m:\u001b[0m\u001b[0;34m\u001b[0m\u001b[0;34m\u001b[0m\u001b[0m\n",
      "\u001b[0;32m~/opt/anaconda3/lib/python3.8/site-packages/py4j/java_gateway.py\u001b[0m in \u001b[0;36m__call__\u001b[0;34m(self, *args)\u001b[0m\n\u001b[1;32m   1302\u001b[0m \u001b[0;34m\u001b[0m\u001b[0m\n\u001b[1;32m   1303\u001b[0m         \u001b[0manswer\u001b[0m \u001b[0;34m=\u001b[0m \u001b[0mself\u001b[0m\u001b[0;34m.\u001b[0m\u001b[0mgateway_client\u001b[0m\u001b[0;34m.\u001b[0m\u001b[0msend_command\u001b[0m\u001b[0;34m(\u001b[0m\u001b[0mcommand\u001b[0m\u001b[0;34m)\u001b[0m\u001b[0;34m\u001b[0m\u001b[0;34m\u001b[0m\u001b[0m\n\u001b[0;32m-> 1304\u001b[0;31m         return_value = get_return_value(\n\u001b[0m\u001b[1;32m   1305\u001b[0m             answer, self.gateway_client, self.target_id, self.name)\n\u001b[1;32m   1306\u001b[0m \u001b[0;34m\u001b[0m\u001b[0m\n",
      "\u001b[0;32m~/opt/anaconda3/lib/python3.8/site-packages/pyspark/sql/utils.py\u001b[0m in \u001b[0;36mdeco\u001b[0;34m(*a, **kw)\u001b[0m\n\u001b[1;32m    115\u001b[0m                 \u001b[0;31m# Hide where the exception came from that shows a non-Pythonic\u001b[0m\u001b[0;34m\u001b[0m\u001b[0;34m\u001b[0m\u001b[0;34m\u001b[0m\u001b[0m\n\u001b[1;32m    116\u001b[0m                 \u001b[0;31m# JVM exception message.\u001b[0m\u001b[0;34m\u001b[0m\u001b[0;34m\u001b[0m\u001b[0;34m\u001b[0m\u001b[0m\n\u001b[0;32m--> 117\u001b[0;31m                 \u001b[0;32mraise\u001b[0m \u001b[0mconverted\u001b[0m \u001b[0;32mfrom\u001b[0m \u001b[0;32mNone\u001b[0m\u001b[0;34m\u001b[0m\u001b[0;34m\u001b[0m\u001b[0m\n\u001b[0m\u001b[1;32m    118\u001b[0m             \u001b[0;32melse\u001b[0m\u001b[0;34m:\u001b[0m\u001b[0;34m\u001b[0m\u001b[0;34m\u001b[0m\u001b[0m\n\u001b[1;32m    119\u001b[0m                 \u001b[0;32mraise\u001b[0m\u001b[0;34m\u001b[0m\u001b[0;34m\u001b[0m\u001b[0m\n",
      "\u001b[0;31mIllegalArgumentException\u001b[0m: requirement failed: Output column Borough_idx already exists."
     ]
    }
   ],
   "source": [
    "# Change to indexes from strings to one hot encode\n",
    "sdf_agg = StringIndexer(inputCols=['Borough','day','shift'], outputCols=['Borough_idx','day_idx','shift_idx']).fit(sdf_agg).transform(sdf_agg)\n",
    "sdf_pred = StringIndexer(inputCols=['Borough','day','shift'], outputCols=['Borough_idx','day_idx','shift_idx']).fit(sdf_pred).transform(sdf_pred)\n",
    "sdf_agg.show()"
   ]
  },
  {
   "cell_type": "code",
   "execution_count": 78,
   "id": "7fe85826",
   "metadata": {
    "ExecuteTime": {
     "end_time": "2022-08-18T10:00:06.182007Z",
     "start_time": "2022-08-18T10:00:04.703700Z"
    }
   },
   "outputs": [
    {
     "data": {
      "text/html": [
       "<table border='1'>\n",
       "<tr><th>Borough_ohe</th><th>day_ohe</th><th>shift_ohe</th><th>temp</th><th>fare</th></tr>\n",
       "<tr><td>(5,[0],[1.0])</td><td>(6,[4],[1.0])</td><td>(1,[],[])</td><td>27</td><td>17.49</td></tr>\n",
       "<tr><td>(5,[1],[1.0])</td><td>(6,[1],[1.0])</td><td>(1,[0],[1.0])</td><td>32</td><td>15.76</td></tr>\n",
       "<tr><td>(5,[4],[1.0])</td><td>(6,[],[])</td><td>(1,[],[])</td><td>44</td><td>72.85</td></tr>\n",
       "<tr><td>(5,[1],[1.0])</td><td>(6,[1],[1.0])</td><td>(1,[],[])</td><td>45</td><td>17.14</td></tr>\n",
       "<tr><td>(5,[2],[1.0])</td><td>(6,[3],[1.0])</td><td>(1,[0],[1.0])</td><td>56</td><td>14.9</td></tr>\n",
       "</table>\n"
      ],
      "text/plain": [
       "+-------------+-------------+-------------+----+-----+\n",
       "|  Borough_ohe|      day_ohe|    shift_ohe|temp| fare|\n",
       "+-------------+-------------+-------------+----+-----+\n",
       "|(5,[0],[1.0])|(6,[4],[1.0])|    (1,[],[])|  27|17.49|\n",
       "|(5,[1],[1.0])|(6,[1],[1.0])|(1,[0],[1.0])|  32|15.76|\n",
       "|(5,[4],[1.0])|    (6,[],[])|    (1,[],[])|  44|72.85|\n",
       "|(5,[1],[1.0])|(6,[1],[1.0])|    (1,[],[])|  45|17.14|\n",
       "|(5,[2],[1.0])|(6,[3],[1.0])|(1,[0],[1.0])|  56| 14.9|\n",
       "+-------------+-------------+-------------+----+-----+"
      ]
     },
     "execution_count": 78,
     "metadata": {},
     "output_type": "execute_result"
    }
   ],
   "source": [
    "# One Hot Encode\n",
    "OHE = OneHotEncoder(inputCols=['Borough_idx','day_idx','shift_idx'], \n",
    "                    outputCols= ['Borough_ohe','day_ohe','shift_ohe'])\n",
    "OHE_pred = OneHotEncoder(inputCols=['Borough_idx','day_idx','shift_idx'], \n",
    "                    outputCols= ['Borough_ohe','day_ohe','shift_ohe'])\n",
    "OHE = OHE.fit(sdf_agg)\n",
    "OHE_pred = OHE_pred.fit(sdf_pred)\n",
    "\n",
    "sdf_ohe = OHE.transform(sdf_agg)\n",
    "sdf_ohe_pred = OHE_pred.transform(sdf_pred)\n",
    "\n",
    "sdf_ohef = sdf_ohe.select('Borough_ohe', 'day_ohe','shift_ohe', 'temp', 'fare')\n",
    "sdf_ohef_pred = sdf_ohe_pred.select('Borough_ohe', 'day_ohe','shift_ohe', 'temp', 'fare')\n",
    "\n",
    "\n",
    "sdf_ohef.limit(5)"
   ]
  },
  {
   "cell_type": "code",
   "execution_count": 79,
   "id": "6c974fda",
   "metadata": {
    "ExecuteTime": {
     "end_time": "2022-08-18T10:00:09.551091Z",
     "start_time": "2022-08-18T10:00:08.101237Z"
    }
   },
   "outputs": [
    {
     "name": "stdout",
     "output_type": "stream",
     "text": [
      "+-------------+-------------+\n",
      "|      Borough|  Borough_ohe|\n",
      "+-------------+-------------+\n",
      "|          EWR|    (5,[],[])|\n",
      "|        Bronx|(5,[0],[1.0])|\n",
      "|     Brooklyn|(5,[1],[1.0])|\n",
      "|    Manhattan|(5,[2],[1.0])|\n",
      "|       Queens|(5,[3],[1.0])|\n",
      "|Staten Island|(5,[4],[1.0])|\n",
      "+-------------+-------------+\n",
      "\n"
     ]
    }
   ],
   "source": [
    "sdf_ohe.select('Borough','Borough_ohe').distinct().sort('Borough_ohe').show()"
   ]
  },
  {
   "cell_type": "code",
   "execution_count": 80,
   "id": "bf1541ae",
   "metadata": {
    "ExecuteTime": {
     "end_time": "2022-08-18T10:00:11.193441Z",
     "start_time": "2022-08-18T10:00:10.079012Z"
    }
   },
   "outputs": [
    {
     "name": "stdout",
     "output_type": "stream",
     "text": [
      "+---+-------------+\n",
      "|day|      day_ohe|\n",
      "+---+-------------+\n",
      "|Wed|    (6,[],[])|\n",
      "|Fri|(6,[0],[1.0])|\n",
      "|Mon|(6,[1],[1.0])|\n",
      "|Sat|(6,[2],[1.0])|\n",
      "|Thu|(6,[3],[1.0])|\n",
      "|Sun|(6,[4],[1.0])|\n",
      "|Tue|(6,[5],[1.0])|\n",
      "+---+-------------+\n",
      "\n"
     ]
    }
   ],
   "source": [
    "sdf_ohe.select('day','day_ohe').distinct().sort('day_ohe').show()"
   ]
  },
  {
   "cell_type": "code",
   "execution_count": 81,
   "id": "1f9df2aa",
   "metadata": {
    "ExecuteTime": {
     "end_time": "2022-08-18T10:00:12.364096Z",
     "start_time": "2022-08-18T10:00:11.195532Z"
    },
    "scrolled": true
   },
   "outputs": [
    {
     "name": "stdout",
     "output_type": "stream",
     "text": [
      "+-------+-------------+\n",
      "|  shift|    shift_ohe|\n",
      "+-------+-------------+\n",
      "|  Night|    (1,[],[])|\n",
      "|Morning|(1,[0],[1.0])|\n",
      "+-------+-------------+\n",
      "\n"
     ]
    }
   ],
   "source": [
    "sdf_ohe.select('shift','shift_ohe').distinct().sort('shift_ohe').show()"
   ]
  },
  {
   "cell_type": "code",
   "execution_count": 82,
   "id": "b51dd85c",
   "metadata": {
    "ExecuteTime": {
     "end_time": "2022-08-18T10:00:12.869755Z",
     "start_time": "2022-08-18T10:00:12.366646Z"
    }
   },
   "outputs": [],
   "source": [
    "# We want to normalize temp so it can be compared to dummy variables\n",
    "mean_temp, sd_temp = sdf_ohef.select(F.mean(\"temp\"), F.stddev(\"temp\")).first()\n",
    "sdf_ohef = sdf_ohef.withColumn(\"temp_norm\", (F.col(\"temp\") - mean_temp) / sd_temp)\n",
    "sdf_ohef_pred = sdf_ohef_pred.withColumn(\"temp_norm\", (F.col(\"temp\") - mean_temp) / sd_temp)"
   ]
  },
  {
   "cell_type": "code",
   "execution_count": 83,
   "id": "c5d05720",
   "metadata": {
    "ExecuteTime": {
     "end_time": "2022-08-18T10:00:13.403701Z",
     "start_time": "2022-08-18T10:00:12.872274Z"
    }
   },
   "outputs": [
    {
     "data": {
      "text/plain": [
       "([Row(features=SparseVector(13, {0: 1.0, 9: 1.0, 12: -1.536})),\n",
       "  Row(features=SparseVector(13, {1: 1.0, 6: 1.0, 11: 1.0, 12: -1.2696})),\n",
       "  Row(features=SparseVector(13, {4: 1.0, 12: -0.6304})),\n",
       "  Row(features=SparseVector(13, {1: 1.0, 6: 1.0, 12: -0.5771})),\n",
       "  Row(features=SparseVector(13, {2: 1.0, 8: 1.0, 11: 1.0, 12: 0.0089}))],\n",
       " [Row(fare=17.49),\n",
       "  Row(fare=15.76),\n",
       "  Row(fare=72.85),\n",
       "  Row(fare=17.14),\n",
       "  Row(fare=14.9)])"
      ]
     },
     "execution_count": 83,
     "metadata": {},
     "output_type": "execute_result"
    }
   ],
   "source": [
    "# Create assember object for predictors\n",
    "features = 'features'\n",
    "input_cols = ['Borough_ohe', 'day_ohe','shift_ohe', 'temp_norm']\n",
    "\n",
    "assembler = VectorAssembler(\n",
    "                                inputCols=input_cols,\n",
    "                                outputCol= features\n",
    "                            )\n",
    "sdf_model = assembler.transform(sdf_ohef)\n",
    "sdf_model.select('features').head(5), sdf_model.select('fare').head(5)"
   ]
  },
  {
   "cell_type": "code",
   "execution_count": 84,
   "id": "518b546f",
   "metadata": {
    "ExecuteTime": {
     "end_time": "2022-08-18T10:00:13.419889Z",
     "start_time": "2022-08-18T10:00:13.405274Z"
    }
   },
   "outputs": [],
   "source": [
    "# Create assember object for predictors (pred)\n",
    "features = 'features'\n",
    "input_cols = ['Borough_ohe', 'day_ohe','shift_ohe', 'temp_norm']\n",
    "\n",
    "assembler_pred = VectorAssembler(\n",
    "                                inputCols=input_cols,\n",
    "                                outputCol= features\n",
    "                            )\n",
    "sdf_model_pred = assembler_pred.transform(sdf_ohef_pred)"
   ]
  },
  {
   "cell_type": "code",
   "execution_count": 85,
   "id": "4a9aef60",
   "metadata": {
    "ExecuteTime": {
     "end_time": "2022-08-18T10:00:15.048055Z",
     "start_time": "2022-08-18T10:00:13.421496Z"
    }
   },
   "outputs": [],
   "source": [
    "lm = LinearRegression(featuresCol='features', labelCol='fare').fit(sdf_model)"
   ]
  },
  {
   "cell_type": "code",
   "execution_count": 86,
   "id": "93f763f5",
   "metadata": {
    "ExecuteTime": {
     "end_time": "2022-08-18T10:00:15.067731Z",
     "start_time": "2022-08-18T10:00:15.049502Z"
    }
   },
   "outputs": [
    {
     "data": {
      "text/html": [
       "<div>\n",
       "<style scoped>\n",
       "    .dataframe tbody tr th:only-of-type {\n",
       "        vertical-align: middle;\n",
       "    }\n",
       "\n",
       "    .dataframe tbody tr th {\n",
       "        vertical-align: top;\n",
       "    }\n",
       "\n",
       "    .dataframe thead th {\n",
       "        text-align: right;\n",
       "    }\n",
       "</style>\n",
       "<table border=\"1\" class=\"dataframe\">\n",
       "  <thead>\n",
       "    <tr style=\"text-align: right;\">\n",
       "      <th></th>\n",
       "      <th>coefficient</th>\n",
       "    </tr>\n",
       "  </thead>\n",
       "  <tbody>\n",
       "    <tr>\n",
       "      <th>intercept</th>\n",
       "      <td>85.120777</td>\n",
       "    </tr>\n",
       "    <tr>\n",
       "      <th>Manhattan</th>\n",
       "      <td>-62.225126</td>\n",
       "    </tr>\n",
       "    <tr>\n",
       "      <th>Queens</th>\n",
       "      <td>-68.206201</td>\n",
       "    </tr>\n",
       "    <tr>\n",
       "      <th>Brooklyn</th>\n",
       "      <td>-74.066927</td>\n",
       "    </tr>\n",
       "    <tr>\n",
       "      <th>Bronx</th>\n",
       "      <td>-69.354320</td>\n",
       "    </tr>\n",
       "    <tr>\n",
       "      <th>Staten Island</th>\n",
       "      <td>-17.795055</td>\n",
       "    </tr>\n",
       "    <tr>\n",
       "      <th>Fri</th>\n",
       "      <td>0.182620</td>\n",
       "    </tr>\n",
       "    <tr>\n",
       "      <th>Thu</th>\n",
       "      <td>1.281058</td>\n",
       "    </tr>\n",
       "    <tr>\n",
       "      <th>Wed</th>\n",
       "      <td>-0.277878</td>\n",
       "    </tr>\n",
       "    <tr>\n",
       "      <th>Mon</th>\n",
       "      <td>0.141586</td>\n",
       "    </tr>\n",
       "    <tr>\n",
       "      <th>Tue</th>\n",
       "      <td>0.998368</td>\n",
       "    </tr>\n",
       "    <tr>\n",
       "      <th>Sat</th>\n",
       "      <td>2.073478</td>\n",
       "    </tr>\n",
       "    <tr>\n",
       "      <th>Morning</th>\n",
       "      <td>5.039237</td>\n",
       "    </tr>\n",
       "    <tr>\n",
       "      <th>temp</th>\n",
       "      <td>1.776605</td>\n",
       "    </tr>\n",
       "  </tbody>\n",
       "</table>\n",
       "</div>"
      ],
      "text/plain": [
       "               coefficient\n",
       "intercept        85.120777\n",
       "Manhattan       -62.225126\n",
       "Queens          -68.206201\n",
       "Brooklyn        -74.066927\n",
       "Bronx           -69.354320\n",
       "Staten Island   -17.795055\n",
       "Fri               0.182620\n",
       "Thu               1.281058\n",
       "Wed              -0.277878\n",
       "Mon               0.141586\n",
       "Tue               0.998368\n",
       "Sat               2.073478\n",
       "Morning           5.039237\n",
       "temp              1.776605"
      ]
     },
     "execution_count": 86,
     "metadata": {},
     "output_type": "execute_result"
    }
   ],
   "source": [
    "# Access coefficients\n",
    "\n",
    "# 'EWR', 'Sun', 'Night' are not included as they are the reference group\n",
    "coef_cols = ['Manhattan', 'Queens', 'Brooklyn', 'Bronx', 'Staten Island', \n",
    "             'Fri', 'Thu', 'Wed', 'Mon', 'Tue', 'Sat', \n",
    "             'Morning', \n",
    "             'temp']\n",
    "\n",
    "pd.DataFrame(\n",
    "    data=[lm.intercept] + list(lm.coefficients),\n",
    "    index=['intercept'] + coef_cols,\n",
    "    columns=['coefficient']\n",
    ")"
   ]
  },
  {
   "cell_type": "code",
   "execution_count": 87,
   "id": "2e44b0ae",
   "metadata": {
    "ExecuteTime": {
     "end_time": "2022-08-18T10:00:15.084610Z",
     "start_time": "2022-08-18T10:00:15.070882Z"
    }
   },
   "outputs": [],
   "source": [
    "# Test on test data and check error analysis RMSE and R^2\n",
    "fare_pred = lm.transform(sdf_model_pred)"
   ]
  },
  {
   "cell_type": "code",
   "execution_count": 88,
   "id": "2cb072f3",
   "metadata": {
    "ExecuteTime": {
     "end_time": "2022-08-18T10:00:15.091883Z",
     "start_time": "2022-08-18T10:00:15.086986Z"
    }
   },
   "outputs": [
    {
     "data": {
      "text/plain": [
       "56.03839903117522"
      ]
     },
     "execution_count": 88,
     "metadata": {},
     "output_type": "execute_result"
    }
   ],
   "source": [
    "lm.summary.meanSquaredError"
   ]
  },
  {
   "cell_type": "code",
   "execution_count": 89,
   "id": "d75c7ac7",
   "metadata": {
    "ExecuteTime": {
     "end_time": "2022-08-18T10:00:15.098846Z",
     "start_time": "2022-08-18T10:00:15.094244Z"
    }
   },
   "outputs": [
    {
     "data": {
      "text/plain": [
       "0.8628067020053637"
      ]
     },
     "execution_count": 89,
     "metadata": {},
     "output_type": "execute_result"
    }
   ],
   "source": [
    "lm.summary.r2adj"
   ]
  },
  {
   "cell_type": "markdown",
   "id": "52df8118",
   "metadata": {},
   "source": [
    "Use together with the graphs for demand."
   ]
  }
 ],
 "metadata": {
  "kernelspec": {
   "display_name": "Python 3",
   "language": "python",
   "name": "python3"
  },
  "language_info": {
   "codemirror_mode": {
    "name": "ipython",
    "version": 3
   },
   "file_extension": ".py",
   "mimetype": "text/x-python",
   "name": "python",
   "nbconvert_exporter": "python",
   "pygments_lexer": "ipython3",
   "version": "3.8.8"
  },
  "toc": {
   "base_numbering": 1,
   "nav_menu": {},
   "number_sections": true,
   "sideBar": true,
   "skip_h1_title": false,
   "title_cell": "Table of Contents",
   "title_sidebar": "Contents",
   "toc_cell": false,
   "toc_position": {},
   "toc_section_display": true,
   "toc_window_display": false
  }
 },
 "nbformat": 4,
 "nbformat_minor": 5
}
