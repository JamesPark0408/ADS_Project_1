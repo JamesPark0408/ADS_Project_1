{
 "cells": [
  {
   "cell_type": "code",
   "execution_count": 8,
   "id": "c146c428",
   "metadata": {
    "ExecuteTime": {
     "end_time": "2022-08-18T10:57:18.545849Z",
     "start_time": "2022-08-18T10:57:18.540378Z"
    }
   },
   "outputs": [],
   "source": [
    "from pyspark.sql import SparkSession\n",
    "from pyspark.sql import functions as F\n",
    "from pyspark.ml import Pipeline\n",
    "from pyspark.ml.regression import RandomForestRegressor\n",
    "from pyspark.ml.feature import VectorIndexer\n",
    "from pyspark.ml.evaluation import RegressionEvaluator"
   ]
  },
  {
   "cell_type": "code",
   "execution_count": 2,
   "id": "88a98b24",
   "metadata": {
    "ExecuteTime": {
     "end_time": "2022-08-18T10:51:33.773409Z",
     "start_time": "2022-08-18T10:51:13.255008Z"
    }
   },
   "outputs": [],
   "source": [
    "# Create a spark session (which will run spark jobs)\n",
    "spark = (\n",
    "    SparkSession.builder.appName(\"MAST30034 Project 1\")\n",
    "    .config(\"spark.sql.repl.eagerEval.enabled\", True) \n",
    "    .config(\"spark.sql.parquet.cacheMetadata\", \"true\")\n",
    "    .config(\"spark.sql.session.timeZone\", \"Etc/UTC\")\n",
    "    .config(\"spark.driver.memory\", \"2g\")\n",
    "    .config(\"spark.executor.memory\", \"4g\")\n",
    "    .getOrCreate()\n",
    ")"
   ]
  },
  {
   "cell_type": "code",
   "execution_count": 4,
   "id": "66e01e1b",
   "metadata": {
    "ExecuteTime": {
     "end_time": "2022-08-18T10:52:14.124092Z",
     "start_time": "2022-08-18T10:52:13.402807Z"
    }
   },
   "outputs": [],
   "source": [
    "sdf_data = spark.read.parquet('../data/curated/result_data/')\n",
    "sdf_predict = spark.read.parquet('../data/curated/result_predict/')\n",
    "\n",
    "sdf_zone = spark.read.option(\"header\",True).csv(\"../data/taxi_zones/taxi+_zone_lookup.csv\")\n",
    "sdf_zone = sdf_zone.withColumnRenamed('LocationID', 'PULocationID')\n",
    "sdf_zone = sdf_zone.select('PULocationID', 'Borough')"
   ]
  },
  {
   "cell_type": "code",
   "execution_count": 5,
   "id": "84135fa1",
   "metadata": {
    "ExecuteTime": {
     "end_time": "2022-08-18T10:52:22.793410Z",
     "start_time": "2022-08-18T10:52:22.090245Z"
    }
   },
   "outputs": [
    {
     "data": {
      "text/html": [
       "<table border='1'>\n",
       "<tr><th>PULocationID</th><th>day</th><th>shift</th><th>fare</th><th>temp</th><th>Date</th><th>Borough</th></tr>\n",
       "<tr><td>43</td><td>Tue</td><td>Night</td><td>6.8</td><td>25</td><td>2022-02-01</td><td>Manhattan</td></tr>\n",
       "<tr><td>166</td><td>Tue</td><td>Night</td><td>5.8</td><td>25</td><td>2022-02-01</td><td>Manhattan</td></tr>\n",
       "<tr><td>89</td><td>Tue</td><td>Night</td><td>50.3</td><td>25</td><td>2022-02-01</td><td>Brooklyn</td></tr>\n",
       "<tr><td>7</td><td>Tue</td><td>Night</td><td>25.05</td><td>25</td><td>2022-02-01</td><td>Queens</td></tr>\n",
       "<tr><td>166</td><td>Tue</td><td>Night</td><td>9.8</td><td>25</td><td>2022-02-01</td><td>Manhattan</td></tr>\n",
       "</table>\n"
      ],
      "text/plain": [
       "+------------+---+-----+-----+----+----------+---------+\n",
       "|PULocationID|day|shift| fare|temp|      Date|  Borough|\n",
       "+------------+---+-----+-----+----+----------+---------+\n",
       "|          43|Tue|Night|  6.8|  25|2022-02-01|Manhattan|\n",
       "|         166|Tue|Night|  5.8|  25|2022-02-01|Manhattan|\n",
       "|          89|Tue|Night| 50.3|  25|2022-02-01| Brooklyn|\n",
       "|           7|Tue|Night|25.05|  25|2022-02-01|   Queens|\n",
       "|         166|Tue|Night|  9.8|  25|2022-02-01|Manhattan|\n",
       "+------------+---+-----+-----+----+----------+---------+"
      ]
     },
     "execution_count": 5,
     "metadata": {},
     "output_type": "execute_result"
    }
   ],
   "source": [
    "sdf_merge = sdf_data.join(sdf_zone, on='PULocationID', how='left')\n",
    "sdf_pred = sdf_predict.join(sdf_zone, on='PULocationID', how='left')\n",
    "sdf_merge.limit(5)"
   ]
  },
  {
   "cell_type": "code",
   "execution_count": 6,
   "id": "3c5f35b9",
   "metadata": {
    "ExecuteTime": {
     "end_time": "2022-08-18T10:52:28.096706Z",
     "start_time": "2022-08-18T10:52:27.588114Z"
    }
   },
   "outputs": [
    {
     "data": {
      "text/html": [
       "<table border='1'>\n",
       "<tr><th>Borough</th><th>day</th><th>shift</th><th>temp</th><th>fare</th></tr>\n",
       "<tr><td>Manhattan</td><td>Tue</td><td>Night</td><td>25</td><td>6.8</td></tr>\n",
       "<tr><td>Manhattan</td><td>Tue</td><td>Night</td><td>25</td><td>5.8</td></tr>\n",
       "<tr><td>Brooklyn</td><td>Tue</td><td>Night</td><td>25</td><td>50.3</td></tr>\n",
       "<tr><td>Queens</td><td>Tue</td><td>Night</td><td>25</td><td>25.05</td></tr>\n",
       "<tr><td>Manhattan</td><td>Tue</td><td>Night</td><td>25</td><td>9.8</td></tr>\n",
       "</table>\n"
      ],
      "text/plain": [
       "+---------+---+-----+----+-----+\n",
       "|  Borough|day|shift|temp| fare|\n",
       "+---------+---+-----+----+-----+\n",
       "|Manhattan|Tue|Night|  25|  6.8|\n",
       "|Manhattan|Tue|Night|  25|  5.8|\n",
       "| Brooklyn|Tue|Night|  25| 50.3|\n",
       "|   Queens|Tue|Night|  25|25.05|\n",
       "|Manhattan|Tue|Night|  25|  9.8|\n",
       "+---------+---+-----+----+-----+"
      ]
     },
     "execution_count": 6,
     "metadata": {},
     "output_type": "execute_result"
    }
   ],
   "source": [
    "sdf_merge = sdf_merge.select('Borough', 'day', 'shift', 'temp', 'fare')\n",
    "sdf_pred = sdf_pred.select('Borough', 'day', 'shift', 'temp', 'fare')\n",
    "sdf_merge.limit(5)"
   ]
  },
  {
   "cell_type": "code",
   "execution_count": 7,
   "id": "005b46da",
   "metadata": {
    "ExecuteTime": {
     "end_time": "2022-08-18T10:52:36.573519Z",
     "start_time": "2022-08-18T10:52:33.921724Z"
    }
   },
   "outputs": [
    {
     "data": {
      "text/html": [
       "<table border='1'>\n",
       "<tr><th>Borough</th><th>day</th><th>shift</th><th>temp</th><th>fare</th></tr>\n",
       "<tr><td>Bronx</td><td>Sun</td><td>Night</td><td>27</td><td>17.49</td></tr>\n",
       "<tr><td>Brooklyn</td><td>Mon</td><td>Morning</td><td>32</td><td>15.76</td></tr>\n",
       "<tr><td>Staten Island</td><td>Wed</td><td>Night</td><td>44</td><td>72.85</td></tr>\n",
       "<tr><td>Brooklyn</td><td>Mon</td><td>Night</td><td>45</td><td>17.14</td></tr>\n",
       "<tr><td>Manhattan</td><td>Thu</td><td>Morning</td><td>56</td><td>14.9</td></tr>\n",
       "</table>\n"
      ],
      "text/plain": [
       "+-------------+---+-------+----+-----+\n",
       "|      Borough|day|  shift|temp| fare|\n",
       "+-------------+---+-------+----+-----+\n",
       "|        Bronx|Sun|  Night|  27|17.49|\n",
       "|     Brooklyn|Mon|Morning|  32|15.76|\n",
       "|Staten Island|Wed|  Night|  44|72.85|\n",
       "|     Brooklyn|Mon|  Night|  45|17.14|\n",
       "|    Manhattan|Thu|Morning|  56| 14.9|\n",
       "+-------------+---+-------+----+-----+"
      ]
     },
     "execution_count": 7,
     "metadata": {},
     "output_type": "execute_result"
    }
   ],
   "source": [
    "# In order to fulfill full rank model for linear regression, we combine and get the fare average for duplicates\n",
    "sdf_agg = sdf_merge \\\n",
    "            .groupBy('Borough', 'day', 'shift','temp') \\\n",
    "            .agg(\n",
    "                F.round(F.mean(\"fare\"),2).alias(\"fare\"),\n",
    "            ) \n",
    "sdf_agg.limit(5)"
   ]
  },
  {
   "cell_type": "code",
   "execution_count": 10,
   "id": "98804814",
   "metadata": {
    "ExecuteTime": {
     "end_time": "2022-08-18T11:00:36.603930Z",
     "start_time": "2022-08-18T11:00:36.564103Z"
    }
   },
   "outputs": [
    {
     "ename": "TypeError",
     "evalue": "Invalid param value given for param \"inputCol\". Could not convert <class 'list'> to string type",
     "output_type": "error",
     "traceback": [
      "\u001b[0;31m---------------------------------------------------------------------------\u001b[0m",
      "\u001b[0;31mTypeError\u001b[0m                                 Traceback (most recent call last)",
      "\u001b[0;32m~/opt/anaconda3/lib/python3.8/site-packages/pyspark/ml/param/__init__.py\u001b[0m in \u001b[0;36m_set\u001b[0;34m(self, **kwargs)\u001b[0m\n\u001b[1;32m    463\u001b[0m                 \u001b[0;32mtry\u001b[0m\u001b[0;34m:\u001b[0m\u001b[0;34m\u001b[0m\u001b[0;34m\u001b[0m\u001b[0m\n\u001b[0;32m--> 464\u001b[0;31m                     \u001b[0mvalue\u001b[0m \u001b[0;34m=\u001b[0m \u001b[0mp\u001b[0m\u001b[0;34m.\u001b[0m\u001b[0mtypeConverter\u001b[0m\u001b[0;34m(\u001b[0m\u001b[0mvalue\u001b[0m\u001b[0;34m)\u001b[0m\u001b[0;34m\u001b[0m\u001b[0;34m\u001b[0m\u001b[0m\n\u001b[0m\u001b[1;32m    465\u001b[0m                 \u001b[0;32mexcept\u001b[0m \u001b[0mTypeError\u001b[0m \u001b[0;32mas\u001b[0m \u001b[0me\u001b[0m\u001b[0;34m:\u001b[0m\u001b[0;34m\u001b[0m\u001b[0;34m\u001b[0m\u001b[0m\n",
      "\u001b[0;32m~/opt/anaconda3/lib/python3.8/site-packages/pyspark/ml/param/__init__.py\u001b[0m in \u001b[0;36mtoString\u001b[0;34m(value)\u001b[0m\n\u001b[1;32m    212\u001b[0m         \u001b[0;32melse\u001b[0m\u001b[0;34m:\u001b[0m\u001b[0;34m\u001b[0m\u001b[0;34m\u001b[0m\u001b[0m\n\u001b[0;32m--> 213\u001b[0;31m             \u001b[0;32mraise\u001b[0m \u001b[0mTypeError\u001b[0m\u001b[0;34m(\u001b[0m\u001b[0;34m\"Could not convert %s to string type\"\u001b[0m \u001b[0;34m%\u001b[0m \u001b[0mtype\u001b[0m\u001b[0;34m(\u001b[0m\u001b[0mvalue\u001b[0m\u001b[0;34m)\u001b[0m\u001b[0;34m)\u001b[0m\u001b[0;34m\u001b[0m\u001b[0;34m\u001b[0m\u001b[0m\n\u001b[0m\u001b[1;32m    214\u001b[0m \u001b[0;34m\u001b[0m\u001b[0m\n",
      "\u001b[0;31mTypeError\u001b[0m: Could not convert <class 'list'> to string type",
      "\nDuring handling of the above exception, another exception occurred:\n",
      "\u001b[0;31mTypeError\u001b[0m                                 Traceback (most recent call last)",
      "\u001b[0;32m<ipython-input-10-cffe688670e2>\u001b[0m in \u001b[0;36m<module>\u001b[0;34m\u001b[0m\n\u001b[1;32m      1\u001b[0m \u001b[0;31m# Auto identify categorical features to index (>7 distinct values are treated continuous)\u001b[0m\u001b[0;34m\u001b[0m\u001b[0;34m\u001b[0m\u001b[0;34m\u001b[0m\u001b[0m\n\u001b[1;32m      2\u001b[0m \u001b[0minputCol\u001b[0m \u001b[0;34m=\u001b[0m \u001b[0;34m[\u001b[0m\u001b[0;34m'Borough'\u001b[0m\u001b[0;34m,\u001b[0m \u001b[0;34m'day'\u001b[0m\u001b[0;34m,\u001b[0m\u001b[0;34m'shift'\u001b[0m\u001b[0;34m,\u001b[0m \u001b[0;34m'temp'\u001b[0m\u001b[0;34m]\u001b[0m\u001b[0;34m\u001b[0m\u001b[0;34m\u001b[0m\u001b[0m\n\u001b[0;32m----> 3\u001b[0;31m featureIndexer = VectorIndexer(\n\u001b[0m\u001b[1;32m      4\u001b[0m                     \u001b[0minputCol\u001b[0m\u001b[0;34m=\u001b[0m\u001b[0minputCol\u001b[0m\u001b[0;34m,\u001b[0m\u001b[0;34m\u001b[0m\u001b[0;34m\u001b[0m\u001b[0m\n\u001b[1;32m      5\u001b[0m                     \u001b[0moutputCol\u001b[0m\u001b[0;34m=\u001b[0m\u001b[0;34m\"indexedFeatures\"\u001b[0m\u001b[0;34m,\u001b[0m\u001b[0;34m\u001b[0m\u001b[0;34m\u001b[0m\u001b[0m\n",
      "\u001b[0;32m~/opt/anaconda3/lib/python3.8/site-packages/pyspark/__init__.py\u001b[0m in \u001b[0;36mwrapper\u001b[0;34m(self, *args, **kwargs)\u001b[0m\n\u001b[1;32m    112\u001b[0m             \u001b[0;32mraise\u001b[0m \u001b[0mTypeError\u001b[0m\u001b[0;34m(\u001b[0m\u001b[0;34m\"Method %s forces keyword arguments.\"\u001b[0m \u001b[0;34m%\u001b[0m \u001b[0mfunc\u001b[0m\u001b[0;34m.\u001b[0m\u001b[0m__name__\u001b[0m\u001b[0;34m)\u001b[0m\u001b[0;34m\u001b[0m\u001b[0;34m\u001b[0m\u001b[0m\n\u001b[1;32m    113\u001b[0m         \u001b[0mself\u001b[0m\u001b[0;34m.\u001b[0m\u001b[0m_input_kwargs\u001b[0m \u001b[0;34m=\u001b[0m \u001b[0mkwargs\u001b[0m\u001b[0;34m\u001b[0m\u001b[0;34m\u001b[0m\u001b[0m\n\u001b[0;32m--> 114\u001b[0;31m         \u001b[0;32mreturn\u001b[0m \u001b[0mfunc\u001b[0m\u001b[0;34m(\u001b[0m\u001b[0mself\u001b[0m\u001b[0;34m,\u001b[0m \u001b[0;34m**\u001b[0m\u001b[0mkwargs\u001b[0m\u001b[0;34m)\u001b[0m\u001b[0;34m\u001b[0m\u001b[0;34m\u001b[0m\u001b[0m\n\u001b[0m\u001b[1;32m    115\u001b[0m     \u001b[0;32mreturn\u001b[0m \u001b[0mwrapper\u001b[0m\u001b[0;34m\u001b[0m\u001b[0;34m\u001b[0m\u001b[0m\n\u001b[1;32m    116\u001b[0m \u001b[0;34m\u001b[0m\u001b[0m\n",
      "\u001b[0;32m~/opt/anaconda3/lib/python3.8/site-packages/pyspark/ml/feature.py\u001b[0m in \u001b[0;36m__init__\u001b[0;34m(self, maxCategories, inputCol, outputCol, handleInvalid)\u001b[0m\n\u001b[1;32m   4391\u001b[0m         \u001b[0mself\u001b[0m\u001b[0;34m.\u001b[0m\u001b[0m_java_obj\u001b[0m \u001b[0;34m=\u001b[0m \u001b[0mself\u001b[0m\u001b[0;34m.\u001b[0m\u001b[0m_new_java_obj\u001b[0m\u001b[0;34m(\u001b[0m\u001b[0;34m\"org.apache.spark.ml.feature.VectorIndexer\"\u001b[0m\u001b[0;34m,\u001b[0m \u001b[0mself\u001b[0m\u001b[0;34m.\u001b[0m\u001b[0muid\u001b[0m\u001b[0;34m)\u001b[0m\u001b[0;34m\u001b[0m\u001b[0;34m\u001b[0m\u001b[0m\n\u001b[1;32m   4392\u001b[0m         \u001b[0mkwargs\u001b[0m \u001b[0;34m=\u001b[0m \u001b[0mself\u001b[0m\u001b[0;34m.\u001b[0m\u001b[0m_input_kwargs\u001b[0m\u001b[0;34m\u001b[0m\u001b[0;34m\u001b[0m\u001b[0m\n\u001b[0;32m-> 4393\u001b[0;31m         \u001b[0mself\u001b[0m\u001b[0;34m.\u001b[0m\u001b[0msetParams\u001b[0m\u001b[0;34m(\u001b[0m\u001b[0;34m**\u001b[0m\u001b[0mkwargs\u001b[0m\u001b[0;34m)\u001b[0m\u001b[0;34m\u001b[0m\u001b[0;34m\u001b[0m\u001b[0m\n\u001b[0m\u001b[1;32m   4394\u001b[0m \u001b[0;34m\u001b[0m\u001b[0m\n\u001b[1;32m   4395\u001b[0m     \u001b[0;34m@\u001b[0m\u001b[0mkeyword_only\u001b[0m\u001b[0;34m\u001b[0m\u001b[0;34m\u001b[0m\u001b[0m\n",
      "\u001b[0;32m~/opt/anaconda3/lib/python3.8/site-packages/pyspark/__init__.py\u001b[0m in \u001b[0;36mwrapper\u001b[0;34m(self, *args, **kwargs)\u001b[0m\n\u001b[1;32m    112\u001b[0m             \u001b[0;32mraise\u001b[0m \u001b[0mTypeError\u001b[0m\u001b[0;34m(\u001b[0m\u001b[0;34m\"Method %s forces keyword arguments.\"\u001b[0m \u001b[0;34m%\u001b[0m \u001b[0mfunc\u001b[0m\u001b[0;34m.\u001b[0m\u001b[0m__name__\u001b[0m\u001b[0;34m)\u001b[0m\u001b[0;34m\u001b[0m\u001b[0;34m\u001b[0m\u001b[0m\n\u001b[1;32m    113\u001b[0m         \u001b[0mself\u001b[0m\u001b[0;34m.\u001b[0m\u001b[0m_input_kwargs\u001b[0m \u001b[0;34m=\u001b[0m \u001b[0mkwargs\u001b[0m\u001b[0;34m\u001b[0m\u001b[0;34m\u001b[0m\u001b[0m\n\u001b[0;32m--> 114\u001b[0;31m         \u001b[0;32mreturn\u001b[0m \u001b[0mfunc\u001b[0m\u001b[0;34m(\u001b[0m\u001b[0mself\u001b[0m\u001b[0;34m,\u001b[0m \u001b[0;34m**\u001b[0m\u001b[0mkwargs\u001b[0m\u001b[0;34m)\u001b[0m\u001b[0;34m\u001b[0m\u001b[0;34m\u001b[0m\u001b[0m\n\u001b[0m\u001b[1;32m    115\u001b[0m     \u001b[0;32mreturn\u001b[0m \u001b[0mwrapper\u001b[0m\u001b[0;34m\u001b[0m\u001b[0;34m\u001b[0m\u001b[0m\n\u001b[1;32m    116\u001b[0m \u001b[0;34m\u001b[0m\u001b[0m\n",
      "\u001b[0;32m~/opt/anaconda3/lib/python3.8/site-packages/pyspark/ml/feature.py\u001b[0m in \u001b[0;36msetParams\u001b[0;34m(self, maxCategories, inputCol, outputCol, handleInvalid)\u001b[0m\n\u001b[1;32m   4401\u001b[0m         \"\"\"\n\u001b[1;32m   4402\u001b[0m         \u001b[0mkwargs\u001b[0m \u001b[0;34m=\u001b[0m \u001b[0mself\u001b[0m\u001b[0;34m.\u001b[0m\u001b[0m_input_kwargs\u001b[0m\u001b[0;34m\u001b[0m\u001b[0;34m\u001b[0m\u001b[0m\n\u001b[0;32m-> 4403\u001b[0;31m         \u001b[0;32mreturn\u001b[0m \u001b[0mself\u001b[0m\u001b[0;34m.\u001b[0m\u001b[0m_set\u001b[0m\u001b[0;34m(\u001b[0m\u001b[0;34m**\u001b[0m\u001b[0mkwargs\u001b[0m\u001b[0;34m)\u001b[0m\u001b[0;34m\u001b[0m\u001b[0;34m\u001b[0m\u001b[0m\n\u001b[0m\u001b[1;32m   4404\u001b[0m \u001b[0;34m\u001b[0m\u001b[0m\n\u001b[1;32m   4405\u001b[0m     \u001b[0;34m@\u001b[0m\u001b[0msince\u001b[0m\u001b[0;34m(\u001b[0m\u001b[0;34m\"1.4.0\"\u001b[0m\u001b[0;34m)\u001b[0m\u001b[0;34m\u001b[0m\u001b[0;34m\u001b[0m\u001b[0m\n",
      "\u001b[0;32m~/opt/anaconda3/lib/python3.8/site-packages/pyspark/ml/param/__init__.py\u001b[0m in \u001b[0;36m_set\u001b[0;34m(self, **kwargs)\u001b[0m\n\u001b[1;32m    464\u001b[0m                     \u001b[0mvalue\u001b[0m \u001b[0;34m=\u001b[0m \u001b[0mp\u001b[0m\u001b[0;34m.\u001b[0m\u001b[0mtypeConverter\u001b[0m\u001b[0;34m(\u001b[0m\u001b[0mvalue\u001b[0m\u001b[0;34m)\u001b[0m\u001b[0;34m\u001b[0m\u001b[0;34m\u001b[0m\u001b[0m\n\u001b[1;32m    465\u001b[0m                 \u001b[0;32mexcept\u001b[0m \u001b[0mTypeError\u001b[0m \u001b[0;32mas\u001b[0m \u001b[0me\u001b[0m\u001b[0;34m:\u001b[0m\u001b[0;34m\u001b[0m\u001b[0;34m\u001b[0m\u001b[0m\n\u001b[0;32m--> 466\u001b[0;31m                     \u001b[0;32mraise\u001b[0m \u001b[0mTypeError\u001b[0m\u001b[0;34m(\u001b[0m\u001b[0;34m'Invalid param value given for param \"%s\". %s'\u001b[0m \u001b[0;34m%\u001b[0m \u001b[0;34m(\u001b[0m\u001b[0mp\u001b[0m\u001b[0;34m.\u001b[0m\u001b[0mname\u001b[0m\u001b[0;34m,\u001b[0m \u001b[0me\u001b[0m\u001b[0;34m)\u001b[0m\u001b[0;34m)\u001b[0m\u001b[0;34m\u001b[0m\u001b[0;34m\u001b[0m\u001b[0m\n\u001b[0m\u001b[1;32m    467\u001b[0m             \u001b[0mself\u001b[0m\u001b[0;34m.\u001b[0m\u001b[0m_paramMap\u001b[0m\u001b[0;34m[\u001b[0m\u001b[0mp\u001b[0m\u001b[0;34m]\u001b[0m \u001b[0;34m=\u001b[0m \u001b[0mvalue\u001b[0m\u001b[0;34m\u001b[0m\u001b[0;34m\u001b[0m\u001b[0m\n\u001b[1;32m    468\u001b[0m         \u001b[0;32mreturn\u001b[0m \u001b[0mself\u001b[0m\u001b[0;34m\u001b[0m\u001b[0;34m\u001b[0m\u001b[0m\n",
      "\u001b[0;31mTypeError\u001b[0m: Invalid param value given for param \"inputCol\". Could not convert <class 'list'> to string type"
     ]
    }
   ],
   "source": [
    "# Auto identify categorical features to index (>7 distinct values are treated continuous)\n",
    "inputCol = ['Borough', 'day','shift', 'temp']\n",
    "featureIndexer = VectorIndexer(\n",
    "                    inputCol=inputCol, \n",
    "                    outputCol=\"indexedFeatures\", \n",
    "                    maxCategories=7\n",
    "                ).fit(sdf_agg)"
   ]
  },
  {
   "cell_type": "code",
   "execution_count": null,
   "id": "b64049c9",
   "metadata": {},
   "outputs": [],
   "source": []
  }
 ],
 "metadata": {
  "kernelspec": {
   "display_name": "Python 3",
   "language": "python",
   "name": "python3"
  },
  "language_info": {
   "codemirror_mode": {
    "name": "ipython",
    "version": 3
   },
   "file_extension": ".py",
   "mimetype": "text/x-python",
   "name": "python",
   "nbconvert_exporter": "python",
   "pygments_lexer": "ipython3",
   "version": "3.8.8"
  },
  "toc": {
   "base_numbering": 1,
   "nav_menu": {},
   "number_sections": true,
   "sideBar": true,
   "skip_h1_title": false,
   "title_cell": "Table of Contents",
   "title_sidebar": "Contents",
   "toc_cell": false,
   "toc_position": {},
   "toc_section_display": true,
   "toc_window_display": false
  }
 },
 "nbformat": 4,
 "nbformat_minor": 5
}
