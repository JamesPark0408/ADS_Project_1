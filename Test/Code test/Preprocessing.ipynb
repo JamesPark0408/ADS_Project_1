{
 "cells": [
  {
   "cell_type": "code",
   "execution_count": 1,
   "id": "8f72e490",
   "metadata": {
    "ExecuteTime": {
     "end_time": "2022-08-18T06:23:07.749604Z",
     "start_time": "2022-08-18T06:23:06.783369Z"
    }
   },
   "outputs": [],
   "source": [
    "from pyspark.sql import SparkSession\n",
    "from pyspark.sql import functions as F\n",
    "from datetime import datetime"
   ]
  },
  {
   "cell_type": "code",
   "execution_count": 2,
   "id": "b9893bf6",
   "metadata": {
    "ExecuteTime": {
     "end_time": "2022-08-18T06:23:28.227605Z",
     "start_time": "2022-08-18T06:23:07.751642Z"
    }
   },
   "outputs": [],
   "source": [
    "\n",
    "\n",
    "# Create a spark session (which will run spark jobs)\n",
    "spark = (\n",
    "    SparkSession.builder.appName(\"MAST30034 Project 1\")\n",
    "    .config(\"spark.sql.repl.eagerEval.enabled\", True) \n",
    "    .config(\"spark.sql.parquet.cacheMetadata\", \"true\")\n",
    "    .config(\"spark.sql.session.timeZone\", \"Etc/UTC\")\n",
    "    .config(\"spark.driver.memory\", \"2g\")\n",
    "    .config(\"spark.executor.memory\", \"4g\")\n",
    "    .getOrCreate()\n",
    ")"
   ]
  },
  {
   "cell_type": "code",
   "execution_count": 3,
   "id": "a60cbfad",
   "metadata": {
    "ExecuteTime": {
     "end_time": "2022-08-18T06:23:31.686442Z",
     "start_time": "2022-08-18T06:23:28.230078Z"
    },
    "scrolled": true
   },
   "outputs": [],
   "source": [
    "sdf_green = spark.read.parquet('../data/green_data/')"
   ]
  },
  {
   "cell_type": "code",
   "execution_count": 4,
   "id": "8eb3b3a6",
   "metadata": {
    "ExecuteTime": {
     "end_time": "2022-08-18T06:23:33.347234Z",
     "start_time": "2022-08-18T06:23:31.688135Z"
    }
   },
   "outputs": [
    {
     "data": {
      "text/plain": [
       "868547"
      ]
     },
     "execution_count": 4,
     "metadata": {},
     "output_type": "execute_result"
    }
   ],
   "source": [
    "sdf_green.count()"
   ]
  },
  {
   "cell_type": "code",
   "execution_count": 5,
   "id": "21dc7a00",
   "metadata": {
    "ExecuteTime": {
     "end_time": "2022-08-18T06:23:33.367090Z",
     "start_time": "2022-08-18T06:23:33.349607Z"
    }
   },
   "outputs": [
    {
     "name": "stdout",
     "output_type": "stream",
     "text": [
      "root\n",
      " |-- VendorID: long (nullable = true)\n",
      " |-- lpep_pickup_datetime: timestamp (nullable = true)\n",
      " |-- lpep_dropoff_datetime: timestamp (nullable = true)\n",
      " |-- store_and_fwd_flag: string (nullable = true)\n",
      " |-- RatecodeID: double (nullable = true)\n",
      " |-- PULocationID: long (nullable = true)\n",
      " |-- DOLocationID: long (nullable = true)\n",
      " |-- passenger_count: double (nullable = true)\n",
      " |-- trip_distance: double (nullable = true)\n",
      " |-- fare_amount: double (nullable = true)\n",
      " |-- extra: double (nullable = true)\n",
      " |-- mta_tax: double (nullable = true)\n",
      " |-- tip_amount: double (nullable = true)\n",
      " |-- tolls_amount: double (nullable = true)\n",
      " |-- ehail_fee: integer (nullable = true)\n",
      " |-- improvement_surcharge: double (nullable = true)\n",
      " |-- total_amount: double (nullable = true)\n",
      " |-- payment_type: double (nullable = true)\n",
      " |-- trip_type: double (nullable = true)\n",
      " |-- congestion_surcharge: double (nullable = true)\n",
      "\n"
     ]
    }
   ],
   "source": [
    "sdf_green.printSchema()"
   ]
  },
  {
   "cell_type": "code",
   "execution_count": 6,
   "id": "f00f8c1f",
   "metadata": {
    "ExecuteTime": {
     "end_time": "2022-08-18T06:23:34.586943Z",
     "start_time": "2022-08-18T06:23:33.369956Z"
    }
   },
   "outputs": [
    {
     "data": {
      "text/html": [
       "<table border='1'>\n",
       "<tr><th>VendorID</th><th>lpep_pickup_datetime</th><th>lpep_dropoff_datetime</th><th>store_and_fwd_flag</th><th>RatecodeID</th><th>PULocationID</th><th>DOLocationID</th><th>passenger_count</th><th>trip_distance</th><th>fare_amount</th><th>extra</th><th>mta_tax</th><th>tip_amount</th><th>tolls_amount</th><th>ehail_fee</th><th>improvement_surcharge</th><th>total_amount</th><th>payment_type</th><th>trip_type</th><th>congestion_surcharge</th></tr>\n",
       "<tr><td>2</td><td>2021-09-30 18:39:03</td><td>2021-09-30 18:39:06</td><td>N</td><td>5.0</td><td>37</td><td>37</td><td>1.0</td><td>0.02</td><td>10.0</td><td>0.0</td><td>0.0</td><td>0.0</td><td>0.0</td><td>null</td><td>0.3</td><td>10.3</td><td>1.0</td><td>2.0</td><td>0.0</td></tr>\n",
       "<tr><td>2</td><td>2021-10-01 00:47:50</td><td>2021-10-01 01:00:04</td><td>N</td><td>5.0</td><td>92</td><td>82</td><td>2.0</td><td>3.44</td><td>20.0</td><td>0.0</td><td>0.0</td><td>0.0</td><td>0.0</td><td>null</td><td>0.3</td><td>20.3</td><td>2.0</td><td>2.0</td><td>0.0</td></tr>\n",
       "<tr><td>2</td><td>2021-10-01 00:23:10</td><td>2021-10-01 00:34:26</td><td>N</td><td>5.0</td><td>41</td><td>167</td><td>2.0</td><td>2.44</td><td>13.0</td><td>0.0</td><td>0.0</td><td>0.0</td><td>0.0</td><td>null</td><td>0.3</td><td>13.3</td><td>2.0</td><td>2.0</td><td>0.0</td></tr>\n",
       "<tr><td>2</td><td>2021-10-01 00:37:35</td><td>2021-10-01 00:43:37</td><td>N</td><td>1.0</td><td>134</td><td>135</td><td>1.0</td><td>1.67</td><td>7.0</td><td>0.5</td><td>0.5</td><td>0.0</td><td>0.0</td><td>null</td><td>0.3</td><td>8.3</td><td>1.0</td><td>1.0</td><td>0.0</td></tr>\n",
       "<tr><td>2</td><td>2021-10-01 00:43:28</td><td>2021-10-01 00:48:26</td><td>N</td><td>1.0</td><td>119</td><td>247</td><td>1.0</td><td>0.99</td><td>5.5</td><td>0.5</td><td>0.5</td><td>0.0</td><td>0.0</td><td>null</td><td>0.3</td><td>6.8</td><td>2.0</td><td>1.0</td><td>0.0</td></tr>\n",
       "</table>\n"
      ],
      "text/plain": [
       "+--------+--------------------+---------------------+------------------+----------+------------+------------+---------------+-------------+-----------+-----+-------+----------+------------+---------+---------------------+------------+------------+---------+--------------------+\n",
       "|VendorID|lpep_pickup_datetime|lpep_dropoff_datetime|store_and_fwd_flag|RatecodeID|PULocationID|DOLocationID|passenger_count|trip_distance|fare_amount|extra|mta_tax|tip_amount|tolls_amount|ehail_fee|improvement_surcharge|total_amount|payment_type|trip_type|congestion_surcharge|\n",
       "+--------+--------------------+---------------------+------------------+----------+------------+------------+---------------+-------------+-----------+-----+-------+----------+------------+---------+---------------------+------------+------------+---------+--------------------+\n",
       "|       2| 2021-09-30 18:39:03|  2021-09-30 18:39:06|                 N|       5.0|          37|          37|            1.0|         0.02|       10.0|  0.0|    0.0|       0.0|         0.0|     null|                  0.3|        10.3|         1.0|      2.0|                 0.0|\n",
       "|       2| 2021-10-01 00:47:50|  2021-10-01 01:00:04|                 N|       5.0|          92|          82|            2.0|         3.44|       20.0|  0.0|    0.0|       0.0|         0.0|     null|                  0.3|        20.3|         2.0|      2.0|                 0.0|\n",
       "|       2| 2021-10-01 00:23:10|  2021-10-01 00:34:26|                 N|       5.0|          41|         167|            2.0|         2.44|       13.0|  0.0|    0.0|       0.0|         0.0|     null|                  0.3|        13.3|         2.0|      2.0|                 0.0|\n",
       "|       2| 2021-10-01 00:37:35|  2021-10-01 00:43:37|                 N|       1.0|         134|         135|            1.0|         1.67|        7.0|  0.5|    0.5|       0.0|         0.0|     null|                  0.3|         8.3|         1.0|      1.0|                 0.0|\n",
       "|       2| 2021-10-01 00:43:28|  2021-10-01 00:48:26|                 N|       1.0|         119|         247|            1.0|         0.99|        5.5|  0.5|    0.5|       0.0|         0.0|     null|                  0.3|         6.8|         2.0|      1.0|                 0.0|\n",
       "+--------+--------------------+---------------------+------------------+----------+------------+------------+---------------+-------------+-----------+-----+-------+----------+------------+---------+---------------------+------------+------------+---------+--------------------+"
      ]
     },
     "execution_count": 6,
     "metadata": {},
     "output_type": "execute_result"
    }
   ],
   "source": [
    "sdf_green.limit(5)"
   ]
  },
  {
   "cell_type": "code",
   "execution_count": 7,
   "id": "317eb37e",
   "metadata": {
    "ExecuteTime": {
     "end_time": "2022-08-18T06:23:35.017362Z",
     "start_time": "2022-08-18T06:23:34.589187Z"
    }
   },
   "outputs": [
    {
     "data": {
      "text/html": [
       "<table border='1'>\n",
       "<tr><th>VendorID</th><th>lpep_pickup_datetime</th><th>lpep_dropoff_datetime</th><th>store_and_fwd_flag</th><th>RatecodeID</th><th>PULocationID</th><th>DOLocationID</th><th>passenger_count</th><th>trip_distance</th><th>fare_amount</th><th>extra</th><th>mta_tax</th><th>tip_amount</th><th>tolls_amount</th><th>ehail_fee</th><th>improvement_surcharge</th><th>total_amount</th><th>payment_type</th><th>trip_type</th><th>congestion_surcharge</th><th>shift</th></tr>\n",
       "<tr><td>2</td><td>2021-09-30 18:39:03</td><td>2021-09-30 18:39:06</td><td>N</td><td>5.0</td><td>37</td><td>37</td><td>1.0</td><td>0.02</td><td>10.0</td><td>0.0</td><td>0.0</td><td>0.0</td><td>0.0</td><td>null</td><td>0.3</td><td>10.3</td><td>1.0</td><td>2.0</td><td>0.0</td><td>18</td></tr>\n",
       "<tr><td>2</td><td>2021-10-01 00:47:50</td><td>2021-10-01 01:00:04</td><td>N</td><td>5.0</td><td>92</td><td>82</td><td>2.0</td><td>3.44</td><td>20.0</td><td>0.0</td><td>0.0</td><td>0.0</td><td>0.0</td><td>null</td><td>0.3</td><td>20.3</td><td>2.0</td><td>2.0</td><td>0.0</td><td>0</td></tr>\n",
       "<tr><td>2</td><td>2021-10-01 00:23:10</td><td>2021-10-01 00:34:26</td><td>N</td><td>5.0</td><td>41</td><td>167</td><td>2.0</td><td>2.44</td><td>13.0</td><td>0.0</td><td>0.0</td><td>0.0</td><td>0.0</td><td>null</td><td>0.3</td><td>13.3</td><td>2.0</td><td>2.0</td><td>0.0</td><td>0</td></tr>\n",
       "<tr><td>2</td><td>2021-10-01 00:37:35</td><td>2021-10-01 00:43:37</td><td>N</td><td>1.0</td><td>134</td><td>135</td><td>1.0</td><td>1.67</td><td>7.0</td><td>0.5</td><td>0.5</td><td>0.0</td><td>0.0</td><td>null</td><td>0.3</td><td>8.3</td><td>1.0</td><td>1.0</td><td>0.0</td><td>0</td></tr>\n",
       "<tr><td>2</td><td>2021-10-01 00:43:28</td><td>2021-10-01 00:48:26</td><td>N</td><td>1.0</td><td>119</td><td>247</td><td>1.0</td><td>0.99</td><td>5.5</td><td>0.5</td><td>0.5</td><td>0.0</td><td>0.0</td><td>null</td><td>0.3</td><td>6.8</td><td>2.0</td><td>1.0</td><td>0.0</td><td>0</td></tr>\n",
       "<tr><td>2</td><td>2021-10-01 00:57:38</td><td>2021-10-01 01:02:31</td><td>N</td><td>1.0</td><td>169</td><td>235</td><td>1.0</td><td>0.76</td><td>5.5</td><td>0.5</td><td>0.5</td><td>0.0</td><td>0.0</td><td>null</td><td>0.3</td><td>6.8</td><td>2.0</td><td>1.0</td><td>0.0</td><td>0</td></tr>\n",
       "<tr><td>2</td><td>2021-10-01 00:44:54</td><td>2021-10-01 01:07:28</td><td>N</td><td>1.0</td><td>75</td><td>217</td><td>1.0</td><td>9.18</td><td>28.0</td><td>0.5</td><td>0.5</td><td>0.0</td><td>0.0</td><td>null</td><td>0.3</td><td>32.05</td><td>2.0</td><td>1.0</td><td>2.75</td><td>0</td></tr>\n",
       "<tr><td>2</td><td>2021-10-01 00:05:40</td><td>2021-10-01 00:33:03</td><td>N</td><td>1.0</td><td>66</td><td>90</td><td>2.0</td><td>7.04</td><td>25.0</td><td>0.5</td><td>0.5</td><td>5.81</td><td>0.0</td><td>null</td><td>0.3</td><td>34.86</td><td>1.0</td><td>1.0</td><td>2.75</td><td>0</td></tr>\n",
       "<tr><td>2</td><td>2021-10-01 00:24:38</td><td>2021-10-01 00:36:22</td><td>N</td><td>1.0</td><td>82</td><td>56</td><td>1.0</td><td>1.42</td><td>9.0</td><td>0.5</td><td>0.5</td><td>0.0</td><td>0.0</td><td>null</td><td>0.3</td><td>10.3</td><td>2.0</td><td>1.0</td><td>0.0</td><td>0</td></tr>\n",
       "<tr><td>2</td><td>2021-09-30 23:40:42</td><td>2021-09-30 23:52:40</td><td>N</td><td>1.0</td><td>66</td><td>231</td><td>1.0</td><td>2.27</td><td>10.5</td><td>0.5</td><td>0.5</td><td>2.91</td><td>0.0</td><td>null</td><td>0.3</td><td>17.46</td><td>1.0</td><td>1.0</td><td>2.75</td><td>23</td></tr>\n",
       "<tr><td>2</td><td>2021-10-01 00:09:01</td><td>2021-10-01 00:27:22</td><td>N</td><td>1.0</td><td>66</td><td>141</td><td>1.0</td><td>7.87</td><td>23.5</td><td>0.5</td><td>0.5</td><td>2.76</td><td>0.0</td><td>null</td><td>0.3</td><td>30.31</td><td>1.0</td><td>1.0</td><td>2.75</td><td>0</td></tr>\n",
       "<tr><td>2</td><td>2021-10-01 00:08:50</td><td>2021-10-01 00:20:12</td><td>N</td><td>1.0</td><td>130</td><td>205</td><td>1.0</td><td>2.86</td><td>11.0</td><td>0.5</td><td>0.5</td><td>3.08</td><td>0.0</td><td>null</td><td>0.3</td><td>15.38</td><td>1.0</td><td>1.0</td><td>0.0</td><td>0</td></tr>\n",
       "<tr><td>1</td><td>2021-10-01 00:01:21</td><td>2021-10-01 00:18:29</td><td>N</td><td>1.0</td><td>181</td><td>188</td><td>1.0</td><td>3.2</td><td>14.0</td><td>0.5</td><td>0.5</td><td>3.05</td><td>0.0</td><td>null</td><td>0.3</td><td>18.35</td><td>1.0</td><td>1.0</td><td>0.0</td><td>0</td></tr>\n",
       "<tr><td>2</td><td>2021-10-01 00:04:40</td><td>2021-10-01 00:11:02</td><td>N</td><td>1.0</td><td>129</td><td>129</td><td>1.0</td><td>1.01</td><td>6.5</td><td>0.5</td><td>0.5</td><td>2.34</td><td>0.0</td><td>null</td><td>0.3</td><td>10.14</td><td>1.0</td><td>1.0</td><td>0.0</td><td>0</td></tr>\n",
       "<tr><td>1</td><td>2021-10-01 00:10:37</td><td>2021-10-01 00:13:29</td><td>N</td><td>1.0</td><td>10</td><td>130</td><td>1.0</td><td>2.1</td><td>7.5</td><td>0.5</td><td>0.5</td><td>0.0</td><td>0.0</td><td>null</td><td>0.3</td><td>8.8</td><td>2.0</td><td>1.0</td><td>0.0</td><td>0</td></tr>\n",
       "<tr><td>2</td><td>2021-09-30 21:03:51</td><td>2021-09-30 21:25:22</td><td>N</td><td>1.0</td><td>134</td><td>37</td><td>1.0</td><td>7.16</td><td>23.5</td><td>0.5</td><td>0.5</td><td>4.96</td><td>0.0</td><td>null</td><td>0.3</td><td>29.76</td><td>1.0</td><td>1.0</td><td>0.0</td><td>21</td></tr>\n",
       "<tr><td>2</td><td>2021-10-01 00:09:23</td><td>2021-10-01 00:18:42</td><td>N</td><td>1.0</td><td>129</td><td>82</td><td>1.0</td><td>1.23</td><td>8.0</td><td>0.5</td><td>0.5</td><td>1.86</td><td>0.0</td><td>null</td><td>0.3</td><td>11.16</td><td>1.0</td><td>1.0</td><td>0.0</td><td>0</td></tr>\n",
       "<tr><td>2</td><td>2021-10-01 00:28:33</td><td>2021-10-01 00:46:43</td><td>N</td><td>1.0</td><td>74</td><td>250</td><td>3.0</td><td>5.8</td><td>19.5</td><td>0.5</td><td>0.5</td><td>0.2</td><td>0.0</td><td>null</td><td>0.3</td><td>21.0</td><td>1.0</td><td>1.0</td><td>0.0</td><td>0</td></tr>\n",
       "<tr><td>2</td><td>2021-10-01 00:46:34</td><td>2021-10-01 00:56:30</td><td>N</td><td>1.0</td><td>21</td><td>210</td><td>1.0</td><td>3.71</td><td>12.5</td><td>0.5</td><td>0.5</td><td>0.0</td><td>0.0</td><td>null</td><td>0.3</td><td>13.8</td><td>1.0</td><td>1.0</td><td>0.0</td><td>0</td></tr>\n",
       "<tr><td>2</td><td>2021-10-01 00:54:15</td><td>2021-10-01 01:15:21</td><td>N</td><td>1.0</td><td>41</td><td>48</td><td>1.0</td><td>4.56</td><td>17.5</td><td>0.5</td><td>0.5</td><td>1.0</td><td>0.0</td><td>null</td><td>0.3</td><td>22.55</td><td>1.0</td><td>1.0</td><td>2.75</td><td>0</td></tr>\n",
       "</table>\n",
       "only showing top 20 rows\n"
      ],
      "text/plain": [
       "+--------+--------------------+---------------------+------------------+----------+------------+------------+---------------+-------------+-----------+-----+-------+----------+------------+---------+---------------------+------------+------------+---------+--------------------+-----+\n",
       "|VendorID|lpep_pickup_datetime|lpep_dropoff_datetime|store_and_fwd_flag|RatecodeID|PULocationID|DOLocationID|passenger_count|trip_distance|fare_amount|extra|mta_tax|tip_amount|tolls_amount|ehail_fee|improvement_surcharge|total_amount|payment_type|trip_type|congestion_surcharge|shift|\n",
       "+--------+--------------------+---------------------+------------------+----------+------------+------------+---------------+-------------+-----------+-----+-------+----------+------------+---------+---------------------+------------+------------+---------+--------------------+-----+\n",
       "|       2| 2021-09-30 18:39:03|  2021-09-30 18:39:06|                 N|       5.0|          37|          37|            1.0|         0.02|       10.0|  0.0|    0.0|       0.0|         0.0|     null|                  0.3|        10.3|         1.0|      2.0|                 0.0|   18|\n",
       "|       2| 2021-10-01 00:47:50|  2021-10-01 01:00:04|                 N|       5.0|          92|          82|            2.0|         3.44|       20.0|  0.0|    0.0|       0.0|         0.0|     null|                  0.3|        20.3|         2.0|      2.0|                 0.0|    0|\n",
       "|       2| 2021-10-01 00:23:10|  2021-10-01 00:34:26|                 N|       5.0|          41|         167|            2.0|         2.44|       13.0|  0.0|    0.0|       0.0|         0.0|     null|                  0.3|        13.3|         2.0|      2.0|                 0.0|    0|\n",
       "|       2| 2021-10-01 00:37:35|  2021-10-01 00:43:37|                 N|       1.0|         134|         135|            1.0|         1.67|        7.0|  0.5|    0.5|       0.0|         0.0|     null|                  0.3|         8.3|         1.0|      1.0|                 0.0|    0|\n",
       "|       2| 2021-10-01 00:43:28|  2021-10-01 00:48:26|                 N|       1.0|         119|         247|            1.0|         0.99|        5.5|  0.5|    0.5|       0.0|         0.0|     null|                  0.3|         6.8|         2.0|      1.0|                 0.0|    0|\n",
       "|       2| 2021-10-01 00:57:38|  2021-10-01 01:02:31|                 N|       1.0|         169|         235|            1.0|         0.76|        5.5|  0.5|    0.5|       0.0|         0.0|     null|                  0.3|         6.8|         2.0|      1.0|                 0.0|    0|\n",
       "|       2| 2021-10-01 00:44:54|  2021-10-01 01:07:28|                 N|       1.0|          75|         217|            1.0|         9.18|       28.0|  0.5|    0.5|       0.0|         0.0|     null|                  0.3|       32.05|         2.0|      1.0|                2.75|    0|\n",
       "|       2| 2021-10-01 00:05:40|  2021-10-01 00:33:03|                 N|       1.0|          66|          90|            2.0|         7.04|       25.0|  0.5|    0.5|      5.81|         0.0|     null|                  0.3|       34.86|         1.0|      1.0|                2.75|    0|\n",
       "|       2| 2021-10-01 00:24:38|  2021-10-01 00:36:22|                 N|       1.0|          82|          56|            1.0|         1.42|        9.0|  0.5|    0.5|       0.0|         0.0|     null|                  0.3|        10.3|         2.0|      1.0|                 0.0|    0|\n",
       "|       2| 2021-09-30 23:40:42|  2021-09-30 23:52:40|                 N|       1.0|          66|         231|            1.0|         2.27|       10.5|  0.5|    0.5|      2.91|         0.0|     null|                  0.3|       17.46|         1.0|      1.0|                2.75|   23|\n",
       "|       2| 2021-10-01 00:09:01|  2021-10-01 00:27:22|                 N|       1.0|          66|         141|            1.0|         7.87|       23.5|  0.5|    0.5|      2.76|         0.0|     null|                  0.3|       30.31|         1.0|      1.0|                2.75|    0|\n",
       "|       2| 2021-10-01 00:08:50|  2021-10-01 00:20:12|                 N|       1.0|         130|         205|            1.0|         2.86|       11.0|  0.5|    0.5|      3.08|         0.0|     null|                  0.3|       15.38|         1.0|      1.0|                 0.0|    0|\n",
       "|       1| 2021-10-01 00:01:21|  2021-10-01 00:18:29|                 N|       1.0|         181|         188|            1.0|          3.2|       14.0|  0.5|    0.5|      3.05|         0.0|     null|                  0.3|       18.35|         1.0|      1.0|                 0.0|    0|\n",
       "|       2| 2021-10-01 00:04:40|  2021-10-01 00:11:02|                 N|       1.0|         129|         129|            1.0|         1.01|        6.5|  0.5|    0.5|      2.34|         0.0|     null|                  0.3|       10.14|         1.0|      1.0|                 0.0|    0|\n",
       "|       1| 2021-10-01 00:10:37|  2021-10-01 00:13:29|                 N|       1.0|          10|         130|            1.0|          2.1|        7.5|  0.5|    0.5|       0.0|         0.0|     null|                  0.3|         8.8|         2.0|      1.0|                 0.0|    0|\n",
       "|       2| 2021-09-30 21:03:51|  2021-09-30 21:25:22|                 N|       1.0|         134|          37|            1.0|         7.16|       23.5|  0.5|    0.5|      4.96|         0.0|     null|                  0.3|       29.76|         1.0|      1.0|                 0.0|   21|\n",
       "|       2| 2021-10-01 00:09:23|  2021-10-01 00:18:42|                 N|       1.0|         129|          82|            1.0|         1.23|        8.0|  0.5|    0.5|      1.86|         0.0|     null|                  0.3|       11.16|         1.0|      1.0|                 0.0|    0|\n",
       "|       2| 2021-10-01 00:28:33|  2021-10-01 00:46:43|                 N|       1.0|          74|         250|            3.0|          5.8|       19.5|  0.5|    0.5|       0.2|         0.0|     null|                  0.3|        21.0|         1.0|      1.0|                 0.0|    0|\n",
       "|       2| 2021-10-01 00:46:34|  2021-10-01 00:56:30|                 N|       1.0|          21|         210|            1.0|         3.71|       12.5|  0.5|    0.5|       0.0|         0.0|     null|                  0.3|        13.8|         1.0|      1.0|                 0.0|    0|\n",
       "|       2| 2021-10-01 00:54:15|  2021-10-01 01:15:21|                 N|       1.0|          41|          48|            1.0|         4.56|       17.5|  0.5|    0.5|       1.0|         0.0|     null|                  0.3|       22.55|         1.0|      1.0|                2.75|    0|\n",
       "+--------+--------------------+---------------------+------------------+----------+------------+------------+---------------+-------------+-----------+-----+-------+----------+------------+---------+---------------------+------------+------------+---------+--------------------+-----+\n",
       "only showing top 20 rows"
      ]
     },
     "execution_count": 7,
     "metadata": {},
     "output_type": "execute_result"
    }
   ],
   "source": [
    "sdf_green_pre = sdf_green.withColumn('shift', F.hour(F.col('lpep_pickup_datetime')))\n",
    "sdf_green_pre"
   ]
  },
  {
   "cell_type": "code",
   "execution_count": 8,
   "id": "83b9a541",
   "metadata": {
    "ExecuteTime": {
     "end_time": "2022-08-18T06:23:36.009529Z",
     "start_time": "2022-08-18T06:23:35.021726Z"
    }
   },
   "outputs": [
    {
     "data": {
      "text/html": [
       "<table border='1'>\n",
       "<tr><th>VendorID</th><th>lpep_pickup_datetime</th><th>lpep_dropoff_datetime</th><th>store_and_fwd_flag</th><th>RatecodeID</th><th>PULocationID</th><th>DOLocationID</th><th>passenger_count</th><th>trip_distance</th><th>fare_amount</th><th>extra</th><th>mta_tax</th><th>tip_amount</th><th>tolls_amount</th><th>ehail_fee</th><th>improvement_surcharge</th><th>total_amount</th><th>payment_type</th><th>trip_type</th><th>congestion_surcharge</th><th>shift</th><th>day</th><th>fare</th><th>Date</th></tr>\n",
       "<tr><td>2</td><td>2021-09-30 18:39:03</td><td>2021-09-30 18:39:06</td><td>N</td><td>5.0</td><td>37</td><td>37</td><td>1.0</td><td>0.02</td><td>10.0</td><td>0.0</td><td>0.0</td><td>0.0</td><td>0.0</td><td>null</td><td>0.3</td><td>10.3</td><td>1.0</td><td>2.0</td><td>0.0</td><td>Night</td><td>Thu</td><td>10.3</td><td>2021-09-30</td></tr>\n",
       "<tr><td>2</td><td>2021-10-01 00:47:50</td><td>2021-10-01 01:00:04</td><td>N</td><td>5.0</td><td>92</td><td>82</td><td>2.0</td><td>3.44</td><td>20.0</td><td>0.0</td><td>0.0</td><td>0.0</td><td>0.0</td><td>null</td><td>0.3</td><td>20.3</td><td>2.0</td><td>2.0</td><td>0.0</td><td>Night</td><td>Fri</td><td>20.3</td><td>2021-10-01</td></tr>\n",
       "<tr><td>2</td><td>2021-10-01 00:23:10</td><td>2021-10-01 00:34:26</td><td>N</td><td>5.0</td><td>41</td><td>167</td><td>2.0</td><td>2.44</td><td>13.0</td><td>0.0</td><td>0.0</td><td>0.0</td><td>0.0</td><td>null</td><td>0.3</td><td>13.3</td><td>2.0</td><td>2.0</td><td>0.0</td><td>Night</td><td>Fri</td><td>13.3</td><td>2021-10-01</td></tr>\n",
       "<tr><td>2</td><td>2021-10-01 00:37:35</td><td>2021-10-01 00:43:37</td><td>N</td><td>1.0</td><td>134</td><td>135</td><td>1.0</td><td>1.67</td><td>7.0</td><td>0.5</td><td>0.5</td><td>0.0</td><td>0.0</td><td>null</td><td>0.3</td><td>8.3</td><td>1.0</td><td>1.0</td><td>0.0</td><td>Night</td><td>Fri</td><td>8.3</td><td>2021-10-01</td></tr>\n",
       "<tr><td>2</td><td>2021-10-01 00:43:28</td><td>2021-10-01 00:48:26</td><td>N</td><td>1.0</td><td>119</td><td>247</td><td>1.0</td><td>0.99</td><td>5.5</td><td>0.5</td><td>0.5</td><td>0.0</td><td>0.0</td><td>null</td><td>0.3</td><td>6.8</td><td>2.0</td><td>1.0</td><td>0.0</td><td>Night</td><td>Fri</td><td>6.8</td><td>2021-10-01</td></tr>\n",
       "</table>\n"
      ],
      "text/plain": [
       "+--------+--------------------+---------------------+------------------+----------+------------+------------+---------------+-------------+-----------+-----+-------+----------+------------+---------+---------------------+------------+------------+---------+--------------------+-----+---+----+----------+\n",
       "|VendorID|lpep_pickup_datetime|lpep_dropoff_datetime|store_and_fwd_flag|RatecodeID|PULocationID|DOLocationID|passenger_count|trip_distance|fare_amount|extra|mta_tax|tip_amount|tolls_amount|ehail_fee|improvement_surcharge|total_amount|payment_type|trip_type|congestion_surcharge|shift|day|fare|      Date|\n",
       "+--------+--------------------+---------------------+------------------+----------+------------+------------+---------------+-------------+-----------+-----+-------+----------+------------+---------+---------------------+------------+------------+---------+--------------------+-----+---+----+----------+\n",
       "|       2| 2021-09-30 18:39:03|  2021-09-30 18:39:06|                 N|       5.0|          37|          37|            1.0|         0.02|       10.0|  0.0|    0.0|       0.0|         0.0|     null|                  0.3|        10.3|         1.0|      2.0|                 0.0|Night|Thu|10.3|2021-09-30|\n",
       "|       2| 2021-10-01 00:47:50|  2021-10-01 01:00:04|                 N|       5.0|          92|          82|            2.0|         3.44|       20.0|  0.0|    0.0|       0.0|         0.0|     null|                  0.3|        20.3|         2.0|      2.0|                 0.0|Night|Fri|20.3|2021-10-01|\n",
       "|       2| 2021-10-01 00:23:10|  2021-10-01 00:34:26|                 N|       5.0|          41|         167|            2.0|         2.44|       13.0|  0.0|    0.0|       0.0|         0.0|     null|                  0.3|        13.3|         2.0|      2.0|                 0.0|Night|Fri|13.3|2021-10-01|\n",
       "|       2| 2021-10-01 00:37:35|  2021-10-01 00:43:37|                 N|       1.0|         134|         135|            1.0|         1.67|        7.0|  0.5|    0.5|       0.0|         0.0|     null|                  0.3|         8.3|         1.0|      1.0|                 0.0|Night|Fri| 8.3|2021-10-01|\n",
       "|       2| 2021-10-01 00:43:28|  2021-10-01 00:48:26|                 N|       1.0|         119|         247|            1.0|         0.99|        5.5|  0.5|    0.5|       0.0|         0.0|     null|                  0.3|         6.8|         2.0|      1.0|                 0.0|Night|Fri| 6.8|2021-10-01|\n",
       "+--------+--------------------+---------------------+------------------+----------+------------+------------+---------------+-------------+-----------+-----+-------+----------+------------+---------+---------------------+------------+------------+---------+--------------------+-----+---+----+----------+"
      ]
     },
     "execution_count": 8,
     "metadata": {},
     "output_type": "execute_result"
    }
   ],
   "source": [
    "# Split the datetime to days(Mon,Tue,...,Sun) \n",
    "# 1 - Sunday, 2-Monday, ..., 7-Saturday\n",
    "sdf_green_pre = sdf_green.withColumn('shift', \n",
    "                                        F.when(\n",
    "                                            (F.hour(F.col('lpep_pickup_datetime')) > 3)\n",
    "                                            & (F.hour(F.col('lpep_pickup_datetime')) < 18),\n",
    "                                            'Morning'\n",
    "                                        ).otherwise('Night')\n",
    "                                    )\n",
    "sdf_green_pre = sdf_green_pre.withColumn('day', F.date_format(F.col('lpep_pickup_datetime'), \"E\"))\n",
    "sdf_green_pre2 = sdf_green_pre.withColumn('fare', F.round(F.col('total_amount')-F.col('tip_amount'),2))\n",
    "sdf_green_pre3 = sdf_green_pre2.where(\n",
    "                                    (F.col('fare')>2.5)\n",
    "                                    & (F.col('passenger_count')>0)\n",
    "                                    & (F.col('passenger_count')<7)\n",
    "                                    & (F.col('trip_distance')>0)\n",
    "                                    & (F.col('PULocationID')<=263)\n",
    "                                    & (F.col('PULocationID')>0)\n",
    "                                     )\n",
    "sdf_green_pre3 = sdf_green_pre3.withColumn('Date',F.to_date('lpep_pickup_datetime'))\n",
    "sdf_green_pre4 = sdf_green_pre3.filter(F.col('Date') >= '2021-07-01')\n",
    "sdf_green_pre4 = sdf_green_pre4.filter(F.col('Date') < '2022-05-01')\n",
    "sdf_green_pre4.limit(5)"
   ]
  },
  {
   "cell_type": "code",
   "execution_count": 9,
   "id": "233e6484",
   "metadata": {
    "ExecuteTime": {
     "end_time": "2022-08-18T06:23:36.750806Z",
     "start_time": "2022-08-18T06:23:36.015918Z"
    }
   },
   "outputs": [
    {
     "data": {
      "text/plain": [
       "602628"
      ]
     },
     "execution_count": 9,
     "metadata": {},
     "output_type": "execute_result"
    }
   ],
   "source": [
    "sdf_green_pre4.count()"
   ]
  },
  {
   "cell_type": "code",
   "execution_count": 10,
   "id": "c92eb9ef",
   "metadata": {
    "ExecuteTime": {
     "end_time": "2022-08-18T06:23:37.203427Z",
     "start_time": "2022-08-18T06:23:36.752862Z"
    }
   },
   "outputs": [
    {
     "data": {
      "text/html": [
       "<table border='1'>\n",
       "<tr><th>lpep_pickup_datetime</th><th>lpep_dropoff_datetime</th><th>store_and_fwd_flag</th><th>RatecodeID</th><th>PULocationID</th><th>DOLocationID</th><th>passenger_count</th><th>fare</th><th>trip_type</th><th>shift</th><th>Date</th><th>Day</th></tr>\n",
       "<tr><td>2021-09-30 18:39:03</td><td>2021-09-30 18:39:06</td><td>N</td><td>5.0</td><td>37</td><td>37</td><td>1.0</td><td>10.3</td><td>2.0</td><td>Night</td><td>2021-09-30</td><td>Thu</td></tr>\n",
       "<tr><td>2021-10-01 00:47:50</td><td>2021-10-01 01:00:04</td><td>N</td><td>5.0</td><td>92</td><td>82</td><td>2.0</td><td>20.3</td><td>2.0</td><td>Night</td><td>2021-10-01</td><td>Fri</td></tr>\n",
       "<tr><td>2021-10-01 00:23:10</td><td>2021-10-01 00:34:26</td><td>N</td><td>5.0</td><td>41</td><td>167</td><td>2.0</td><td>13.3</td><td>2.0</td><td>Night</td><td>2021-10-01</td><td>Fri</td></tr>\n",
       "<tr><td>2021-10-01 00:37:35</td><td>2021-10-01 00:43:37</td><td>N</td><td>1.0</td><td>134</td><td>135</td><td>1.0</td><td>8.3</td><td>1.0</td><td>Night</td><td>2021-10-01</td><td>Fri</td></tr>\n",
       "<tr><td>2021-10-01 00:43:28</td><td>2021-10-01 00:48:26</td><td>N</td><td>1.0</td><td>119</td><td>247</td><td>1.0</td><td>6.8</td><td>1.0</td><td>Night</td><td>2021-10-01</td><td>Fri</td></tr>\n",
       "</table>\n"
      ],
      "text/plain": [
       "+--------------------+---------------------+------------------+----------+------------+------------+---------------+----+---------+-----+----------+---+\n",
       "|lpep_pickup_datetime|lpep_dropoff_datetime|store_and_fwd_flag|RatecodeID|PULocationID|DOLocationID|passenger_count|fare|trip_type|shift|      Date|Day|\n",
       "+--------------------+---------------------+------------------+----------+------------+------------+---------------+----+---------+-----+----------+---+\n",
       "| 2021-09-30 18:39:03|  2021-09-30 18:39:06|                 N|       5.0|          37|          37|            1.0|10.3|      2.0|Night|2021-09-30|Thu|\n",
       "| 2021-10-01 00:47:50|  2021-10-01 01:00:04|                 N|       5.0|          92|          82|            2.0|20.3|      2.0|Night|2021-10-01|Fri|\n",
       "| 2021-10-01 00:23:10|  2021-10-01 00:34:26|                 N|       5.0|          41|         167|            2.0|13.3|      2.0|Night|2021-10-01|Fri|\n",
       "| 2021-10-01 00:37:35|  2021-10-01 00:43:37|                 N|       1.0|         134|         135|            1.0| 8.3|      1.0|Night|2021-10-01|Fri|\n",
       "| 2021-10-01 00:43:28|  2021-10-01 00:48:26|                 N|       1.0|         119|         247|            1.0| 6.8|      1.0|Night|2021-10-01|Fri|\n",
       "+--------------------+---------------------+------------------+----------+------------+------------+---------------+----+---------+-----+----------+---+"
      ]
     },
     "execution_count": 10,
     "metadata": {},
     "output_type": "execute_result"
    }
   ],
   "source": [
    "# As we disregarded the tip amount as it is not accounted for in cash tips\n",
    "# we will only account for total amount - tip and we can remove the rest that is attributed to the total amount and payment type would not matter\n",
    "# VendorID will not be of importance as we are looking at green taxis in general\n",
    "rel_col = ('lpep_pickup_datetime', 'lpep_dropoff_datetime', 'store_and_fwd_flag', 'RatecodeID', 'PULocationID', 'DOLocationID', 'passenger_count', 'fare', 'trip_type', 'shift', 'Date', 'Day')\n",
    "sdf_green_pre5 = sdf_green_pre4.select(*rel_col)\n",
    "sdf_green_pre5.limit(5)\n"
   ]
  },
  {
   "cell_type": "code",
   "execution_count": 11,
   "id": "316cc08a",
   "metadata": {
    "ExecuteTime": {
     "end_time": "2022-08-18T06:23:37.546282Z",
     "start_time": "2022-08-18T06:23:37.205540Z"
    }
   },
   "outputs": [
    {
     "data": {
      "text/plain": [
       "Row(STATION='USC00280907', NAME='BOONTON 1 SE, NJ US', DATE='2021-07-01', PRCP='0.23', SNOW='0.0', SNWD='0.0', TAVG=None, TOBS='73', WESD=None, WT01=None, WT02=None, WT03=None, WT04=None, WT05=None, WT06=None, WT08=None, WT09=None, WT11=None)"
      ]
     },
     "execution_count": 11,
     "metadata": {},
     "output_type": "execute_result"
    }
   ],
   "source": [
    "# Now we import the weather dataset to be added\n",
    "weather = spark.read.option(\"header\",True).csv(\"../data/Weather.csv\")\n",
    "weather.head()"
   ]
  },
  {
   "cell_type": "code",
   "execution_count": 12,
   "id": "175e0aa8",
   "metadata": {
    "ExecuteTime": {
     "end_time": "2022-08-18T06:23:37.867754Z",
     "start_time": "2022-08-18T06:23:37.548347Z"
    }
   },
   "outputs": [
    {
     "data": {
      "text/html": [
       "<table border='1'>\n",
       "<tr><th>NAME</th><th>DATE</th><th>TAVG</th></tr>\n",
       "<tr><td>NY CITY CENTRAL P...</td><td>2021-07-01</td><td>null</td></tr>\n",
       "<tr><td>NY CITY CENTRAL P...</td><td>2021-07-02</td><td>null</td></tr>\n",
       "<tr><td>NY CITY CENTRAL P...</td><td>2021-07-03</td><td>null</td></tr>\n",
       "<tr><td>NY CITY CENTRAL P...</td><td>2021-07-04</td><td>null</td></tr>\n",
       "<tr><td>NY CITY CENTRAL P...</td><td>2021-07-05</td><td>null</td></tr>\n",
       "</table>\n"
      ],
      "text/plain": [
       "+--------------------+----------+----+\n",
       "|                NAME|      DATE|TAVG|\n",
       "+--------------------+----------+----+\n",
       "|NY CITY CENTRAL P...|2021-07-01|null|\n",
       "|NY CITY CENTRAL P...|2021-07-02|null|\n",
       "|NY CITY CENTRAL P...|2021-07-03|null|\n",
       "|NY CITY CENTRAL P...|2021-07-04|null|\n",
       "|NY CITY CENTRAL P...|2021-07-05|null|\n",
       "+--------------------+----------+----+"
      ]
     },
     "execution_count": 12,
     "metadata": {},
     "output_type": "execute_result"
    }
   ],
   "source": [
    "# Only want the 3 stations near New York City\n",
    "rel_cols = ('NAME', 'DATE', 'TAVG')\n",
    "weather_NYC = weather.select(*rel_cols).filter((F.col('NAME') == 'JFK INTERNATIONAL AIRPORT, NY US')\n",
    "                                               |(F.col('NAME') == 'NEWARK LIBERTY INTERNATIONAL AIRPORT, NJ US')\n",
    "                                               |(F.col('NAME') == 'NY CITY CENTRAL PARK, NY US')\n",
    "                                              )\n",
    "\n",
    "weather_NYC.filter(F.col('NAME') == 'NY CITY CENTRAL PARK, NY US').limit(5)"
   ]
  },
  {
   "cell_type": "code",
   "execution_count": 13,
   "id": "78ded4f1",
   "metadata": {
    "ExecuteTime": {
     "end_time": "2022-08-18T06:23:38.358391Z",
     "start_time": "2022-08-18T06:23:37.870194Z"
    }
   },
   "outputs": [
    {
     "data": {
      "text/html": [
       "<table border='1'>\n",
       "<tr><th>NAME</th><th>Date</th><th>TAVG</th><th>WTAVG</th></tr>\n",
       "<tr><td>NEWARK LIBERTY IN...</td><td>2021-07-01</td><td>80</td><td>53</td></tr>\n",
       "<tr><td>NEWARK LIBERTY IN...</td><td>2021-07-02</td><td>75</td><td>50</td></tr>\n",
       "<tr><td>NEWARK LIBERTY IN...</td><td>2021-07-03</td><td>65</td><td>43</td></tr>\n",
       "<tr><td>NEWARK LIBERTY IN...</td><td>2021-07-04</td><td>71</td><td>47</td></tr>\n",
       "<tr><td>NEWARK LIBERTY IN...</td><td>2021-07-05</td><td>77</td><td>51</td></tr>\n",
       "</table>\n"
      ],
      "text/plain": [
       "+--------------------+----------+----+-----+\n",
       "|                NAME|      Date|TAVG|WTAVG|\n",
       "+--------------------+----------+----+-----+\n",
       "|NEWARK LIBERTY IN...|2021-07-01|  80|   53|\n",
       "|NEWARK LIBERTY IN...|2021-07-02|  75|   50|\n",
       "|NEWARK LIBERTY IN...|2021-07-03|  65|   43|\n",
       "|NEWARK LIBERTY IN...|2021-07-04|  71|   47|\n",
       "|NEWARK LIBERTY IN...|2021-07-05|  77|   51|\n",
       "+--------------------+----------+----+-----+"
      ]
     },
     "execution_count": 13,
     "metadata": {},
     "output_type": "execute_result"
    }
   ],
   "source": [
    "# As NYC Central Park does not have data for temperature, we will use Newark and JFK instead\n",
    "# Using the appropriated percentage according to weatherspark, we will split the weightage of 58% of central park accordingly to Newark and JFK (2:1 ratio)\n",
    "# So Newark is 67% while JFK contributes 33%\n",
    "rel_cols = ('NAME', 'DATE', 'TAVG')\n",
    "weather_NYC = weather.select(*rel_cols).filter((F.col('NAME') == 'JFK INTERNATIONAL AIRPORT, NY US')\n",
    "                                               |(F.col('NAME') == 'NEWARK LIBERTY INTERNATIONAL AIRPORT, NJ US')\n",
    "                                              )\n",
    "weather_NYC = weather_NYC.withColumn('WTAVG', F.when((F.col('NAME') == 'NEWARK LIBERTY INTERNATIONAL AIRPORT, NJ US'),\n",
    "                                                        (F.col('TAVG')*2/3).cast('int')\n",
    "                                                    ).otherwise((F.col('TAVG')/3)).cast('int')\n",
    "                                    )\n",
    "weather_NYC = weather_NYC.withColumn('Date', F.to_date('DATE'))\n",
    "weather_NYC.limit(5)"
   ]
  },
  {
   "cell_type": "code",
   "execution_count": 14,
   "id": "8867ed75",
   "metadata": {
    "ExecuteTime": {
     "end_time": "2022-08-18T06:23:39.681782Z",
     "start_time": "2022-08-18T06:23:38.364717Z"
    }
   },
   "outputs": [
    {
     "data": {
      "text/html": [
       "<table border='1'>\n",
       "<tr><th>Date</th><th>temp</th></tr>\n",
       "<tr><td>2021-08-27</td><td>83</td></tr>\n",
       "<tr><td>2021-10-11</td><td>66</td></tr>\n",
       "<tr><td>2021-11-13</td><td>52</td></tr>\n",
       "<tr><td>2021-12-18</td><td>45</td></tr>\n",
       "<tr><td>2022-03-28</td><td>29</td></tr>\n",
       "</table>\n"
      ],
      "text/plain": [
       "+----------+----+\n",
       "|      Date|temp|\n",
       "+----------+----+\n",
       "|2021-08-27|  83|\n",
       "|2021-10-11|  66|\n",
       "|2021-11-13|  52|\n",
       "|2021-12-18|  45|\n",
       "|2022-03-28|  29|\n",
       "+----------+----+"
      ]
     },
     "execution_count": 14,
     "metadata": {},
     "output_type": "execute_result"
    }
   ],
   "source": [
    "# Now we aggregate the weighted average together\n",
    "cols = ('Date', 'WTAVG')\n",
    "weather_NYC_cur = weather_NYC.select(*cols)\n",
    "agg_NYC_weather = weather_NYC_cur.groupby('Date') \\\n",
    "                                 .agg(\n",
    "                                    F.sum('WTAVG').alias('temp')\n",
    "                                  )\n",
    "agg_NYC_weather.limit(5)"
   ]
  },
  {
   "cell_type": "code",
   "execution_count": 15,
   "id": "4c056151",
   "metadata": {
    "ExecuteTime": {
     "end_time": "2022-08-18T06:23:43.259080Z",
     "start_time": "2022-08-18T06:23:39.683906Z"
    }
   },
   "outputs": [
    {
     "data": {
      "text/html": [
       "<table border='1'>\n",
       "<tr><th>Date</th><th>lpep_pickup_datetime</th><th>lpep_dropoff_datetime</th><th>store_and_fwd_flag</th><th>RatecodeID</th><th>PULocationID</th><th>DOLocationID</th><th>passenger_count</th><th>fare</th><th>trip_type</th><th>shift</th><th>Day</th><th>temp</th></tr>\n",
       "<tr><td>2021-07-01</td><td>2021-07-01 00:30:52</td><td>2021-07-01 00:35:36</td><td>N</td><td>1.0</td><td>74</td><td>168</td><td>1.0</td><td>7.3</td><td>1.0</td><td>Night</td><td>Thu</td><td>78</td></tr>\n",
       "<tr><td>2021-07-01</td><td>2021-07-01 00:51:32</td><td>2021-07-01 00:58:46</td><td>N</td><td>1.0</td><td>42</td><td>244</td><td>1.0</td><td>8.3</td><td>1.0</td><td>Night</td><td>Thu</td><td>78</td></tr>\n",
       "<tr><td>2021-07-01</td><td>2021-07-01 00:25:36</td><td>2021-07-01 01:01:31</td><td>N</td><td>1.0</td><td>116</td><td>265</td><td>2.0</td><td>43.3</td><td>1.0</td><td>Night</td><td>Thu</td><td>78</td></tr>\n",
       "<tr><td>2021-07-01</td><td>2021-07-01 00:05:58</td><td>2021-07-01 00:12:00</td><td>N</td><td>1.0</td><td>97</td><td>33</td><td>1.0</td><td>7.8</td><td>1.0</td><td>Night</td><td>Thu</td><td>78</td></tr>\n",
       "<tr><td>2021-07-01</td><td>2021-07-01 00:41:40</td><td>2021-07-01 00:47:23</td><td>N</td><td>1.0</td><td>74</td><td>42</td><td>1.0</td><td>7.8</td><td>1.0</td><td>Night</td><td>Thu</td><td>78</td></tr>\n",
       "</table>\n"
      ],
      "text/plain": [
       "+----------+--------------------+---------------------+------------------+----------+------------+------------+---------------+----+---------+-----+---+----+\n",
       "|      Date|lpep_pickup_datetime|lpep_dropoff_datetime|store_and_fwd_flag|RatecodeID|PULocationID|DOLocationID|passenger_count|fare|trip_type|shift|Day|temp|\n",
       "+----------+--------------------+---------------------+------------------+----------+------------+------------+---------------+----+---------+-----+---+----+\n",
       "|2021-07-01| 2021-07-01 00:30:52|  2021-07-01 00:35:36|                 N|       1.0|          74|         168|            1.0| 7.3|      1.0|Night|Thu|  78|\n",
       "|2021-07-01| 2021-07-01 00:51:32|  2021-07-01 00:58:46|                 N|       1.0|          42|         244|            1.0| 8.3|      1.0|Night|Thu|  78|\n",
       "|2021-07-01| 2021-07-01 00:25:36|  2021-07-01 01:01:31|                 N|       1.0|         116|         265|            2.0|43.3|      1.0|Night|Thu|  78|\n",
       "|2021-07-01| 2021-07-01 00:05:58|  2021-07-01 00:12:00|                 N|       1.0|          97|          33|            1.0| 7.8|      1.0|Night|Thu|  78|\n",
       "|2021-07-01| 2021-07-01 00:41:40|  2021-07-01 00:47:23|                 N|       1.0|          74|          42|            1.0| 7.8|      1.0|Night|Thu|  78|\n",
       "+----------+--------------------+---------------------+------------------+----------+------------+------------+---------------+----+---------+-----+---+----+"
      ]
     },
     "execution_count": 15,
     "metadata": {},
     "output_type": "execute_result"
    }
   ],
   "source": [
    "# Now we want to add the temperature accordingly to the dates in the main dataframe\n",
    "\n",
    "merged_sdf = sdf_green_pre5.join(agg_NYC_weather, on='Date', how='left')\n",
    "merged_sdf.orderBy('Date').limit(5)"
   ]
  },
  {
   "cell_type": "code",
   "execution_count": 16,
   "id": "b7ef8bfb",
   "metadata": {
    "ExecuteTime": {
     "end_time": "2022-08-18T06:23:46.366886Z",
     "start_time": "2022-08-18T06:23:43.263065Z"
    }
   },
   "outputs": [],
   "source": [
    "merged_sdf.write.mode('overwrite').parquet('../data/curated/result')"
   ]
  },
  {
   "cell_type": "code",
   "execution_count": null,
   "id": "ca527b9d",
   "metadata": {},
   "outputs": [],
   "source": []
  },
  {
   "cell_type": "code",
   "execution_count": null,
   "id": "ddeaf706",
   "metadata": {},
   "outputs": [],
   "source": []
  },
  {
   "cell_type": "code",
   "execution_count": null,
   "id": "b7f466f5",
   "metadata": {},
   "outputs": [],
   "source": []
  },
  {
   "cell_type": "code",
   "execution_count": null,
   "id": "40814a48",
   "metadata": {},
   "outputs": [],
   "source": []
  },
  {
   "cell_type": "code",
   "execution_count": null,
   "id": "40b5851c",
   "metadata": {},
   "outputs": [],
   "source": []
  }
 ],
 "metadata": {
  "kernelspec": {
   "display_name": "Python 3",
   "language": "python",
   "name": "python3"
  },
  "language_info": {
   "codemirror_mode": {
    "name": "ipython",
    "version": 3
   },
   "file_extension": ".py",
   "mimetype": "text/x-python",
   "name": "python",
   "nbconvert_exporter": "python",
   "pygments_lexer": "ipython3",
   "version": "3.8.8"
  },
  "toc": {
   "base_numbering": 1,
   "nav_menu": {},
   "number_sections": true,
   "sideBar": true,
   "skip_h1_title": false,
   "title_cell": "Table of Contents",
   "title_sidebar": "Contents",
   "toc_cell": false,
   "toc_position": {},
   "toc_section_display": true,
   "toc_window_display": false
  }
 },
 "nbformat": 4,
 "nbformat_minor": 5
}
