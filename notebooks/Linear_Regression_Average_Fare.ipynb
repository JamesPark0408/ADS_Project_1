{
 "cells": [
  {
   "cell_type": "code",
   "execution_count": 1,
   "id": "36282966",
   "metadata": {
    "ExecuteTime": {
     "end_time": "2022-08-21T21:07:35.647642Z",
     "start_time": "2022-08-21T21:07:34.632167Z"
    }
   },
   "outputs": [],
   "source": [
    "from pyspark.sql import SparkSession\n",
    "from pyspark.sql import functions as F\n",
    "from pyspark.ml.feature import StringIndexer\n",
    "from pyspark.ml.feature import VectorAssembler\n",
    "from pyspark.ml.feature import OneHotEncoder\n",
    "from pyspark.ml.feature import StandardScaler\n",
    "from pyspark.ml.regression import LinearRegression\n",
    "from pyspark.ml.evaluation import RegressionEvaluator\n",
    "import pandas as pd"
   ]
  },
  {
   "cell_type": "code",
   "execution_count": 2,
   "id": "13ba5425",
   "metadata": {
    "ExecuteTime": {
     "end_time": "2022-08-21T21:07:54.368726Z",
     "start_time": "2022-08-21T21:07:35.649587Z"
    }
   },
   "outputs": [],
   "source": [
    "# Create a spark session (which will run spark jobs)\n",
    "spark = (\n",
    "    SparkSession.builder.appName(\"MAST30034 Project 1\")\n",
    "    .config(\"spark.sql.repl.eagerEval.enabled\", True) \n",
    "    .config(\"spark.sql.parquet.cacheMetadata\", \"true\")\n",
    "    .config(\"spark.sql.session.timeZone\", \"Etc/UTC\")\n",
    "    .config(\"spark.driver.memory\", \"2g\")\n",
    "    .config(\"spark.executor.memory\", \"4g\")\n",
    "    .getOrCreate()\n",
    ")"
   ]
  },
  {
   "cell_type": "code",
   "execution_count": 3,
   "id": "a1f8e9e1",
   "metadata": {
    "ExecuteTime": {
     "end_time": "2022-08-21T21:07:58.858851Z",
     "start_time": "2022-08-21T21:07:54.371000Z"
    }
   },
   "outputs": [
    {
     "data": {
      "text/html": [
       "<table border='1'>\n",
       "<tr><th>PULocationID</th><th>day</th><th>shift</th><th>fare</th><th>temp</th><th>Date</th></tr>\n",
       "<tr><td>43</td><td>Tue</td><td>Night</td><td>6.8</td><td>25</td><td>2022-02-01</td></tr>\n",
       "<tr><td>166</td><td>Tue</td><td>Night</td><td>5.8</td><td>25</td><td>2022-02-01</td></tr>\n",
       "<tr><td>89</td><td>Tue</td><td>Night</td><td>50.3</td><td>25</td><td>2022-02-01</td></tr>\n",
       "<tr><td>7</td><td>Tue</td><td>Night</td><td>25.05</td><td>25</td><td>2022-02-01</td></tr>\n",
       "<tr><td>166</td><td>Tue</td><td>Night</td><td>9.8</td><td>25</td><td>2022-02-01</td></tr>\n",
       "</table>\n"
      ],
      "text/plain": [
       "+------------+---+-----+-----+----+----------+\n",
       "|PULocationID|day|shift| fare|temp|      Date|\n",
       "+------------+---+-----+-----+----+----------+\n",
       "|          43|Tue|Night|  6.8|  25|2022-02-01|\n",
       "|         166|Tue|Night|  5.8|  25|2022-02-01|\n",
       "|          89|Tue|Night| 50.3|  25|2022-02-01|\n",
       "|           7|Tue|Night|25.05|  25|2022-02-01|\n",
       "|         166|Tue|Night|  9.8|  25|2022-02-01|\n",
       "+------------+---+-----+-----+----+----------+"
      ]
     },
     "execution_count": 3,
     "metadata": {},
     "output_type": "execute_result"
    }
   ],
   "source": [
    "sdf_data = spark.read.parquet('../data/curated/result_data/')\n",
    "sdf_predict = spark.read.parquet('../data/curated/result_predict/')\n",
    "sdf_data.limit(5)"
   ]
  },
  {
   "cell_type": "code",
   "execution_count": 4,
   "id": "5810af90",
   "metadata": {
    "ExecuteTime": {
     "end_time": "2022-08-21T21:07:59.498495Z",
     "start_time": "2022-08-21T21:07:58.861446Z"
    }
   },
   "outputs": [
    {
     "data": {
      "text/html": [
       "<table border='1'>\n",
       "<tr><th>PULocationID</th><th>Borough</th></tr>\n",
       "<tr><td>1</td><td>EWR</td></tr>\n",
       "<tr><td>2</td><td>Queens</td></tr>\n",
       "<tr><td>3</td><td>Bronx</td></tr>\n",
       "<tr><td>4</td><td>Manhattan</td></tr>\n",
       "<tr><td>5</td><td>Staten Island</td></tr>\n",
       "</table>\n"
      ],
      "text/plain": [
       "+------------+-------------+\n",
       "|PULocationID|      Borough|\n",
       "+------------+-------------+\n",
       "|           1|          EWR|\n",
       "|           2|       Queens|\n",
       "|           3|        Bronx|\n",
       "|           4|    Manhattan|\n",
       "|           5|Staten Island|\n",
       "+------------+-------------+"
      ]
     },
     "execution_count": 4,
     "metadata": {},
     "output_type": "execute_result"
    }
   ],
   "source": [
    "# Get Borough data to link to location IDs\n",
    "sdf_zone = spark.read.option(\"header\",True).csv(\"../data/raw/taxi+_zone_lookup.csv\")\n",
    "sdf_zone = sdf_zone.withColumnRenamed('LocationID', 'PULocationID')\n",
    "sdf_zone = sdf_zone.select('PULocationID', 'Borough')\n",
    "sdf_zone.limit(5)"
   ]
  },
  {
   "cell_type": "code",
   "execution_count": 5,
   "id": "a5415e6d",
   "metadata": {
    "ExecuteTime": {
     "end_time": "2022-08-21T21:08:00.205200Z",
     "start_time": "2022-08-21T21:07:59.500071Z"
    },
    "scrolled": true
   },
   "outputs": [
    {
     "data": {
      "text/html": [
       "<table border='1'>\n",
       "<tr><th>PULocationID</th><th>day</th><th>shift</th><th>fare</th><th>temp</th><th>Date</th><th>Borough</th></tr>\n",
       "<tr><td>43</td><td>Tue</td><td>Night</td><td>6.8</td><td>25</td><td>2022-02-01</td><td>Manhattan</td></tr>\n",
       "<tr><td>166</td><td>Tue</td><td>Night</td><td>5.8</td><td>25</td><td>2022-02-01</td><td>Manhattan</td></tr>\n",
       "<tr><td>89</td><td>Tue</td><td>Night</td><td>50.3</td><td>25</td><td>2022-02-01</td><td>Brooklyn</td></tr>\n",
       "<tr><td>7</td><td>Tue</td><td>Night</td><td>25.05</td><td>25</td><td>2022-02-01</td><td>Queens</td></tr>\n",
       "<tr><td>166</td><td>Tue</td><td>Night</td><td>9.8</td><td>25</td><td>2022-02-01</td><td>Manhattan</td></tr>\n",
       "</table>\n"
      ],
      "text/plain": [
       "+------------+---+-----+-----+----+----------+---------+\n",
       "|PULocationID|day|shift| fare|temp|      Date|  Borough|\n",
       "+------------+---+-----+-----+----+----------+---------+\n",
       "|          43|Tue|Night|  6.8|  25|2022-02-01|Manhattan|\n",
       "|         166|Tue|Night|  5.8|  25|2022-02-01|Manhattan|\n",
       "|          89|Tue|Night| 50.3|  25|2022-02-01| Brooklyn|\n",
       "|           7|Tue|Night|25.05|  25|2022-02-01|   Queens|\n",
       "|         166|Tue|Night|  9.8|  25|2022-02-01|Manhattan|\n",
       "+------------+---+-----+-----+----+----------+---------+"
      ]
     },
     "execution_count": 5,
     "metadata": {},
     "output_type": "execute_result"
    }
   ],
   "source": [
    "sdf_merge = sdf_data.join(sdf_zone, on='PULocationID', how='left')\n",
    "sdf_pred = sdf_predict.join(sdf_zone, on='PULocationID', how='left')\n",
    "sdf_merge.limit(5)"
   ]
  },
  {
   "cell_type": "code",
   "execution_count": 6,
   "id": "ccfc680d",
   "metadata": {
    "ExecuteTime": {
     "end_time": "2022-08-21T21:08:00.669442Z",
     "start_time": "2022-08-21T21:08:00.207420Z"
    },
    "scrolled": true
   },
   "outputs": [
    {
     "data": {
      "text/html": [
       "<table border='1'>\n",
       "<tr><th>Borough</th><th>day</th><th>shift</th><th>temp</th><th>fare</th></tr>\n",
       "<tr><td>Manhattan</td><td>Tue</td><td>Night</td><td>25</td><td>6.8</td></tr>\n",
       "<tr><td>Manhattan</td><td>Tue</td><td>Night</td><td>25</td><td>5.8</td></tr>\n",
       "<tr><td>Brooklyn</td><td>Tue</td><td>Night</td><td>25</td><td>50.3</td></tr>\n",
       "<tr><td>Queens</td><td>Tue</td><td>Night</td><td>25</td><td>25.05</td></tr>\n",
       "<tr><td>Manhattan</td><td>Tue</td><td>Night</td><td>25</td><td>9.8</td></tr>\n",
       "</table>\n"
      ],
      "text/plain": [
       "+---------+---+-----+----+-----+\n",
       "|  Borough|day|shift|temp| fare|\n",
       "+---------+---+-----+----+-----+\n",
       "|Manhattan|Tue|Night|  25|  6.8|\n",
       "|Manhattan|Tue|Night|  25|  5.8|\n",
       "| Brooklyn|Tue|Night|  25| 50.3|\n",
       "|   Queens|Tue|Night|  25|25.05|\n",
       "|Manhattan|Tue|Night|  25|  9.8|\n",
       "+---------+---+-----+----+-----+"
      ]
     },
     "execution_count": 6,
     "metadata": {},
     "output_type": "execute_result"
    }
   ],
   "source": [
    "sdf_merge = sdf_merge.select('Borough', 'day', 'shift', 'temp', 'fare')\n",
    "sdf_pred = sdf_pred.select('Borough', 'day', 'shift', 'temp', 'fare')\n",
    "sdf_merge.limit(5)"
   ]
  },
  {
   "cell_type": "code",
   "execution_count": 7,
   "id": "1a3a16eb",
   "metadata": {
    "ExecuteTime": {
     "end_time": "2022-08-21T21:08:04.076859Z",
     "start_time": "2022-08-21T21:08:00.671706Z"
    },
    "scrolled": false
   },
   "outputs": [
    {
     "data": {
      "text/html": [
       "<table border='1'>\n",
       "<tr><th>Borough</th><th>day</th><th>shift</th><th>temp</th><th>fare</th></tr>\n",
       "<tr><td>Bronx</td><td>Sun</td><td>Night</td><td>27</td><td>17.49</td></tr>\n",
       "<tr><td>Brooklyn</td><td>Mon</td><td>Morning</td><td>32</td><td>15.76</td></tr>\n",
       "<tr><td>Staten Island</td><td>Wed</td><td>Night</td><td>44</td><td>72.85</td></tr>\n",
       "<tr><td>Brooklyn</td><td>Mon</td><td>Night</td><td>45</td><td>17.14</td></tr>\n",
       "<tr><td>Manhattan</td><td>Thu</td><td>Morning</td><td>56</td><td>14.9</td></tr>\n",
       "</table>\n"
      ],
      "text/plain": [
       "+-------------+---+-------+----+-----+\n",
       "|      Borough|day|  shift|temp| fare|\n",
       "+-------------+---+-------+----+-----+\n",
       "|        Bronx|Sun|  Night|  27|17.49|\n",
       "|     Brooklyn|Mon|Morning|  32|15.76|\n",
       "|Staten Island|Wed|  Night|  44|72.85|\n",
       "|     Brooklyn|Mon|  Night|  45|17.14|\n",
       "|    Manhattan|Thu|Morning|  56| 14.9|\n",
       "+-------------+---+-------+----+-----+"
      ]
     },
     "execution_count": 7,
     "metadata": {},
     "output_type": "execute_result"
    }
   ],
   "source": [
    "# In order to fulfill full rank model for linear regression, \n",
    "#  we combine and get the fare average for duplicates\n",
    "sdf_agg = sdf_merge \\\n",
    "            .groupBy('Borough', 'day', 'shift','temp') \\\n",
    "            .agg(\n",
    "                F.round(F.mean(\"fare\"),2).alias(\"fare\"),\n",
    "            ) \n",
    "sdf_agg.limit(5)"
   ]
  },
  {
   "cell_type": "code",
   "execution_count": 8,
   "id": "6546398b",
   "metadata": {
    "ExecuteTime": {
     "end_time": "2022-08-21T21:08:06.712252Z",
     "start_time": "2022-08-21T21:08:04.082045Z"
    },
    "scrolled": true
   },
   "outputs": [
    {
     "name": "stdout",
     "output_type": "stream",
     "text": [
      "+-------------+---+-------+----+-----+-----------+-------+---------+\n",
      "|      Borough|day|  shift|temp| fare|Borough_idx|day_idx|shift_idx|\n",
      "+-------------+---+-------+----+-----+-----------+-------+---------+\n",
      "|        Bronx|Sun|  Night|  27|17.49|        0.0|    4.0|      1.0|\n",
      "|     Brooklyn|Mon|Morning|  32|15.76|        1.0|    1.0|      0.0|\n",
      "|Staten Island|Wed|  Night|  44|72.85|        4.0|    6.0|      1.0|\n",
      "|     Brooklyn|Mon|  Night|  45|17.14|        1.0|    1.0|      1.0|\n",
      "|    Manhattan|Thu|Morning|  56| 14.9|        2.0|    3.0|      0.0|\n",
      "|       Queens|Sat|  Night|  45|16.89|        3.0|    2.0|      1.0|\n",
      "|    Manhattan|Sat|Morning|  45|13.48|        2.0|    2.0|      0.0|\n",
      "|        Bronx|Fri|  Night|  68|22.58|        0.0|    0.0|      1.0|\n",
      "|    Manhattan|Thu|  Night|  73|14.61|        2.0|    3.0|      1.0|\n",
      "|    Manhattan|Tue|Morning|  80|14.59|        2.0|    5.0|      0.0|\n",
      "|        Bronx|Sun|Morning|  78|34.18|        0.0|    4.0|      0.0|\n",
      "|       Queens|Thu|  Night|  41|14.59|        3.0|    3.0|      1.0|\n",
      "|    Manhattan|Sun|Morning|  27|13.27|        2.0|    4.0|      0.0|\n",
      "|     Brooklyn|Fri|  Night|  30| 16.1|        1.0|    0.0|      1.0|\n",
      "|     Brooklyn|Mon|  Night|  30|18.02|        1.0|    1.0|      1.0|\n",
      "|        Bronx|Tue|  Night|  41|22.09|        0.0|    5.0|      1.0|\n",
      "|    Manhattan|Sun|Morning|  48|14.17|        2.0|    4.0|      0.0|\n",
      "|        Bronx|Tue|Morning|  62|39.44|        0.0|    5.0|      0.0|\n",
      "|       Queens|Thu|  Night|  77|16.02|        3.0|    3.0|      1.0|\n",
      "|    Manhattan|Mon|Morning|  69|14.75|        2.0|    1.0|      0.0|\n",
      "+-------------+---+-------+----+-----+-----------+-------+---------+\n",
      "only showing top 20 rows\n",
      "\n"
     ]
    }
   ],
   "source": [
    "# Change to indexes from strings in order to one hot encode\n",
    "string_indexer = StringIndexer(inputCols=['Borough','day','shift'], outputCols=['Borough_idx','day_idx','shift_idx']).fit(sdf_agg)\n",
    "sdf_agg = string_indexer.transform(sdf_agg)\n",
    "sdf_pred = string_indexer.transform(sdf_pred)\n",
    "sdf_agg.show()"
   ]
  },
  {
   "cell_type": "code",
   "execution_count": 9,
   "id": "4914f4e0",
   "metadata": {
    "ExecuteTime": {
     "end_time": "2022-08-21T21:08:10.207595Z",
     "start_time": "2022-08-21T21:08:06.716303Z"
    }
   },
   "outputs": [
    {
     "data": {
      "text/html": [
       "<table border='1'>\n",
       "<tr><th>Borough_ohe</th><th>day_ohe</th><th>shift_ohe</th><th>temp</th><th>fare</th></tr>\n",
       "<tr><td>(4,[0],[1.0])</td><td>(6,[4],[1.0])</td><td>(1,[],[])</td><td>27</td><td>17.49</td></tr>\n",
       "<tr><td>(4,[1],[1.0])</td><td>(6,[1],[1.0])</td><td>(1,[0],[1.0])</td><td>32</td><td>15.76</td></tr>\n",
       "<tr><td>(4,[],[])</td><td>(6,[],[])</td><td>(1,[],[])</td><td>44</td><td>72.85</td></tr>\n",
       "<tr><td>(4,[1],[1.0])</td><td>(6,[1],[1.0])</td><td>(1,[],[])</td><td>45</td><td>17.14</td></tr>\n",
       "<tr><td>(4,[2],[1.0])</td><td>(6,[3],[1.0])</td><td>(1,[0],[1.0])</td><td>56</td><td>14.9</td></tr>\n",
       "</table>\n"
      ],
      "text/plain": [
       "+-------------+-------------+-------------+----+-----+\n",
       "|  Borough_ohe|      day_ohe|    shift_ohe|temp| fare|\n",
       "+-------------+-------------+-------------+----+-----+\n",
       "|(4,[0],[1.0])|(6,[4],[1.0])|    (1,[],[])|  27|17.49|\n",
       "|(4,[1],[1.0])|(6,[1],[1.0])|(1,[0],[1.0])|  32|15.76|\n",
       "|    (4,[],[])|    (6,[],[])|    (1,[],[])|  44|72.85|\n",
       "|(4,[1],[1.0])|(6,[1],[1.0])|    (1,[],[])|  45|17.14|\n",
       "|(4,[2],[1.0])|(6,[3],[1.0])|(1,[0],[1.0])|  56| 14.9|\n",
       "+-------------+-------------+-------------+----+-----+"
      ]
     },
     "execution_count": 9,
     "metadata": {},
     "output_type": "execute_result"
    }
   ],
   "source": [
    "# Now we can one hot encode\n",
    "OHE = (OneHotEncoder()\n",
    "       .setInputCols(['Borough_idx','day_idx','shift_idx'])\n",
    "       .setOutputCols(['Borough_ohe','day_ohe','shift_ohe']))\n",
    "model = OHE.fit(sdf_agg)\n",
    "sdf_ohe = model.transform(sdf_agg)\n",
    "sdf_ohe_pred = model.transform(sdf_pred)\n",
    "sdf_ohef = sdf_ohe.select('Borough_ohe', 'day_ohe','shift_ohe', 'temp', 'fare')\n",
    "sdf_ohef_pred = sdf_ohe_pred.select('Borough_ohe', 'day_ohe','shift_ohe', 'temp', 'fare')\n",
    "\n",
    "\n",
    "sdf_ohef.limit(5)"
   ]
  },
  {
   "cell_type": "code",
   "execution_count": 10,
   "id": "69b55ef5",
   "metadata": {
    "ExecuteTime": {
     "end_time": "2022-08-21T21:08:13.387813Z",
     "start_time": "2022-08-21T21:08:10.211164Z"
    },
    "scrolled": true
   },
   "outputs": [
    {
     "name": "stdout",
     "output_type": "stream",
     "text": [
      "+-------------+-------------+\n",
      "|      Borough|  Borough_ohe|\n",
      "+-------------+-------------+\n",
      "|Staten Island|    (4,[],[])|\n",
      "|        Bronx|(4,[0],[1.0])|\n",
      "|     Brooklyn|(4,[1],[1.0])|\n",
      "|    Manhattan|(4,[2],[1.0])|\n",
      "|       Queens|(4,[3],[1.0])|\n",
      "+-------------+-------------+\n",
      "\n"
     ]
    }
   ],
   "source": [
    "# Check to see that the test and train data are in sync\n",
    "sdf_ohe.select('Borough','Borough_ohe').distinct().sort('Borough_ohe').show()"
   ]
  },
  {
   "cell_type": "code",
   "execution_count": 11,
   "id": "c1dc3552",
   "metadata": {
    "ExecuteTime": {
     "end_time": "2022-08-21T21:08:14.670366Z",
     "start_time": "2022-08-21T21:08:13.391405Z"
    }
   },
   "outputs": [
    {
     "name": "stdout",
     "output_type": "stream",
     "text": [
      "+-------------+-------------+\n",
      "|      Borough|  Borough_ohe|\n",
      "+-------------+-------------+\n",
      "|Staten Island|    (4,[],[])|\n",
      "|        Bronx|(4,[0],[1.0])|\n",
      "|     Brooklyn|(4,[1],[1.0])|\n",
      "|    Manhattan|(4,[2],[1.0])|\n",
      "|       Queens|(4,[3],[1.0])|\n",
      "+-------------+-------------+\n",
      "\n"
     ]
    }
   ],
   "source": [
    "sdf_ohe_pred.select('Borough','Borough_ohe').distinct().sort('Borough_ohe').show()"
   ]
  },
  {
   "cell_type": "code",
   "execution_count": 12,
   "id": "bf1541ae",
   "metadata": {
    "ExecuteTime": {
     "end_time": "2022-08-21T21:08:18.390827Z",
     "start_time": "2022-08-21T21:08:14.680465Z"
    },
    "scrolled": false
   },
   "outputs": [
    {
     "name": "stdout",
     "output_type": "stream",
     "text": [
      "+---+-------------+\n",
      "|day|      day_ohe|\n",
      "+---+-------------+\n",
      "|Wed|    (6,[],[])|\n",
      "|Fri|(6,[0],[1.0])|\n",
      "|Mon|(6,[1],[1.0])|\n",
      "|Sat|(6,[2],[1.0])|\n",
      "|Thu|(6,[3],[1.0])|\n",
      "|Sun|(6,[4],[1.0])|\n",
      "|Tue|(6,[5],[1.0])|\n",
      "+---+-------------+\n",
      "\n"
     ]
    }
   ],
   "source": [
    "sdf_ohe.select('day','day_ohe').distinct().sort('day_ohe').show()"
   ]
  },
  {
   "cell_type": "code",
   "execution_count": 13,
   "id": "367161f9",
   "metadata": {
    "ExecuteTime": {
     "end_time": "2022-08-21T21:08:19.730610Z",
     "start_time": "2022-08-21T21:08:18.395194Z"
    }
   },
   "outputs": [
    {
     "name": "stdout",
     "output_type": "stream",
     "text": [
      "+---+-------------+\n",
      "|day|      day_ohe|\n",
      "+---+-------------+\n",
      "|Wed|    (6,[],[])|\n",
      "|Fri|(6,[0],[1.0])|\n",
      "|Mon|(6,[1],[1.0])|\n",
      "|Sat|(6,[2],[1.0])|\n",
      "|Thu|(6,[3],[1.0])|\n",
      "|Sun|(6,[4],[1.0])|\n",
      "|Tue|(6,[5],[1.0])|\n",
      "+---+-------------+\n",
      "\n"
     ]
    }
   ],
   "source": [
    "sdf_ohe_pred.select('day','day_ohe').distinct().sort('day_ohe').show()"
   ]
  },
  {
   "cell_type": "code",
   "execution_count": 14,
   "id": "1f9df2aa",
   "metadata": {
    "ExecuteTime": {
     "end_time": "2022-08-21T21:08:22.989688Z",
     "start_time": "2022-08-21T21:08:19.734973Z"
    },
    "scrolled": false
   },
   "outputs": [
    {
     "name": "stdout",
     "output_type": "stream",
     "text": [
      "+-------+-------------+\n",
      "|  shift|    shift_ohe|\n",
      "+-------+-------------+\n",
      "|  Night|    (1,[],[])|\n",
      "|Morning|(1,[0],[1.0])|\n",
      "+-------+-------------+\n",
      "\n"
     ]
    }
   ],
   "source": [
    "sdf_ohe.select('shift','shift_ohe').distinct().sort('shift_ohe').show()"
   ]
  },
  {
   "cell_type": "code",
   "execution_count": 15,
   "id": "67707fc4",
   "metadata": {
    "ExecuteTime": {
     "end_time": "2022-08-21T21:08:24.305030Z",
     "start_time": "2022-08-21T21:08:22.996613Z"
    }
   },
   "outputs": [
    {
     "name": "stdout",
     "output_type": "stream",
     "text": [
      "+-------+-------------+\n",
      "|  shift|    shift_ohe|\n",
      "+-------+-------------+\n",
      "|  Night|    (1,[],[])|\n",
      "|Morning|(1,[0],[1.0])|\n",
      "+-------+-------------+\n",
      "\n"
     ]
    }
   ],
   "source": [
    "sdf_ohe_pred.select('shift','shift_ohe').distinct().sort('shift_ohe').show()"
   ]
  },
  {
   "cell_type": "code",
   "execution_count": 16,
   "id": "b51dd85c",
   "metadata": {
    "ExecuteTime": {
     "end_time": "2022-08-21T21:08:26.179794Z",
     "start_time": "2022-08-21T21:08:24.309527Z"
    }
   },
   "outputs": [],
   "source": [
    "# We want to normalize temp so it can be compared to dummy variables for data consistency in scale\n",
    "mean_temp, sd_temp = sdf_ohef.select(F.mean(\"temp\"), F.stddev(\"temp\")).first()\n",
    "sdf_ohef = sdf_ohef.withColumn(\"temp_norm\", (F.col(\"temp\") - mean_temp) / sd_temp)\n",
    "sdf_ohef_pred = sdf_ohef_pred.withColumn(\"temp_norm\", (F.col(\"temp\") - mean_temp) / sd_temp)"
   ]
  },
  {
   "cell_type": "code",
   "execution_count": 17,
   "id": "6909deb6",
   "metadata": {
    "ExecuteTime": {
     "end_time": "2022-08-21T21:08:27.750824Z",
     "start_time": "2022-08-21T21:08:26.184268Z"
    }
   },
   "outputs": [
    {
     "data": {
      "text/plain": [
       "1718"
      ]
     },
     "execution_count": 17,
     "metadata": {},
     "output_type": "execute_result"
    }
   ],
   "source": [
    "# How much data we are working with for model\n",
    "sdf_ohef.count()"
   ]
  },
  {
   "cell_type": "code",
   "execution_count": 19,
   "id": "c5d05720",
   "metadata": {
    "ExecuteTime": {
     "end_time": "2022-08-21T21:10:41.530805Z",
     "start_time": "2022-08-21T21:10:39.499989Z"
    }
   },
   "outputs": [
    {
     "data": {
      "text/plain": [
       "([Row(features=SparseVector(12, {0: 1.0, 8: 1.0, 11: -1.5367})),\n",
       "  Row(features=SparseVector(12, {1: 1.0, 5: 1.0, 10: 1.0, 11: -1.2704})),\n",
       "  Row(features=SparseVector(12, {11: -0.6314})),\n",
       "  Row(features=SparseVector(12, {1: 1.0, 5: 1.0, 11: -0.5782})),\n",
       "  Row(features=SparseVector(12, {2: 1.0, 7: 1.0, 10: 1.0, 11: 0.0076}))],\n",
       " [Row(fare=17.49),\n",
       "  Row(fare=15.76),\n",
       "  Row(fare=72.85),\n",
       "  Row(fare=17.14),\n",
       "  Row(fare=14.9)])"
      ]
     },
     "execution_count": 19,
     "metadata": {},
     "output_type": "execute_result"
    }
   ],
   "source": [
    "# Create assember object for predictors\n",
    "features = 'features'\n",
    "input_cols = ['Borough_ohe', 'day_ohe','shift_ohe', 'temp_norm']\n",
    "\n",
    "assembler = VectorAssembler(\n",
    "                                inputCols=input_cols,\n",
    "                                outputCol= features\n",
    "                            )\n",
    "sdf_model = assembler.transform(sdf_ohef)\n",
    "sdf_model_pred = assembler.transform(sdf_ohef_pred)\n",
    "sdf_model.select('features').head(5), sdf_model.select('fare').head(5)"
   ]
  },
  {
   "cell_type": "code",
   "execution_count": 20,
   "id": "4a9aef60",
   "metadata": {
    "ExecuteTime": {
     "end_time": "2022-08-21T21:10:44.298855Z",
     "start_time": "2022-08-21T21:10:41.535273Z"
    }
   },
   "outputs": [],
   "source": [
    "# Fit linear model\n",
    "lm = LinearRegression(featuresCol='features', labelCol='fare').fit(sdf_model)"
   ]
  },
  {
   "cell_type": "code",
   "execution_count": 21,
   "id": "e4dd2be1",
   "metadata": {
    "ExecuteTime": {
     "end_time": "2022-08-21T21:10:44.369581Z",
     "start_time": "2022-08-21T21:10:44.302139Z"
    }
   },
   "outputs": [
    {
     "data": {
      "text/html": [
       "<div>\n",
       "<style scoped>\n",
       "    .dataframe tbody tr th:only-of-type {\n",
       "        vertical-align: middle;\n",
       "    }\n",
       "\n",
       "    .dataframe tbody tr th {\n",
       "        vertical-align: top;\n",
       "    }\n",
       "\n",
       "    .dataframe thead th {\n",
       "        text-align: right;\n",
       "    }\n",
       "</style>\n",
       "<table border=\"1\" class=\"dataframe\">\n",
       "  <thead>\n",
       "    <tr style=\"text-align: right;\">\n",
       "      <th></th>\n",
       "      <th>coefficient</th>\n",
       "    </tr>\n",
       "  </thead>\n",
       "  <tbody>\n",
       "    <tr>\n",
       "      <th>intercept</th>\n",
       "      <td>67.507894</td>\n",
       "    </tr>\n",
       "    <tr>\n",
       "      <th>Bronx</th>\n",
       "      <td>-44.407587</td>\n",
       "    </tr>\n",
       "    <tr>\n",
       "      <th>Brooklyn</th>\n",
       "      <td>-50.388662</td>\n",
       "    </tr>\n",
       "    <tr>\n",
       "      <th>Manhattan</th>\n",
       "      <td>-56.249388</td>\n",
       "    </tr>\n",
       "    <tr>\n",
       "      <th>Queens</th>\n",
       "      <td>-51.536780</td>\n",
       "    </tr>\n",
       "    <tr>\n",
       "      <th>Fri</th>\n",
       "      <td>-0.001549</td>\n",
       "    </tr>\n",
       "    <tr>\n",
       "      <th>Mon</th>\n",
       "      <td>1.037794</td>\n",
       "    </tr>\n",
       "    <tr>\n",
       "      <th>Sat</th>\n",
       "      <td>-0.499644</td>\n",
       "    </tr>\n",
       "    <tr>\n",
       "      <th>Thu</th>\n",
       "      <td>-0.108038</td>\n",
       "    </tr>\n",
       "    <tr>\n",
       "      <th>Sun</th>\n",
       "      <td>0.588683</td>\n",
       "    </tr>\n",
       "    <tr>\n",
       "      <th>Tue</th>\n",
       "      <td>1.701185</td>\n",
       "    </tr>\n",
       "    <tr>\n",
       "      <th>Morning</th>\n",
       "      <td>5.122892</td>\n",
       "    </tr>\n",
       "    <tr>\n",
       "      <th>temp</th>\n",
       "      <td>1.807346</td>\n",
       "    </tr>\n",
       "  </tbody>\n",
       "</table>\n",
       "</div>"
      ],
      "text/plain": [
       "           coefficient\n",
       "intercept    67.507894\n",
       "Bronx       -44.407587\n",
       "Brooklyn    -50.388662\n",
       "Manhattan   -56.249388\n",
       "Queens      -51.536780\n",
       "Fri          -0.001549\n",
       "Mon           1.037794\n",
       "Sat          -0.499644\n",
       "Thu          -0.108038\n",
       "Sun           0.588683\n",
       "Tue           1.701185\n",
       "Morning       5.122892\n",
       "temp          1.807346"
      ]
     },
     "execution_count": 21,
     "metadata": {},
     "output_type": "execute_result"
    }
   ],
   "source": [
    "# Access coefficients\n",
    "\n",
    "# 'EWR', 'Sun', 'Night' are not included as they are the reference group\n",
    "coef_cols = ['Bronx', 'Brooklyn','Manhattan', 'Queens', \n",
    "             'Fri', 'Mon', 'Sat', 'Thu', 'Sun', 'Tue', \n",
    "             'Morning', \n",
    "             'temp']\n",
    "\n",
    "pd.DataFrame(\n",
    "    data=[lm.intercept] + list(lm.coefficients),\n",
    "    index=['intercept'] + coef_cols,\n",
    "    columns=['coefficient']\n",
    ")"
   ]
  },
  {
   "cell_type": "code",
   "execution_count": 22,
   "id": "2e44b0ae",
   "metadata": {
    "ExecuteTime": {
     "end_time": "2022-08-21T21:10:44.390708Z",
     "start_time": "2022-08-21T21:10:44.371767Z"
    }
   },
   "outputs": [],
   "source": [
    "# Test on test data and check error analysis MAE and R^2\n",
    "fare_pred = lm.transform(sdf_model_pred)"
   ]
  },
  {
   "cell_type": "code",
   "execution_count": 23,
   "id": "d75c7ac7",
   "metadata": {
    "ExecuteTime": {
     "end_time": "2022-08-21T21:10:44.402118Z",
     "start_time": "2022-08-21T21:10:44.393000Z"
    }
   },
   "outputs": [
    {
     "data": {
      "text/plain": [
       "0.8618600203813602"
      ]
     },
     "execution_count": 23,
     "metadata": {},
     "output_type": "execute_result"
    }
   ],
   "source": [
    "# Get r-squared\n",
    "lm.summary.r2adj"
   ]
  },
  {
   "cell_type": "code",
   "execution_count": 24,
   "id": "7d222d25",
   "metadata": {
    "ExecuteTime": {
     "end_time": "2022-08-21T21:10:44.410300Z",
     "start_time": "2022-08-21T21:10:44.404353Z"
    }
   },
   "outputs": [
    {
     "data": {
      "text/plain": [
       "4.31155213569164"
      ]
     },
     "execution_count": 24,
     "metadata": {},
     "output_type": "execute_result"
    }
   ],
   "source": [
    "# Get the mean absolute error\n",
    "lm.summary.meanAbsoluteError"
   ]
  }
 ],
 "metadata": {
  "kernelspec": {
   "display_name": "Python 3",
   "language": "python",
   "name": "python3"
  },
  "language_info": {
   "codemirror_mode": {
    "name": "ipython",
    "version": 3
   },
   "file_extension": ".py",
   "mimetype": "text/x-python",
   "name": "python",
   "nbconvert_exporter": "python",
   "pygments_lexer": "ipython3",
   "version": "3.8.8"
  },
  "toc": {
   "base_numbering": 1,
   "nav_menu": {},
   "number_sections": true,
   "sideBar": true,
   "skip_h1_title": false,
   "title_cell": "Table of Contents",
   "title_sidebar": "Contents",
   "toc_cell": false,
   "toc_position": {},
   "toc_section_display": true,
   "toc_window_display": false
  }
 },
 "nbformat": 4,
 "nbformat_minor": 5
}
