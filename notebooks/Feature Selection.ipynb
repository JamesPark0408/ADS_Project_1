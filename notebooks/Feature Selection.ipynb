{
 "cells": [
  {
   "cell_type": "code",
   "execution_count": 1,
   "id": "31d443ad",
   "metadata": {
    "ExecuteTime": {
     "end_time": "2022-08-21T21:05:48.485339Z",
     "start_time": "2022-08-21T21:05:47.644551Z"
    }
   },
   "outputs": [],
   "source": [
    "from pyspark.sql import SparkSession\n",
    "from pyspark.sql import functions as F\n",
    "import matplotlib.pyplot as plt"
   ]
  },
  {
   "cell_type": "code",
   "execution_count": 2,
   "id": "ac6b3227",
   "metadata": {
    "ExecuteTime": {
     "end_time": "2022-08-21T21:06:07.328554Z",
     "start_time": "2022-08-21T21:05:48.487305Z"
    }
   },
   "outputs": [],
   "source": [
    "# Create a spark session (which will run spark jobs)\n",
    "spark = (\n",
    "    SparkSession.builder.appName(\"MAST30034 Project 1\")\n",
    "    .config(\"spark.sql.repl.eagerEval.enabled\", True) \n",
    "    .config(\"spark.sql.parquet.cacheMetadata\", \"true\")\n",
    "    .config(\"spark.sql.session.timeZone\", \"Etc/UTC\")\n",
    "    .config(\"spark.driver.memory\", \"2g\")\n",
    "    .config(\"spark.executor.memory\", \"4g\")\n",
    "    .getOrCreate()\n",
    ")"
   ]
  },
  {
   "cell_type": "code",
   "execution_count": 3,
   "id": "f7cc9e0e",
   "metadata": {
    "ExecuteTime": {
     "end_time": "2022-08-21T21:06:11.899730Z",
     "start_time": "2022-08-21T21:06:07.330719Z"
    }
   },
   "outputs": [
    {
     "data": {
      "text/html": [
       "<table border='1'>\n",
       "<tr><th>Date</th><th>lpep_pickup_datetime</th><th>lpep_dropoff_datetime</th><th>store_and_fwd_flag</th><th>RatecodeID</th><th>PULocationID</th><th>DOLocationID</th><th>passenger_count</th><th>fare</th><th>trip_type</th><th>shift</th><th>Day</th><th>temp</th></tr>\n",
       "<tr><td>2021-08-01</td><td>2021-08-01 00:36:25</td><td>2021-08-01 00:43:35</td><td>N</td><td>1.0</td><td>41</td><td>74</td><td>1.0</td><td>7.8</td><td>1.0</td><td>Night</td><td>Sun</td><td>71</td></tr>\n",
       "<tr><td>2021-08-01</td><td>2021-08-01 00:47:18</td><td>2021-08-01 00:50:48</td><td>N</td><td>1.0</td><td>41</td><td>74</td><td>1.0</td><td>6.3</td><td>1.0</td><td>Night</td><td>Sun</td><td>71</td></tr>\n",
       "<tr><td>2021-08-01</td><td>2021-08-01 00:08:34</td><td>2021-08-01 00:12:09</td><td>N</td><td>1.0</td><td>95</td><td>95</td><td>2.0</td><td>6.3</td><td>1.0</td><td>Night</td><td>Sun</td><td>71</td></tr>\n",
       "<tr><td>2021-08-01</td><td>2021-08-01 00:05:32</td><td>2021-08-01 00:20:07</td><td>N</td><td>1.0</td><td>7</td><td>173</td><td>1.0</td><td>15.3</td><td>1.0</td><td>Night</td><td>Sun</td><td>71</td></tr>\n",
       "<tr><td>2021-08-01</td><td>2021-08-01 00:38:24</td><td>2021-08-01 00:46:52</td><td>N</td><td>1.0</td><td>129</td><td>82</td><td>1.0</td><td>8.8</td><td>1.0</td><td>Night</td><td>Sun</td><td>71</td></tr>\n",
       "</table>\n"
      ],
      "text/plain": [
       "+----------+--------------------+---------------------+------------------+----------+------------+------------+---------------+----+---------+-----+---+----+\n",
       "|      Date|lpep_pickup_datetime|lpep_dropoff_datetime|store_and_fwd_flag|RatecodeID|PULocationID|DOLocationID|passenger_count|fare|trip_type|shift|Day|temp|\n",
       "+----------+--------------------+---------------------+------------------+----------+------------+------------+---------------+----+---------+-----+---+----+\n",
       "|2021-08-01| 2021-08-01 00:36:25|  2021-08-01 00:43:35|                 N|       1.0|          41|          74|            1.0| 7.8|      1.0|Night|Sun|  71|\n",
       "|2021-08-01| 2021-08-01 00:47:18|  2021-08-01 00:50:48|                 N|       1.0|          41|          74|            1.0| 6.3|      1.0|Night|Sun|  71|\n",
       "|2021-08-01| 2021-08-01 00:08:34|  2021-08-01 00:12:09|                 N|       1.0|          95|          95|            2.0| 6.3|      1.0|Night|Sun|  71|\n",
       "|2021-08-01| 2021-08-01 00:05:32|  2021-08-01 00:20:07|                 N|       1.0|           7|         173|            1.0|15.3|      1.0|Night|Sun|  71|\n",
       "|2021-08-01| 2021-08-01 00:38:24|  2021-08-01 00:46:52|                 N|       1.0|         129|          82|            1.0| 8.8|      1.0|Night|Sun|  71|\n",
       "+----------+--------------------+---------------------+------------------+----------+------------+------------+---------------+----+---------+-----+---+----+"
      ]
     },
     "execution_count": 3,
     "metadata": {},
     "output_type": "execute_result"
    }
   ],
   "source": [
    "# Read parquet file for feature selection\n",
    "sdf_data = spark.read.parquet('../data/curated/result/')\n",
    "sdf_data.limit(5)"
   ]
  },
  {
   "cell_type": "code",
   "execution_count": 4,
   "id": "e1378ef1",
   "metadata": {
    "ExecuteTime": {
     "end_time": "2022-08-21T21:06:11.954633Z",
     "start_time": "2022-08-21T21:06:11.901808Z"
    }
   },
   "outputs": [],
   "source": [
    "# Get only relevant columns\n",
    "rel_col = ('PULocationID', 'day', 'shift', 'fare', 'temp', 'Date')\n",
    "sdf_data_trunc = sdf_data.select(*rel_col)\n"
   ]
  },
  {
   "cell_type": "code",
   "execution_count": 5,
   "id": "16019dbf",
   "metadata": {
    "ExecuteTime": {
     "end_time": "2022-08-21T21:06:17.353347Z",
     "start_time": "2022-08-21T21:06:11.957173Z"
    },
    "scrolled": true
   },
   "outputs": [
    {
     "data": {
      "image/png": "[encoded data removed]",
      "text/plain": [
       "<Figure size 432x288 with 1 Axes>"
      ]
     },
     "metadata": {
      "needs_background": "light"
     },
     "output_type": "display_data"
    }
   ],
   "source": [
    "# Check for outliers for temperature\n",
    "df = sdf_data_trunc.toPandas()\n",
    "plt.boxplot(df['temp'])\n",
    "plt.xlabel('Temperature (Farenheit)')\n",
    "plt.show()"
   ]
  },
  {
   "cell_type": "code",
   "execution_count": 6,
   "id": "a29f0aee",
   "metadata": {
    "ExecuteTime": {
     "end_time": "2022-08-21T21:06:17.472707Z",
     "start_time": "2022-08-21T21:06:17.354715Z"
    }
   },
   "outputs": [],
   "source": [
    "# We want to save the last two month of data for prediction from models\n",
    "predict_sdf = sdf_data_trunc.filter(F.col('Date') > '2022-02-28')\n",
    "sdf_result = sdf_data_trunc.filter(F.col('Date') <= '2022-02-28')"
   ]
  },
  {
   "cell_type": "code",
   "execution_count": 7,
   "id": "f1f164cc",
   "metadata": {
    "ExecuteTime": {
     "end_time": "2022-08-21T21:06:19.065266Z",
     "start_time": "2022-08-21T21:06:17.474536Z"
    }
   },
   "outputs": [],
   "source": [
    "# Save in data folder for analysis\n",
    "predict_sdf.write.mode('overwrite').parquet('../data/curated/result_predict')\n",
    "sdf_result.write.mode('overwrite').parquet('../data/curated/result_data')"
   ]
  }
 ],
 "metadata": {
  "kernelspec": {
   "display_name": "Python 3",
   "language": "python",
   "name": "python3"
  },
  "language_info": {
   "codemirror_mode": {
    "name": "ipython",
    "version": 3
   },
   "file_extension": ".py",
   "mimetype": "text/x-python",
   "name": "python",
   "nbconvert_exporter": "python",
   "pygments_lexer": "ipython3",
   "version": "3.8.8"
  },
  "toc": {
   "base_numbering": 1,
   "nav_menu": {},
   "number_sections": true,
   "sideBar": true,
   "skip_h1_title": false,
   "title_cell": "Table of Contents",
   "title_sidebar": "Contents",
   "toc_cell": false,
   "toc_position": {},
   "toc_section_display": true,
   "toc_window_display": false
  }
 },
 "nbformat": 4,
 "nbformat_minor": 5
}
