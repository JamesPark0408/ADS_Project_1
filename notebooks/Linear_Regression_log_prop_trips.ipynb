{
 "cells": [
  {
   "cell_type": "code",
   "execution_count": 1,
   "id": "36282966",
   "metadata": {
    "ExecuteTime": {
     "end_time": "2022-08-21T21:07:49.223414Z",
     "start_time": "2022-08-21T21:07:48.181832Z"
    }
   },
   "outputs": [],
   "source": [
    "from pyspark.sql import SparkSession\n",
    "from pyspark.sql import functions as F\n",
    "from pyspark.ml.feature import StringIndexer\n",
    "from pyspark.ml.feature import VectorAssembler\n",
    "from pyspark.ml.feature import OneHotEncoder\n",
    "from pyspark.ml.feature import StandardScaler\n",
    "from pyspark.ml.regression import LinearRegression\n",
    "from pyspark.ml.evaluation import RegressionEvaluator\n",
    "import pandas as pd"
   ]
  },
  {
   "cell_type": "code",
   "execution_count": 2,
   "id": "13ba5425",
   "metadata": {
    "ExecuteTime": {
     "end_time": "2022-08-21T21:08:12.942301Z",
     "start_time": "2022-08-21T21:07:49.226536Z"
    }
   },
   "outputs": [],
   "source": [
    "# Create a spark session (which will run spark jobs)\n",
    "spark = (\n",
    "    SparkSession.builder.appName(\"MAST30034 Project 1\")\n",
    "    .config(\"spark.sql.repl.eagerEval.enabled\", True) \n",
    "    .config(\"spark.sql.parquet.cacheMetadata\", \"true\")\n",
    "    .config(\"spark.sql.session.timeZone\", \"Etc/UTC\")\n",
    "    .config(\"spark.driver.memory\", \"2g\")\n",
    "    .config(\"spark.executor.memory\", \"4g\")\n",
    "    .getOrCreate()\n",
    ")"
   ]
  },
  {
   "cell_type": "code",
   "execution_count": 3,
   "id": "a1f8e9e1",
   "metadata": {
    "ExecuteTime": {
     "end_time": "2022-08-21T21:08:30.924312Z",
     "start_time": "2022-08-21T21:08:12.948150Z"
    }
   },
   "outputs": [
    {
     "data": {
      "text/html": [
       "<table border='1'>\n",
       "<tr><th>PULocationID</th><th>day</th><th>shift</th><th>fare</th><th>temp</th><th>Date</th></tr>\n",
       "<tr><td>43</td><td>Tue</td><td>Night</td><td>6.8</td><td>25</td><td>2022-02-01</td></tr>\n",
       "<tr><td>166</td><td>Tue</td><td>Night</td><td>5.8</td><td>25</td><td>2022-02-01</td></tr>\n",
       "<tr><td>89</td><td>Tue</td><td>Night</td><td>50.3</td><td>25</td><td>2022-02-01</td></tr>\n",
       "<tr><td>7</td><td>Tue</td><td>Night</td><td>25.05</td><td>25</td><td>2022-02-01</td></tr>\n",
       "<tr><td>166</td><td>Tue</td><td>Night</td><td>9.8</td><td>25</td><td>2022-02-01</td></tr>\n",
       "</table>\n"
      ],
      "text/plain": [
       "+------------+---+-----+-----+----+----------+\n",
       "|PULocationID|day|shift| fare|temp|      Date|\n",
       "+------------+---+-----+-----+----+----------+\n",
       "|          43|Tue|Night|  6.8|  25|2022-02-01|\n",
       "|         166|Tue|Night|  5.8|  25|2022-02-01|\n",
       "|          89|Tue|Night| 50.3|  25|2022-02-01|\n",
       "|           7|Tue|Night|25.05|  25|2022-02-01|\n",
       "|         166|Tue|Night|  9.8|  25|2022-02-01|\n",
       "+------------+---+-----+-----+----+----------+"
      ]
     },
     "execution_count": 3,
     "metadata": {},
     "output_type": "execute_result"
    }
   ],
   "source": [
    "sdf_data = spark.read.parquet('../data/curated/result_data/')\n",
    "sdf_predict = spark.read.parquet('../data/curated/result_predict/')\n",
    "sdf_data.limit(5)"
   ]
  },
  {
   "cell_type": "code",
   "execution_count": 4,
   "id": "5810af90",
   "metadata": {
    "ExecuteTime": {
     "end_time": "2022-08-21T21:08:32.414091Z",
     "start_time": "2022-08-21T21:08:30.930553Z"
    }
   },
   "outputs": [
    {
     "data": {
      "text/html": [
       "<table border='1'>\n",
       "<tr><th>PULocationID</th><th>Borough</th></tr>\n",
       "<tr><td>1</td><td>EWR</td></tr>\n",
       "<tr><td>2</td><td>Queens</td></tr>\n",
       "<tr><td>3</td><td>Bronx</td></tr>\n",
       "<tr><td>4</td><td>Manhattan</td></tr>\n",
       "<tr><td>5</td><td>Staten Island</td></tr>\n",
       "</table>\n"
      ],
      "text/plain": [
       "+------------+-------------+\n",
       "|PULocationID|      Borough|\n",
       "+------------+-------------+\n",
       "|           1|          EWR|\n",
       "|           2|       Queens|\n",
       "|           3|        Bronx|\n",
       "|           4|    Manhattan|\n",
       "|           5|Staten Island|\n",
       "+------------+-------------+"
      ]
     },
     "execution_count": 4,
     "metadata": {},
     "output_type": "execute_result"
    }
   ],
   "source": [
    "# Get Borough data to link to location IDs\n",
    "sdf_zone = spark.read.option(\"header\",True).csv(\"../data/raw/taxi+_zone_lookup.csv\")\n",
    "sdf_zone = sdf_zone.withColumnRenamed('LocationID', 'PULocationID')\n",
    "sdf_zone = sdf_zone.select('PULocationID', 'Borough')\n",
    "sdf_zone.limit(5)"
   ]
  },
  {
   "cell_type": "code",
   "execution_count": 5,
   "id": "a5415e6d",
   "metadata": {
    "ExecuteTime": {
     "end_time": "2022-08-21T21:08:33.843578Z",
     "start_time": "2022-08-21T21:08:32.450206Z"
    },
    "scrolled": true
   },
   "outputs": [
    {
     "data": {
      "text/html": [
       "<table border='1'>\n",
       "<tr><th>PULocationID</th><th>day</th><th>shift</th><th>fare</th><th>temp</th><th>Date</th><th>Borough</th></tr>\n",
       "<tr><td>43</td><td>Tue</td><td>Night</td><td>6.8</td><td>25</td><td>2022-02-01</td><td>Manhattan</td></tr>\n",
       "<tr><td>166</td><td>Tue</td><td>Night</td><td>5.8</td><td>25</td><td>2022-02-01</td><td>Manhattan</td></tr>\n",
       "<tr><td>89</td><td>Tue</td><td>Night</td><td>50.3</td><td>25</td><td>2022-02-01</td><td>Brooklyn</td></tr>\n",
       "<tr><td>7</td><td>Tue</td><td>Night</td><td>25.05</td><td>25</td><td>2022-02-01</td><td>Queens</td></tr>\n",
       "<tr><td>166</td><td>Tue</td><td>Night</td><td>9.8</td><td>25</td><td>2022-02-01</td><td>Manhattan</td></tr>\n",
       "</table>\n"
      ],
      "text/plain": [
       "+------------+---+-----+-----+----+----------+---------+\n",
       "|PULocationID|day|shift| fare|temp|      Date|  Borough|\n",
       "+------------+---+-----+-----+----+----------+---------+\n",
       "|          43|Tue|Night|  6.8|  25|2022-02-01|Manhattan|\n",
       "|         166|Tue|Night|  5.8|  25|2022-02-01|Manhattan|\n",
       "|          89|Tue|Night| 50.3|  25|2022-02-01| Brooklyn|\n",
       "|           7|Tue|Night|25.05|  25|2022-02-01|   Queens|\n",
       "|         166|Tue|Night|  9.8|  25|2022-02-01|Manhattan|\n",
       "+------------+---+-----+-----+----+----------+---------+"
      ]
     },
     "execution_count": 5,
     "metadata": {},
     "output_type": "execute_result"
    }
   ],
   "source": [
    "sdf_merge = sdf_data.join(sdf_zone, on='PULocationID', how='left')\n",
    "sdf_pred = sdf_predict.join(sdf_zone, on='PULocationID', how='left')\n",
    "sdf_merge.limit(5)"
   ]
  },
  {
   "cell_type": "code",
   "execution_count": 6,
   "id": "ccfc680d",
   "metadata": {
    "ExecuteTime": {
     "end_time": "2022-08-21T21:08:34.628397Z",
     "start_time": "2022-08-21T21:08:33.850797Z"
    },
    "scrolled": true
   },
   "outputs": [
    {
     "data": {
      "text/html": [
       "<table border='1'>\n",
       "<tr><th>Borough</th><th>day</th><th>shift</th></tr>\n",
       "<tr><td>Manhattan</td><td>Tue</td><td>Night</td></tr>\n",
       "<tr><td>Manhattan</td><td>Tue</td><td>Night</td></tr>\n",
       "<tr><td>Brooklyn</td><td>Tue</td><td>Night</td></tr>\n",
       "<tr><td>Queens</td><td>Tue</td><td>Night</td></tr>\n",
       "<tr><td>Manhattan</td><td>Tue</td><td>Night</td></tr>\n",
       "</table>\n"
      ],
      "text/plain": [
       "+---------+---+-----+\n",
       "|  Borough|day|shift|\n",
       "+---------+---+-----+\n",
       "|Manhattan|Tue|Night|\n",
       "|Manhattan|Tue|Night|\n",
       "| Brooklyn|Tue|Night|\n",
       "|   Queens|Tue|Night|\n",
       "|Manhattan|Tue|Night|\n",
       "+---------+---+-----+"
      ]
     },
     "execution_count": 6,
     "metadata": {},
     "output_type": "execute_result"
    }
   ],
   "source": [
    "sdf_merge = sdf_merge.select('Borough', 'day', 'shift')\n",
    "sdf_pred = sdf_pred.select('Borough', 'day', 'shift')\n",
    "sdf_merge.limit(5)"
   ]
  },
  {
   "cell_type": "code",
   "execution_count": 7,
   "id": "1a3a16eb",
   "metadata": {
    "ExecuteTime": {
     "end_time": "2022-08-21T21:08:41.492222Z",
     "start_time": "2022-08-21T21:08:34.638591Z"
    },
    "scrolled": false
   },
   "outputs": [
    {
     "data": {
      "text/html": [
       "<table border='1'>\n",
       "<tr><th>Borough</th><th>day</th><th>shift</th><th>total_trips</th><th>prop_trips</th></tr>\n",
       "<tr><td>Bronx</td><td>Sat</td><td>Night</td><td>1248</td><td>0.002632145071687...</td></tr>\n",
       "<tr><td>Bronx</td><td>Mon</td><td>Morning</td><td>1562</td><td>0.003294399520814...</td></tr>\n",
       "<tr><td>Manhattan</td><td>Tue</td><td>Night</td><td>9367</td><td>0.019755851671876122</td></tr>\n",
       "<tr><td>Bronx</td><td>Thu</td><td>Night</td><td>1004</td><td>0.002117526964723...</td></tr>\n",
       "<tr><td>Brooklyn</td><td>Sat</td><td>Night</td><td>5293</td><td>0.0111634165580485</td></tr>\n",
       "</table>\n"
      ],
      "text/plain": [
       "+---------+---+-------+-----------+--------------------+\n",
       "|  Borough|day|  shift|total_trips|          prop_trips|\n",
       "+---------+---+-------+-----------+--------------------+\n",
       "|    Bronx|Sat|  Night|       1248|0.002632145071687...|\n",
       "|    Bronx|Mon|Morning|       1562|0.003294399520814...|\n",
       "|Manhattan|Tue|  Night|       9367|0.019755851671876122|\n",
       "|    Bronx|Thu|  Night|       1004|0.002117526964723...|\n",
       "| Brooklyn|Sat|  Night|       5293|  0.0111634165580485|\n",
       "+---------+---+-------+-----------+--------------------+"
      ]
     },
     "execution_count": 7,
     "metadata": {},
     "output_type": "execute_result"
    }
   ],
   "source": [
    "# In order to fulfill full rank model for linear regression, \n",
    "#   we combine and get the total trips for duplicates\n",
    "sdf_agg = sdf_merge \\\n",
    "            .groupBy('Borough', 'day', 'shift') \\\n",
    "            .agg(\n",
    "                F.count('Borough').alias('total_trips')\n",
    "                )\n",
    "s = sdf_agg.select(F.sum(F.col('total_trips'))).collect()[0][0]\n",
    "\n",
    "# Get proportion of trips so we are able to accuractely compare with test data\n",
    "#   without the data size affecting the model fit\n",
    "sdf_agg = sdf_agg.withColumn('prop_trips', F.col('total_trips') / s)\n",
    "sdf_agg.limit(5)\n"
   ]
  },
  {
   "cell_type": "code",
   "execution_count": 8,
   "id": "4da68778",
   "metadata": {
    "ExecuteTime": {
     "end_time": "2022-08-21T21:08:42.479988Z",
     "start_time": "2022-08-21T21:08:41.501097Z"
    }
   },
   "outputs": [],
   "source": [
    "sdf_agg_pred = sdf_pred \\\n",
    "            .groupBy('Borough', 'day', 'shift') \\\n",
    "            .agg(\n",
    "                F.count('Borough').alias('total_trips')\n",
    "                )\n",
    "s = sdf_agg_pred.select(F.sum(F.col('total_trips'))).collect()[0][0]\n",
    "sdf_agg_pred = sdf_agg_pred.withColumn('prop_trips', F.col('total_trips') / s)"
   ]
  },
  {
   "cell_type": "code",
   "execution_count": 9,
   "id": "6546398b",
   "metadata": {
    "ExecuteTime": {
     "end_time": "2022-08-21T21:08:46.050799Z",
     "start_time": "2022-08-21T21:08:42.485333Z"
    },
    "scrolled": true
   },
   "outputs": [
    {
     "name": "stdout",
     "output_type": "stream",
     "text": [
      "+-------------+---+-------+-----------+--------------------+-----------+-------+---------+\n",
      "|      Borough|day|  shift|total_trips|          prop_trips|Borough_idx|day_idx|shift_idx|\n",
      "+-------------+---+-------+-----------+--------------------+-----------+-------+---------+\n",
      "|        Bronx|Sat|  Night|       1248|0.002632145071687...|        0.0|    2.0|      1.0|\n",
      "|        Bronx|Mon|Morning|       1562|0.003294399520814...|        0.0|    1.0|      0.0|\n",
      "|    Manhattan|Tue|  Night|       9367|0.019755851671876122|        2.0|    5.0|      1.0|\n",
      "|        Bronx|Thu|  Night|       1004|0.002117526964723...|        0.0|    4.0|      1.0|\n",
      "|     Brooklyn|Sat|  Night|       5293|  0.0111634165580485|        1.0|    2.0|      1.0|\n",
      "|       Queens|Sat|Morning|       9392| 0.01980857893693397|        3.0|    2.0|      0.0|\n",
      "|     Brooklyn|Fri|Morning|       5937|0.012521670905938777|        1.0|    0.0|      0.0|\n",
      "|       Queens|Mon|Morning|      10261| 0.02164137867034492|        3.0|    1.0|      0.0|\n",
      "|        Bronx|Tue|Morning|       1680|0.003543272211887678|        0.0|    5.0|      0.0|\n",
      "|     Brooklyn|Tue|  Night|       3135|0.006611999038254685|        1.0|    5.0|      1.0|\n",
      "|        Bronx|Sat|Morning|       1391|0.002933745027818905|        0.0|    2.0|      0.0|\n",
      "|        Bronx|Mon|  Night|        918|0.001936145172924...|        0.0|    1.0|      1.0|\n",
      "|       Queens|Wed|Morning|      10791|0.022759196689571392|        3.0|    6.0|      0.0|\n",
      "|        Bronx|Fri|  Night|       1238|0.002611054165664849|        0.0|    0.0|      1.0|\n",
      "|       Queens|Sun|  Night|       5655|0.011926907356086203|        3.0|    3.0|      1.0|\n",
      "|Staten Island|Tue|  Night|         20|4.218181204628188E-5|        4.0|    5.0|      1.0|\n",
      "|     Brooklyn|Thu|Morning|       6542|0.013797670720338804|        1.0|    4.0|      0.0|\n",
      "|    Manhattan|Wed|Morning|      32814| 0.06920769902433468|        2.0|    6.0|      0.0|\n",
      "|Staten Island|Sun|Morning|        148|3.121454091424859...|        4.0|    3.0|      0.0|\n",
      "|    Manhattan|Mon|Morning|      31227| 0.06586057223846221|        2.0|    1.0|      0.0|\n",
      "+-------------+---+-------+-----------+--------------------+-----------+-------+---------+\n",
      "only showing top 20 rows\n",
      "\n"
     ]
    }
   ],
   "source": [
    "# Change to indexes from strings in order to one hot encode\n",
    "string_indexer = StringIndexer(inputCols=['Borough','day','shift'], outputCols=['Borough_idx','day_idx','shift_idx']).fit(sdf_agg)\n",
    "sdf_agg = string_indexer.transform(sdf_agg)\n",
    "sdf_agg_pred = string_indexer.transform(sdf_agg_pred)\n",
    "sdf_agg.show()"
   ]
  },
  {
   "cell_type": "code",
   "execution_count": 10,
   "id": "0c0bb2d7",
   "metadata": {
    "ExecuteTime": {
     "end_time": "2022-08-21T21:08:49.783345Z",
     "start_time": "2022-08-21T21:08:46.054699Z"
    }
   },
   "outputs": [
    {
     "data": {
      "text/html": [
       "<table border='1'>\n",
       "<tr><th>Borough_ohe</th><th>day_ohe</th><th>shift_ohe</th><th>prop_trips</th></tr>\n",
       "<tr><td>(4,[0],[1.0])</td><td>(6,[2],[1.0])</td><td>(1,[],[])</td><td>0.002632145071687...</td></tr>\n",
       "<tr><td>(4,[0],[1.0])</td><td>(6,[1],[1.0])</td><td>(1,[0],[1.0])</td><td>0.003294399520814...</td></tr>\n",
       "<tr><td>(4,[2],[1.0])</td><td>(6,[5],[1.0])</td><td>(1,[],[])</td><td>0.019755851671876122</td></tr>\n",
       "<tr><td>(4,[0],[1.0])</td><td>(6,[4],[1.0])</td><td>(1,[],[])</td><td>0.002117526964723...</td></tr>\n",
       "<tr><td>(4,[1],[1.0])</td><td>(6,[2],[1.0])</td><td>(1,[],[])</td><td>0.0111634165580485</td></tr>\n",
       "</table>\n"
      ],
      "text/plain": [
       "+-------------+-------------+-------------+--------------------+\n",
       "|  Borough_ohe|      day_ohe|    shift_ohe|          prop_trips|\n",
       "+-------------+-------------+-------------+--------------------+\n",
       "|(4,[0],[1.0])|(6,[2],[1.0])|    (1,[],[])|0.002632145071687...|\n",
       "|(4,[0],[1.0])|(6,[1],[1.0])|(1,[0],[1.0])|0.003294399520814...|\n",
       "|(4,[2],[1.0])|(6,[5],[1.0])|    (1,[],[])|0.019755851671876122|\n",
       "|(4,[0],[1.0])|(6,[4],[1.0])|    (1,[],[])|0.002117526964723...|\n",
       "|(4,[1],[1.0])|(6,[2],[1.0])|    (1,[],[])|  0.0111634165580485|\n",
       "+-------------+-------------+-------------+--------------------+"
      ]
     },
     "execution_count": 10,
     "metadata": {},
     "output_type": "execute_result"
    }
   ],
   "source": [
    "# Now we can one hot encode\n",
    "OHE = (OneHotEncoder()\n",
    "       .setInputCols(['Borough_idx','day_idx','shift_idx'])\n",
    "       .setOutputCols(['Borough_ohe','day_ohe','shift_ohe']))\n",
    "model = OHE.fit(sdf_agg)\n",
    "sdf_ohe = model.transform(sdf_agg)\n",
    "sdf_ohe_pred = model.transform(sdf_agg_pred)\n",
    "sdf_ohef = sdf_ohe.select('Borough_ohe', 'day_ohe','shift_ohe', 'prop_trips')\n",
    "sdf_ohef_pred = sdf_ohe_pred.select('Borough_ohe', 'day_ohe','shift_ohe', 'prop_trips')\n",
    "\n",
    "\n",
    "sdf_ohef.limit(5)"
   ]
  },
  {
   "cell_type": "code",
   "execution_count": 11,
   "id": "42650b6e",
   "metadata": {
    "ExecuteTime": {
     "end_time": "2022-08-21T21:08:52.473658Z",
     "start_time": "2022-08-21T21:08:49.787113Z"
    },
    "scrolled": true
   },
   "outputs": [
    {
     "name": "stdout",
     "output_type": "stream",
     "text": [
      "+-------------+-------------+\n",
      "|      Borough|  Borough_ohe|\n",
      "+-------------+-------------+\n",
      "|Staten Island|    (4,[],[])|\n",
      "|        Bronx|(4,[0],[1.0])|\n",
      "|     Brooklyn|(4,[1],[1.0])|\n",
      "|    Manhattan|(4,[2],[1.0])|\n",
      "|       Queens|(4,[3],[1.0])|\n",
      "+-------------+-------------+\n",
      "\n"
     ]
    }
   ],
   "source": [
    "# Check to see that the test and train data are in sync\n",
    "sdf_ohe.select('Borough','Borough_ohe').distinct().sort('Borough_ohe').show()"
   ]
  },
  {
   "cell_type": "code",
   "execution_count": 12,
   "id": "66a44666",
   "metadata": {
    "ExecuteTime": {
     "end_time": "2022-08-21T21:08:55.093438Z",
     "start_time": "2022-08-21T21:08:52.482987Z"
    }
   },
   "outputs": [
    {
     "name": "stdout",
     "output_type": "stream",
     "text": [
      "+-------------+-------------+\n",
      "|      Borough|  Borough_ohe|\n",
      "+-------------+-------------+\n",
      "|Staten Island|    (4,[],[])|\n",
      "|        Bronx|(4,[0],[1.0])|\n",
      "|     Brooklyn|(4,[1],[1.0])|\n",
      "|    Manhattan|(4,[2],[1.0])|\n",
      "|       Queens|(4,[3],[1.0])|\n",
      "+-------------+-------------+\n",
      "\n"
     ]
    }
   ],
   "source": [
    "sdf_ohe_pred.select('Borough','Borough_ohe').distinct().sort('Borough_ohe').show()"
   ]
  },
  {
   "cell_type": "code",
   "execution_count": 13,
   "id": "bf1541ae",
   "metadata": {
    "ExecuteTime": {
     "end_time": "2022-08-21T21:08:57.119775Z",
     "start_time": "2022-08-21T21:08:55.098499Z"
    },
    "scrolled": false
   },
   "outputs": [
    {
     "name": "stdout",
     "output_type": "stream",
     "text": [
      "+---+-------------+\n",
      "|day|      day_ohe|\n",
      "+---+-------------+\n",
      "|Wed|    (6,[],[])|\n",
      "|Fri|(6,[0],[1.0])|\n",
      "|Mon|(6,[1],[1.0])|\n",
      "|Sat|(6,[2],[1.0])|\n",
      "|Sun|(6,[3],[1.0])|\n",
      "|Thu|(6,[4],[1.0])|\n",
      "|Tue|(6,[5],[1.0])|\n",
      "+---+-------------+\n",
      "\n"
     ]
    }
   ],
   "source": [
    "sdf_ohe.select('day','day_ohe').distinct().sort('day_ohe').show()"
   ]
  },
  {
   "cell_type": "code",
   "execution_count": 14,
   "id": "99f54d94",
   "metadata": {
    "ExecuteTime": {
     "end_time": "2022-08-21T21:08:58.882128Z",
     "start_time": "2022-08-21T21:08:57.123202Z"
    }
   },
   "outputs": [
    {
     "name": "stdout",
     "output_type": "stream",
     "text": [
      "+---+-------------+\n",
      "|day|      day_ohe|\n",
      "+---+-------------+\n",
      "|Wed|    (6,[],[])|\n",
      "|Fri|(6,[0],[1.0])|\n",
      "|Mon|(6,[1],[1.0])|\n",
      "|Sat|(6,[2],[1.0])|\n",
      "|Sun|(6,[3],[1.0])|\n",
      "|Thu|(6,[4],[1.0])|\n",
      "|Tue|(6,[5],[1.0])|\n",
      "+---+-------------+\n",
      "\n"
     ]
    }
   ],
   "source": [
    "sdf_ohe_pred.select('day','day_ohe').distinct().sort('day_ohe').show()"
   ]
  },
  {
   "cell_type": "code",
   "execution_count": 15,
   "id": "1f9df2aa",
   "metadata": {
    "ExecuteTime": {
     "end_time": "2022-08-21T21:09:00.993240Z",
     "start_time": "2022-08-21T21:08:58.890572Z"
    },
    "scrolled": false
   },
   "outputs": [
    {
     "name": "stdout",
     "output_type": "stream",
     "text": [
      "+-------+-------------+\n",
      "|  shift|    shift_ohe|\n",
      "+-------+-------------+\n",
      "|  Night|    (1,[],[])|\n",
      "|Morning|(1,[0],[1.0])|\n",
      "+-------+-------------+\n",
      "\n"
     ]
    }
   ],
   "source": [
    "sdf_ohe.select('shift','shift_ohe').distinct().sort('shift_ohe').show()"
   ]
  },
  {
   "cell_type": "code",
   "execution_count": 16,
   "id": "86fb5cdc",
   "metadata": {
    "ExecuteTime": {
     "end_time": "2022-08-21T21:09:02.791695Z",
     "start_time": "2022-08-21T21:09:00.998329Z"
    }
   },
   "outputs": [
    {
     "name": "stdout",
     "output_type": "stream",
     "text": [
      "+-------+-------------+\n",
      "|  shift|    shift_ohe|\n",
      "+-------+-------------+\n",
      "|  Night|    (1,[],[])|\n",
      "|Morning|(1,[0],[1.0])|\n",
      "+-------+-------------+\n",
      "\n"
     ]
    }
   ],
   "source": [
    "sdf_ohe_pred.select('shift','shift_ohe').distinct().sort('shift_ohe').show()"
   ]
  },
  {
   "cell_type": "code",
   "execution_count": 17,
   "id": "5dab62d5",
   "metadata": {
    "ExecuteTime": {
     "end_time": "2022-08-21T21:09:02.833016Z",
     "start_time": "2022-08-21T21:09:02.799574Z"
    }
   },
   "outputs": [],
   "source": [
    "# Log proportion of trips so as to not get negative values in model predictions\n",
    "sdf_ohef = sdf_ohef.withColumn('log_trips',F.log(F.col('prop_trips')))\n",
    "sdf_ohef_pred = sdf_ohef_pred.withColumn('log_trips',F.log(F.col('prop_trips')))"
   ]
  },
  {
   "cell_type": "code",
   "execution_count": 18,
   "id": "f9efae9e",
   "metadata": {
    "ExecuteTime": {
     "end_time": "2022-08-21T21:09:03.647308Z",
     "start_time": "2022-08-21T21:09:02.835429Z"
    }
   },
   "outputs": [
    {
     "data": {
      "text/plain": [
       "70"
      ]
     },
     "execution_count": 18,
     "metadata": {},
     "output_type": "execute_result"
    }
   ],
   "source": [
    "# How much data we are working with now \n",
    "# (Should expect 70= 5 boroughs * 7 days * 2 shifts)\n",
    "sdf_ohef.count()"
   ]
  },
  {
   "cell_type": "code",
   "execution_count": 20,
   "id": "c5d05720",
   "metadata": {
    "ExecuteTime": {
     "end_time": "2022-08-21T21:10:22.041093Z",
     "start_time": "2022-08-21T21:10:20.783983Z"
    }
   },
   "outputs": [
    {
     "data": {
      "text/plain": [
       "([Row(features=SparseVector(11, {0: 1.0, 6: 1.0})),\n",
       "  Row(features=SparseVector(11, {0: 1.0, 5: 1.0, 10: 1.0})),\n",
       "  Row(features=SparseVector(11, {2: 1.0, 9: 1.0})),\n",
       "  Row(features=SparseVector(11, {0: 1.0, 8: 1.0})),\n",
       "  Row(features=SparseVector(11, {1: 1.0, 6: 1.0}))],\n",
       " [Row(log_trips=-5.9399561486155426),\n",
       "  Row(log_trips=-5.715531367145284),\n",
       "  Row(log_trips=-3.924305544335785),\n",
       "  Row(log_trips=-6.157506397293241),\n",
       "  Row(log_trips=-4.495113225686928)])"
      ]
     },
     "execution_count": 20,
     "metadata": {},
     "output_type": "execute_result"
    }
   ],
   "source": [
    "# Create assember object for predictors\n",
    "features = 'features'\n",
    "input_cols = ['Borough_ohe', 'day_ohe','shift_ohe']\n",
    "\n",
    "assembler = VectorAssembler(\n",
    "                                inputCols=input_cols,\n",
    "                                outputCol= features\n",
    "                            )\n",
    "sdf_model = assembler.transform(sdf_ohef)\n",
    "sdf_model_pred = assembler.transform(sdf_ohef_pred)\n",
    "sdf_model.select('features').head(5), sdf_model.select('log_trips').head(5)"
   ]
  },
  {
   "cell_type": "code",
   "execution_count": 21,
   "id": "4a9aef60",
   "metadata": {
    "ExecuteTime": {
     "end_time": "2022-08-21T21:10:26.705373Z",
     "start_time": "2022-08-21T21:10:23.956349Z"
    }
   },
   "outputs": [],
   "source": [
    "# Fit linear model\n",
    "lm = LinearRegression(featuresCol='features', labelCol='log_trips').fit(sdf_model)"
   ]
  },
  {
   "cell_type": "code",
   "execution_count": 22,
   "id": "4c62f06f",
   "metadata": {
    "ExecuteTime": {
     "end_time": "2022-08-21T21:10:28.111855Z",
     "start_time": "2022-08-21T21:10:28.017797Z"
    },
    "scrolled": false
   },
   "outputs": [
    {
     "data": {
      "text/html": [
       "<div>\n",
       "<style scoped>\n",
       "    .dataframe tbody tr th:only-of-type {\n",
       "        vertical-align: middle;\n",
       "    }\n",
       "\n",
       "    .dataframe tbody tr th {\n",
       "        vertical-align: top;\n",
       "    }\n",
       "\n",
       "    .dataframe thead th {\n",
       "        text-align: right;\n",
       "    }\n",
       "</style>\n",
       "<table border=\"1\" class=\"dataframe\">\n",
       "  <thead>\n",
       "    <tr style=\"text-align: right;\">\n",
       "      <th></th>\n",
       "      <th>coefficient</th>\n",
       "    </tr>\n",
       "  </thead>\n",
       "  <tbody>\n",
       "    <tr>\n",
       "      <th>intercept</th>\n",
       "      <td>-9.511499</td>\n",
       "    </tr>\n",
       "    <tr>\n",
       "      <th>Bronx</th>\n",
       "      <td>3.113775</td>\n",
       "    </tr>\n",
       "    <tr>\n",
       "      <th>Brooklyn</th>\n",
       "      <td>4.459772</td>\n",
       "    </tr>\n",
       "    <tr>\n",
       "      <th>Manhattan</th>\n",
       "      <td>5.715633</td>\n",
       "    </tr>\n",
       "    <tr>\n",
       "      <th>Queens</th>\n",
       "      <td>4.941597</td>\n",
       "    </tr>\n",
       "    <tr>\n",
       "      <th>Fri</th>\n",
       "      <td>0.108701</td>\n",
       "    </tr>\n",
       "    <tr>\n",
       "      <th>Mon</th>\n",
       "      <td>-0.025219</td>\n",
       "    </tr>\n",
       "    <tr>\n",
       "      <th>Sat</th>\n",
       "      <td>0.042180</td>\n",
       "    </tr>\n",
       "    <tr>\n",
       "      <th>Thu</th>\n",
       "      <td>-0.125688</td>\n",
       "    </tr>\n",
       "    <tr>\n",
       "      <th>Sun</th>\n",
       "      <td>0.068507</td>\n",
       "    </tr>\n",
       "    <tr>\n",
       "      <th>Tue</th>\n",
       "      <td>-0.052483</td>\n",
       "    </tr>\n",
       "    <tr>\n",
       "      <th>Morning</th>\n",
       "      <td>0.908181</td>\n",
       "    </tr>\n",
       "  </tbody>\n",
       "</table>\n",
       "</div>"
      ],
      "text/plain": [
       "           coefficient\n",
       "intercept    -9.511499\n",
       "Bronx         3.113775\n",
       "Brooklyn      4.459772\n",
       "Manhattan     5.715633\n",
       "Queens        4.941597\n",
       "Fri           0.108701\n",
       "Mon          -0.025219\n",
       "Sat           0.042180\n",
       "Thu          -0.125688\n",
       "Sun           0.068507\n",
       "Tue          -0.052483\n",
       "Morning       0.908181"
      ]
     },
     "execution_count": 22,
     "metadata": {},
     "output_type": "execute_result"
    }
   ],
   "source": [
    "# Access coefficients\n",
    "\n",
    "# 'EWR', 'Sun', 'Night' are not included as they are the reference group\n",
    "coef_cols = ['Bronx', 'Brooklyn','Manhattan', 'Queens', \n",
    "             'Fri', 'Mon', 'Sat', 'Thu', 'Sun', 'Tue', \n",
    "             'Morning']\n",
    "\n",
    "pd.DataFrame(\n",
    "    data=[lm.intercept] + list(lm.coefficients),\n",
    "    index=['intercept'] + coef_cols,\n",
    "    columns=['coefficient']\n",
    ")"
   ]
  },
  {
   "cell_type": "code",
   "execution_count": 23,
   "id": "2e44b0ae",
   "metadata": {
    "ExecuteTime": {
     "end_time": "2022-08-21T21:10:28.278778Z",
     "start_time": "2022-08-21T21:10:28.249481Z"
    }
   },
   "outputs": [],
   "source": [
    "# Test on test data and check error analysis MAE and R^2\n",
    "fare_pred = lm.transform(sdf_model_pred)"
   ]
  },
  {
   "cell_type": "code",
   "execution_count": 24,
   "id": "d75c7ac7",
   "metadata": {
    "ExecuteTime": {
     "end_time": "2022-08-21T21:10:28.471054Z",
     "start_time": "2022-08-21T21:10:28.462071Z"
    }
   },
   "outputs": [
    {
     "data": {
      "text/plain": [
       "0.9698785723155844"
      ]
     },
     "execution_count": 24,
     "metadata": {},
     "output_type": "execute_result"
    }
   ],
   "source": [
    "# Get r-squared\n",
    "lm.summary.r2adj"
   ]
  },
  {
   "cell_type": "code",
   "execution_count": 25,
   "id": "8c8b36eb",
   "metadata": {
    "ExecuteTime": {
     "end_time": "2022-08-21T21:10:30.254870Z",
     "start_time": "2022-08-21T21:10:30.246178Z"
    }
   },
   "outputs": [
    {
     "data": {
      "text/plain": [
       "0.26928787151265204"
      ]
     },
     "execution_count": 25,
     "metadata": {},
     "output_type": "execute_result"
    }
   ],
   "source": [
    "# Get the mean absolute error\n",
    "lm.summary.meanAbsoluteError"
   ]
  }
 ],
 "metadata": {
  "kernelspec": {
   "display_name": "Python 3",
   "language": "python",
   "name": "python3"
  },
  "language_info": {
   "codemirror_mode": {
    "name": "ipython",
    "version": 3
   },
   "file_extension": ".py",
   "mimetype": "text/x-python",
   "name": "python",
   "nbconvert_exporter": "python",
   "pygments_lexer": "ipython3",
   "version": "3.8.8"
  },
  "toc": {
   "base_numbering": 1,
   "nav_menu": {},
   "number_sections": true,
   "sideBar": true,
   "skip_h1_title": false,
   "title_cell": "Table of Contents",
   "title_sidebar": "Contents",
   "toc_cell": false,
   "toc_position": {},
   "toc_section_display": true,
   "toc_window_display": false
  }
 },
 "nbformat": 4,
 "nbformat_minor": 5
}
